{
 "metadata": {
  "language_info": {
   "codemirror_mode": {
    "name": "ipython",
    "version": 3
   },
   "file_extension": ".py",
   "mimetype": "text/x-python",
   "name": "python",
   "nbconvert_exporter": "python",
   "pygments_lexer": "ipython3",
   "version": "3.8.5"
  },
  "orig_nbformat": 2,
  "kernelspec": {
   "name": "python385jvsc74a57bd04f5fd65116d98c778731dcaf9e4b589b7136819a97f5eed575b66b67955b7fbe",
   "display_name": "Python 3.8.5 64-bit ('base': conda)"
  }
 },
 "nbformat": 4,
 "nbformat_minor": 2,
 "cells": [
  {
   "source": [
    "Documentação\n",
    "https://docs.microsoft.com/en-us/python/api/overview/azure/storage-blob-readme?view=azure-python\n",
    "https://docs.microsoft.com/en-us/python/api/azure-storage-blob/azure.storage.blob.blobclient?view=azure-python\n"
   ],
   "cell_type": "markdown",
   "metadata": {}
  },
  {
   "source": [
    "Importação dos pacotes"
   ],
   "cell_type": "markdown",
   "metadata": {}
  },
  {
   "cell_type": "code",
   "execution_count": 66,
   "metadata": {},
   "outputs": [],
   "source": [
    "import pyodbc as PDB  # Drive para conexão com banco de dados\n",
    "import pandas  as pd\n",
    "import sys\n",
    "import os\n",
    "import traceback\n",
    "import json"
   ]
  },
  {
   "source": [
    "Pacotes do Azure storage\n"
   ],
   "cell_type": "markdown",
   "metadata": {}
  },
  {
   "cell_type": "code",
   "execution_count": 177,
   "metadata": {},
   "outputs": [
    {
     "output_type": "error",
     "ename": "SyntaxError",
     "evalue": "invalid syntax (<ipython-input-177-d025e5e1d416>, line 2)",
     "traceback": [
      "\u001b[1;36m  File \u001b[1;32m\"<ipython-input-177-d025e5e1d416>\"\u001b[1;36m, line \u001b[1;32m2\u001b[0m\n\u001b[1;33m    import azure-storage-blob\u001b[0m\n\u001b[1;37m                ^\u001b[0m\n\u001b[1;31mSyntaxError\u001b[0m\u001b[1;31m:\u001b[0m invalid syntax\n"
     ]
    }
   ],
   "source": [
    "pip install azure-storage-blob\n"
   ]
  },
  {
   "cell_type": "code",
   "execution_count": 67,
   "metadata": {},
   "outputs": [],
   "source": [
    "from azure.storage.blob import BlobServiceClient, BlobClient, ContainerClient, __version__"
   ]
  },
  {
   "cell_type": "code",
   "execution_count": 68,
   "metadata": {},
   "outputs": [
    {
     "output_type": "stream",
     "name": "stdout",
     "text": [
      "Azure Blob Storage v12.8.0 - Python quickstart sample\n"
     ]
    }
   ],
   "source": [
    "print(\"Azure Blob Storage v\" + __version__ + \" - Python quickstart sample\")"
   ]
  },
  {
   "source": [
    "Conexão com o sql server\n"
   ],
   "cell_type": "markdown",
   "metadata": {}
  },
  {
   "cell_type": "code",
   "execution_count": 180,
   "metadata": {},
   "outputs": [],
   "source": []
  },
  {
   "cell_type": "code",
   "execution_count": 69,
   "metadata": {},
   "outputs": [],
   "source": [
    "\n",
    "config_file = open(r\"D:\\Ondrive\\OneDrive - Implanta Informatica\\credenciais.json\")\n",
    "\n",
    "config_storage = open(r\"D:\\Ondrive\\OneDrive - Implanta Informatica\\storage.json\")\n",
    "\n",
    "config_sql = json.load(config_file)\n",
    "\n",
    "config_storage = json.load(config_storage)\n",
    "\n"
   ]
  },
  {
   "cell_type": "code",
   "execution_count": 78,
   "metadata": {},
   "outputs": [],
   "source": [
    "server = config_sql[\"Servidores\"][0][\"server\"]\n",
    "database = '15-implanta'\n",
    "username = config_sql[\"Servidores\"][0][\"username\"]\n",
    "password = config_sql[\"Servidores\"][0][\"password\"]\n",
    "driver= '{ODBC Driver 17 for SQL Server}'\n",
    "\n",
    "\n"
   ]
  },
  {
   "source": [
    "Metodos auxiliares"
   ],
   "cell_type": "markdown",
   "metadata": {}
  },
  {
   "cell_type": "code",
   "execution_count": 79,
   "metadata": {},
   "outputs": [],
   "source": [
    "def get_conectionOnDatabase(driver,server,database,username,password):\n",
    "    _conexao = PDB.connect('DRIVER='+driver+';SERVER='+server+';PORT=1433;DATABASE='+database+';UID='+username+';PWD='+ password)\n",
    "    return _conexao"
   ]
  },
  {
   "cell_type": "code",
   "execution_count": 80,
   "metadata": {},
   "outputs": [],
   "source": [
    "conexao =get_conectionOnDatabase(driver,server,database,username,password)"
   ]
  },
  {
   "cell_type": "code",
   "execution_count": null,
   "metadata": {},
   "outputs": [],
   "source": [
    "Executa a query para recuperar os dados "
   ]
  },
  {
   "cell_type": "code",
   "execution_count": 81,
   "metadata": {},
   "outputs": [],
   "source": [
    "SQL_Query = pd.read_sql_query(\n",
    "'''SELECT  Top 10\n",
    "       AA.IdArquivoAnexo,\n",
    "       AA.IdEntidade,\n",
    "       AA.Entidade,\n",
    "       AA.Nome,\n",
    "       AA.ContentType,\n",
    "       AA.UrlStorageExterno,\n",
    "       AA.NomeIdentificadorStorageExterno\n",
    "  FROM Sistema.ArquivosAnexos AS AA\n",
    " \n",
    "''', conexao)\n",
    "\n",
    "conexao.close()"
   ]
  },
  {
   "source": [
    "Monta o dataframe"
   ],
   "cell_type": "markdown",
   "metadata": {}
  },
  {
   "cell_type": "code",
   "execution_count": 83,
   "metadata": {},
   "outputs": [],
   "source": [
    "registros = pd.DataFrame(SQL_Query, columns=['IdArquivoAnexo','IdEntidade','Entidade','Nome','ContentType','UrlStorageExterno','NomeIdentificadorStorageExterno'])\n",
    "\n",
    "registros.set_index('IdArquivoAnexo',inplace=True)"
   ]
  },
  {
   "source": [
    "Visualiza uma amostra"
   ],
   "cell_type": "markdown",
   "metadata": {}
  },
  {
   "cell_type": "code",
   "execution_count": 84,
   "metadata": {},
   "outputs": [
    {
     "output_type": "error",
     "ename": "ValueError",
     "evalue": "a must be greater than 0 unless no samples are taken",
     "traceback": [
      "\u001b[1;31m---------------------------------------------------------------------------\u001b[0m",
      "\u001b[1;31mValueError\u001b[0m                                Traceback (most recent call last)",
      "\u001b[1;32m<ipython-input-84-2e5998f2475f>\u001b[0m in \u001b[0;36m<module>\u001b[1;34m\u001b[0m\n\u001b[1;32m----> 1\u001b[1;33m \u001b[0mregistros\u001b[0m\u001b[1;33m.\u001b[0m\u001b[0msample\u001b[0m\u001b[1;33m(\u001b[0m\u001b[1;36m5\u001b[0m\u001b[1;33m)\u001b[0m\u001b[1;33m\u001b[0m\u001b[1;33m\u001b[0m\u001b[0m\n\u001b[0m",
      "\u001b[1;32m~\\Anaconda3\\lib\\site-packages\\pandas\\core\\generic.py\u001b[0m in \u001b[0;36msample\u001b[1;34m(self, n, frac, replace, weights, random_state, axis)\u001b[0m\n\u001b[0;32m   4991\u001b[0m             )\n\u001b[0;32m   4992\u001b[0m \u001b[1;33m\u001b[0m\u001b[0m\n\u001b[1;32m-> 4993\u001b[1;33m         \u001b[0mlocs\u001b[0m \u001b[1;33m=\u001b[0m \u001b[0mrs\u001b[0m\u001b[1;33m.\u001b[0m\u001b[0mchoice\u001b[0m\u001b[1;33m(\u001b[0m\u001b[0maxis_length\u001b[0m\u001b[1;33m,\u001b[0m \u001b[0msize\u001b[0m\u001b[1;33m=\u001b[0m\u001b[0mn\u001b[0m\u001b[1;33m,\u001b[0m \u001b[0mreplace\u001b[0m\u001b[1;33m=\u001b[0m\u001b[0mreplace\u001b[0m\u001b[1;33m,\u001b[0m \u001b[0mp\u001b[0m\u001b[1;33m=\u001b[0m\u001b[0mweights\u001b[0m\u001b[1;33m)\u001b[0m\u001b[1;33m\u001b[0m\u001b[1;33m\u001b[0m\u001b[0m\n\u001b[0m\u001b[0;32m   4994\u001b[0m         \u001b[1;32mreturn\u001b[0m \u001b[0mself\u001b[0m\u001b[1;33m.\u001b[0m\u001b[0mtake\u001b[0m\u001b[1;33m(\u001b[0m\u001b[0mlocs\u001b[0m\u001b[1;33m,\u001b[0m \u001b[0maxis\u001b[0m\u001b[1;33m=\u001b[0m\u001b[0maxis\u001b[0m\u001b[1;33m)\u001b[0m\u001b[1;33m\u001b[0m\u001b[1;33m\u001b[0m\u001b[0m\n\u001b[0;32m   4995\u001b[0m \u001b[1;33m\u001b[0m\u001b[0m\n",
      "\u001b[1;32mmtrand.pyx\u001b[0m in \u001b[0;36mnumpy.random.mtrand.RandomState.choice\u001b[1;34m()\u001b[0m\n",
      "\u001b[1;31mValueError\u001b[0m: a must be greater than 0 unless no samples are taken"
     ]
    }
   ],
   "source": [
    "registros.sample(5)"
   ]
  },
  {
   "source": [
    "conecta no azure storage acouunt"
   ],
   "cell_type": "markdown",
   "metadata": {}
  },
  {
   "cell_type": "code",
   "execution_count": 85,
   "metadata": {},
   "outputs": [],
   "source": [
    "\n",
    "connect_str_to_storage =config_storage[\"Storages\"][0][\"acesso\"]\n",
    "accountKey =config_storage[\"Storages\"][0][\"AccountKey\"]\n",
    "\n",
    "\n",
    "local_path =r'D:/Wesley/ArquivosAnexos'"
   ]
  },
  {
   "cell_type": "code",
   "execution_count": 86,
   "metadata": {},
   "outputs": [],
   "source": [
    "blob_service_client = BlobServiceClient.from_connection_string(connect_str_to_storage)\n",
    "\n",
    "container_client = blob_service_client.get_container_client(\"oab-ba\")"
   ]
  },
  {
   "source": [
    "Executa o foreach para recuperar cada arquivo"
   ],
   "cell_type": "markdown",
   "metadata": {}
  },
  {
   "cell_type": "code",
   "execution_count": null,
   "metadata": {},
   "outputs": [],
   "source": [
    "blob_list = container_client.list_blobs()"
   ]
  },
  {
   "cell_type": "code",
   "execution_count": 187,
   "metadata": {},
   "outputs": [],
   "source": [
    "for index, row in registros.iterrows():\n",
    "    nome_arquivo = row[\"UrlStorageExterno\"]\n",
    "    \n",
    "    # Instantiate a new BlobClient\n",
    "    # blob_client = container_client.get_blob_client(nome_arquivo)\n",
    "    from azure.storage.blob import BlobClient\n",
    "    blob_client = BlobClient.from_blob_url(blob_url=nome_arquivo,credential =accountKey)\n",
    "    \n",
    "    if(blob_client.exists()):\n",
    "        file_name  =blob_client.blob_name\n",
    "\n",
    "        file_name_origin = file_name[(file_name.rfind(\"/\")+1):]\n",
    "    \n",
    "    \n",
    "        target_diretorio = local_path +'/'+(str(index)+'='+file_name_origin)\n",
    "\n",
    "\n",
    "        with open(target_diretorio, \"wb\") as my_blob:\n",
    "            download_stream = blob_client.download_blob()\n",
    "            my_blob.write(download_stream.readall())\n",
    "\n",
    "\n",
    "\n",
    "#\n"
   ]
  }
 ]
}