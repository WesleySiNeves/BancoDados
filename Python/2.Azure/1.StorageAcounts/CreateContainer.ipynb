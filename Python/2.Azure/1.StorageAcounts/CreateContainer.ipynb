{
 "metadata": {
  "language_info": {
   "codemirror_mode": {
    "name": "ipython",
    "version": 3
   },
   "file_extension": ".py",
   "mimetype": "text/x-python",
   "name": "python",
   "nbconvert_exporter": "python",
   "pygments_lexer": "ipython3",
   "version": "3.8.5"
  },
  "orig_nbformat": 2,
  "kernelspec": {
   "name": "python385jvsc74a57bd04f5fd65116d98c778731dcaf9e4b589b7136819a97f5eed575b66b67955b7fbe",
   "display_name": "Python 3.8.5 64-bit ('base': conda)"
  }
 },
 "nbformat": 4,
 "nbformat_minor": 2,
 "cells": [
  {
   "source": [
    "# importação de backups"
   ],
   "cell_type": "markdown",
   "metadata": {}
  },
  {
   "cell_type": "code",
   "execution_count": 2,
   "metadata": {},
   "outputs": [],
   "source": [
    "import pyodbc as PDB  # Drive para conexão com banco de dados\n",
    "import pandas  as pd\n",
    "import sys\n",
    "import os\n",
    "import traceback\n",
    "import json"
   ]
  },
  {
   "cell_type": "code",
   "execution_count": 3,
   "metadata": {},
   "outputs": [],
   "source": [
    "from azure.storage.blob import BlobServiceClient, BlobClient, ContainerClient, __version__"
   ]
  },
  {
   "cell_type": "code",
   "execution_count": 4,
   "metadata": {},
   "outputs": [
    {
     "output_type": "stream",
     "name": "stdout",
     "text": [
      "Azure Blob Storage v12.8.0 - Python quickstart sample\n"
     ]
    }
   ],
   "source": [
    "print(\"Azure Blob Storage v\" + __version__ + \" - Python quickstart sample\")"
   ]
  },
  {
   "source": [
    "## Importa o arquivo com as configurações\n"
   ],
   "cell_type": "markdown",
   "metadata": {}
  },
  {
   "cell_type": "code",
   "execution_count": 9,
   "metadata": {},
   "outputs": [],
   "source": [
    "datasource = pd.read_excel(r'D:\\Ondrive\\OneDrive - Implanta Informatica\\Migração arquivos Anexos\\GeracaoContainnersStorageAzure.xlsx',sheet_name='registros')"
   ]
  },
  {
   "source": [
    "# Chave dos containers\n",
    "improblob01"
   ],
   "cell_type": "markdown",
   "metadata": {}
  },
  {
   "cell_type": "code",
   "execution_count": 25,
   "metadata": {
    "tags": []
   },
   "outputs": [
    {
     "output_type": "stream",
     "name": "stdout",
     "text": [
      "\ndatabase: cau-al.implanta.net.br  storageAccount: improblob01  Container já existe cau-al\n"
     ]
    }
   ],
   "source": [
    "for index , row in datasource[0:1].iterrows():\n",
    "    database = row[\"banco\"]\n",
    "    container =row[\"Container\"]\n",
    "    storageAccount =  row[\"StorageAccount\"]\n",
    "    connect_str_to_storage = row[\"ConnectionStringAzureStorageArquivosAnexos\"]\n",
    "\n",
    "    blob_service_client = BlobServiceClient.from_connection_string(connect_str_to_storage)\n",
    "\n",
    "    existContainer = blob_service_client.get_container_client(container).exists()\n",
    "\n",
    "    \n",
    "    if(existContainer ==False):\n",
    "        blob_service_client.create_container(container)\n",
    "        print('database:',database,' storageAccount:',storageAccount,' Container Criado',container)\n",
    "    else:\n",
    "         print('database:',database,' storageAccount:',storageAccount,' Container já existe',container)\n",
    "\n",
    "\n",
    "    "
   ]
  }
 ]
}