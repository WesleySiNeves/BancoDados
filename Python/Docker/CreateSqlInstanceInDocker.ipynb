{
    "metadata": {
        "kernelspec": {
            "name": "python3",
            "display_name": "Python 3",
            "language": "python"
        },
        "language_info": {
            "name": "python",
            "version": "3.7.0-final",
            "mimetype": "text/x-python",
            "codemirror_mode": {
                "name": "ipython",
                "version": 3
            },
            "pygments_lexer": "ipython3",
            "nbconvert_exporter": "python",
            "file_extension": ".py"
        }
    },
    "nbformat_minor": 2,
    "nbformat": 4,
    "cells": [
        {
            "source": [
                "##  Cria uma instancia do Sql server na ultima versão , no docker"
            ],
            "cell_type": "markdown",
            "metadata": {}
        },
        {
            "cell_type": "code",
            "source": [
                "!pip install docker --user\r\n",
                "\r\n",
                ""
            ],
            "metadata": {
                "azdata_cell_guid": "f906d42e-bb63-464d-932a-bf1a11e078b7"
            },
            "outputs": [
                {
                    "output_type": "stream",
                    "name": "stdout",
                    "text": [
                        "Requirement already satisfied: docker in c:\\users\\wesley.neves\\appdata\\roaming\\python\\python37\\site-packages (4.4.0)\n",
                        "Requirement already satisfied: pywin32==227; sys_platform == \"win32\" in c:\\users\\wesley.neves\\appdata\\roaming\\python\\python37\\site-packages (from docker) (227)\n",
                        "Requirement already satisfied: six>=1.4.0 in c:\\users\\wesley.neves\\appdata\\local\\continuum\\anaconda3\\lib\\site-packages (from docker) (1.11.0)\n",
                        "Requirement already satisfied: websocket-client>=0.32.0 in c:\\users\\wesley.neves\\appdata\\roaming\\python\\python37\\site-packages (from docker) (0.57.0)\n",
                        "Requirement already satisfied: requests!=2.18.0,>=2.14.2 in c:\\users\\wesley.neves\\appdata\\local\\continuum\\anaconda3\\lib\\site-packages (from docker) (2.19.1)\n",
                        "Requirement already satisfied: urllib3<1.24,>=1.21.1 in c:\\users\\wesley.neves\\appdata\\local\\continuum\\anaconda3\\lib\\site-packages (from requests!=2.18.0,>=2.14.2->docker) (1.23)\n",
                        "Requirement already satisfied: certifi>=2017.4.17 in c:\\users\\wesley.neves\\appdata\\local\\continuum\\anaconda3\\lib\\site-packages (from requests!=2.18.0,>=2.14.2->docker) (2020.6.20)\n",
                        "Requirement already satisfied: chardet<3.1.0,>=3.0.2 in c:\\users\\wesley.neves\\appdata\\local\\continuum\\anaconda3\\lib\\site-packages (from requests!=2.18.0,>=2.14.2->docker) (3.0.4)\n",
                        "Requirement already satisfied: idna<2.8,>=2.5 in c:\\users\\wesley.neves\\appdata\\local\\continuum\\anaconda3\\lib\\site-packages (from requests!=2.18.0,>=2.14.2->docker) (2.7)\n",
                        "WARNING: You are using pip version 20.2.3; however, version 20.2.4 is available.\n",
                        "You should consider upgrading via the 'c:\\users\\wesley.neves\\appdata\\local\\continuum\\anaconda3\\python.exe -m pip install --upgrade pip' command.\n"
                    ]
                }
            ],
            "execution_count": 1
        },
        {
            "cell_type": "code",
            "source": [
                "import docker as d\r\n",
                "\r\n",
                "\r\n"
            ],
            "metadata": {
                "azdata_cell_guid": "e7b3c13f-4ab8-41fd-ba13-eb9ccdb97b6a"
            },
            "outputs": [],
            "execution_count": 8
        },
        {
            "cell_type": "code",
            "execution_count": 16,
            "metadata": {},
            "outputs": [
                {
                    "output_type": "stream",
                    "name": "stdout",
                    "text": [
                        "b''\n"
                    ]
                }
            ],
            "source": [
                "def start_sql_instance():\n",
                "    connection =d.from_env()\n",
                "\n",
                "    sql_container = connection.containers.run(\n",
                "        \"mcr.microsoft.com/mssql/server:2019-latest\",\n",
                "        detach= True,\n",
                "        environment  =[\"ACCEPT_EULA=Y\",\"SA_PASSWORD=P@ssWord\"],\n",
                "        ports= {'1433/tcp':1438},\n",
                "        name =\"SQLContainer\"\n",
                "\n",
                "    )\n",
                "    print(sql_container.logs())\n",
                "\n",
                "start_sql_instance()"
            ]
        }
    ]
}