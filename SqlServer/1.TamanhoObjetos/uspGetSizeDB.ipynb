{
    "metadata": {
        "kernelspec": {
            "name": "SQL",
            "display_name": "SQL",
            "language": "sql"
        },
        "language_info": {
            "name": "sql",
            "version": ""
        }
    },
    "nbformat_minor": 2,
    "nbformat": 4,
    "cells": [
        {
            "cell_type": "markdown",
            "source": [
                "Codigo que cria uma tabela para armazenar o tamanho do banco de dados"
            ],
            "metadata": {
                "azdata_cell_guid": "4330d647-2e0e-43ac-ad86-64b1e6847cf5"
            }
        },
        {
            "cell_type": "code",
            "source": [
                "IF (NOT EXISTS (SELECT * FROM sys.tables WHERE NAME = 'SizeDBHistory'))\r\n",
                "BEGIN\r\n",
                "\r\n",
                "\r\n",
                "    CREATE TABLE [HealthCheck].[SizeDBHistory]\r\n",
                "    (\r\n",
                "        [IdSizeDBHistory] [INT] NOT NULL IDENTITY(1, 1),\r\n",
                "        [DataBaseName] [VARCHAR](128) COLLATE Latin1_General_CI_AI NULL,\r\n",
                "        [Data] [DATE] NOT NULL\r\n",
                "            CONSTRAINT [HealthCheckSizeDBHistoryData]\r\n",
                "                DEFAULT (CONVERT([DATE], GETDATE())),\r\n",
                "        [SizeInGB] [DECIMAL](18, 2) NULL,\r\n",
                "        [DatabaseSpaceUsedInGB] [DECIMAL](18, 2) NULL,\r\n",
                "        [DatabaseSpaceNonUsedInGB] [DECIMAL](18, 2) NULL\r\n",
                "    ) ON [PRIMARY]\r\n",
                "    WITH (DATA_COMPRESSION = PAGE);\r\n",
                "\r\n",
                "\r\n",
                "    ALTER TABLE [HealthCheck].[SizeDBHistory]\r\n",
                "    ADD CONSTRAINT [PKHealthSizeDBHistoryIdSizeDBHistory]\r\n",
                "        PRIMARY KEY CLUSTERED ([IdSizeDBHistory])\r\n",
                "        WITH (DATA_COMPRESSION = PAGE);\r\n",
                "\r\n",
                "\r\n",
                "END\r\n",
                ""
            ],
            "metadata": {
                "azdata_cell_guid": "6162e8c0-d6e5-4cc1-a729-3dd1b202ec87",
                "tags": []
            },
            "outputs": [
                {
                    "output_type": "display_data",
                    "data": {
                        "text/html": "Commands completed successfully."
                    },
                    "metadata": {}
                },
                {
                    "output_type": "display_data",
                    "data": {
                        "text/html": "Total execution time: 00:00:00.052"
                    },
                    "metadata": {}
                }
            ],
            "execution_count": 1
        },
        {
            "cell_type": "code",
            "source": [
                "SET QUOTED_IDENTIFIER ON;\r\n",
                "\r\n",
                "SET ANSI_NULLS ON;\r\n",
                "GO\r\n",
                "\r\n",
                "\r\n",
                " \r\n",
                "\r\n",
                "\r\n",
                "--HealthCheck.uspGetSizeDB @typeFile ='All'\r\n",
                "\r\n",
                "CREATE OR ALTER PROCEDURE HealthCheck.uspGetSizeDB\r\n",
                "(\r\n",
                "    @tableOnSave VARCHAR(128) = 'HealthCheck.SizeDBHistory',\r\n",
                "    @persisted   BIT          = 0,\r\n",
                "    @typeFile    VARCHAR(5)   = 'ROWS'\r\n",
                ")\r\n",
                "AS\r\n",
                "    BEGIN\r\n",
                "\r\n",
                "        --DECLARE @tableOnSave VARCHAR(128) = 'HealthCheck.SizeDBHistory'\r\n",
                "        --DECLARE @persisted BIT = 0;\r\n",
                "        --DECLARE @typeFile VARCHAR(5) = 'All'; --'All / ROWS/ LOG'\r\n",
                "        DROP TABLE IF EXISTS #SizeOfDB;\r\n",
                "\r\n",
                "        CREATE TABLE #SizeOfDB\r\n",
                "        (\r\n",
                "            [DataBaseName]             NVARCHAR(128),\r\n",
                "            [type_desc]                NVARCHAR(60),\r\n",
                "            [SizeInGB]                 DECIMAL(18, 2),\r\n",
                "            [DatabaseSpaceUsedInGB]    DECIMAL(18, 2),\r\n",
                "            [DatabaseSpaceNonUsedInGB] DECIMAL(18, 2)\r\n",
                "        );\r\n",
                "\r\n",
                "        WITH Dados\r\n",
                "            AS\r\n",
                "            (\r\n",
                "                SELECT DB_NAME(DB_ID()) AS DataBaseName,\r\n",
                "                       file_id,\r\n",
                "                       name FileName,\r\n",
                "                       type_desc,\r\n",
                "                       CAST((ISNULL((SUM(S.size * 8192.) / 1024 / 1024 / 1024), 0)) AS DECIMAL(18, 2)) SizeInGB,\r\n",
                "                       CAST((ISNULL(SUM(CAST(FILEPROPERTY(name, 'SpaceUsed') AS bigint) * 8192.), 0)) AS decimal(18, 2)) AS DatabaseSpaceUsedInBytes,\r\n",
                "                       CAST((ISNULL((SUM(CAST(FILEPROPERTY(NAME, 'SpaceUsed') AS bigint) * 8192.) / 1024 / 1024), 0)) AS decimal(18, 2)) AS DatabaseSpaceUsedInMB,\r\n",
                "                       CAST((ISNULL((SUM(CAST(FILEPROPERTY(NAME, 'SpaceUsed') AS bigint) * 8192.) / 1024 / 1024 / 1024), 0)) AS decimal(18, 2)) AS DatabaseSSpaceUsedInGB\r\n",
                "                  FROM sys.database_files S\r\n",
                "                 GROUP BY\r\n",
                "                    FILE_ID,\r\n",
                "                    NAME,\r\n",
                "                    type_desc\r\n",
                "            ),\r\n",
                "             Detalhes\r\n",
                "            AS\r\n",
                "            (\r\n",
                "                SELECT DataBaseName = DA.name,\r\n",
                "                       D.type_desc,\r\n",
                "                       D.SizeInGB,\r\n",
                "                       CAST(D.DatabaseSSpaceUsedInGB AS DECIMAL(18, 2)) AS DatabaseSpaceUsedInGB,\r\n",
                "                       DatabaseSpaceNonUsedInGB = CAST((ROUND((D.SizeInGB - CAST(D.DatabaseSSpaceUsedInGB AS DECIMAL(18, 2))), 2)) AS DECIMAL(18, 2))\r\n",
                "                  FROM Dados D\r\n",
                "                       JOIN sys.databases DA ON D.DataBaseName = DA.name\r\n",
                "            )\r\n",
                "        INSERT INTO #SizeOfDB SELECT * FROM Detalhes R;\r\n",
                "\r\n",
                "        IF(@persisted = 1 AND LEN(@tableOnSave) > 0)\r\n",
                "            BEGIN\r\n",
                "                INSERT INTO HealthCheck.SizeDBHistory(\r\n",
                "                                                         DataBaseName,\r\n",
                "                                                         SizeInGB,\r\n",
                "                                                         DatabaseSpaceUsedInGB,\r\n",
                "                                                         DatabaseSpaceNonUsedInGB\r\n",
                "                                                     )\r\n",
                "                SELECT SOD.DataBaseName,\r\n",
                "                       SOD.SizeInGB,\r\n",
                "                       SOD.DatabaseSpaceUsedInGB,\r\n",
                "                       SOD.DatabaseSpaceNonUsedInGB\r\n",
                "                  FROM #SizeOfDB AS SOD\r\n",
                "                 WHERE\r\n",
                "                    SOD.type_desc = 'ROWS';\r\n",
                "            END;\r\n",
                "\r\n",
                "        SELECT *\r\n",
                "          FROM #SizeOfDB AS SOD\r\n",
                "         WHERE\r\n",
                "            @typeFile = 'ALL'\r\n",
                "            OR (SOD.type_desc = @typeFile);\r\n",
                "    END;\r\n",
                ""
            ],
            "metadata": {
                "azdata_cell_guid": "ec772bf9-f94f-4c3f-ad8a-2ef47471b618"
            },
            "outputs": [
                {
                    "output_type": "display_data",
                    "data": {
                        "text/html": "Commands completed successfully."
                    },
                    "metadata": {}
                },
                {
                    "output_type": "display_data",
                    "data": {
                        "text/html": "Commands completed successfully."
                    },
                    "metadata": {}
                },
                {
                    "output_type": "display_data",
                    "data": {
                        "text/html": "Total execution time: 00:00:00.303"
                    },
                    "metadata": {}
                }
            ],
            "execution_count": 2
        }
    ]
}