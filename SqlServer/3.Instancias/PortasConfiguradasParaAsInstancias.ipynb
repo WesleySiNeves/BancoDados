{
    "metadata": {
        "kernelspec": {
            "name": "SQL",
            "display_name": "SQL",
            "language": "sql"
        },
        "language_info": {
            "name": "sql",
            "version": ""
        }
    },
    "nbformat_minor": 2,
    "nbformat": 4,
    "cells": [
        {
            "cell_type": "markdown",
            "source": [
                "Recupera as portas onde o Sql server está escutando"
            ],
            "metadata": {
                "azdata_cell_guid": "bdfe79cd-07eb-495c-bc66-e9815c368dde"
            }
        },
        {
            "cell_type": "code",
            "source": [
                "USE master\r\n",
                "GO\r\n",
                "xp_readerrorlog 0, 1, N'Server is listening on' \r\n",
                "GO"
            ],
            "metadata": {
                "azdata_cell_guid": "04bdbe20-8ef3-45a5-96b1-1a89cd50fd7b"
            },
            "outputs": [],
            "execution_count": null
        }
    ]
}