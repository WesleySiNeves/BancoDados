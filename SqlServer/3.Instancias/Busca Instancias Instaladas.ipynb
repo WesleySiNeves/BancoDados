{
    "metadata": {
        "kernelspec": {
            "name": "SQL",
            "display_name": "SQL",
            "language": "sql"
        },
        "language_info": {
            "name": "sql",
            "version": ""
        }
    },
    "nbformat_minor": 2,
    "nbformat": 4,
    "cells": [
        {
            "cell_type": "markdown",
            "source": [
                "#<b>Script para recuperar as instancias instaladas em um ambiente on-primesse</b>"
            ],
            "metadata": {
                "azdata_cell_guid": "dd877f91-141a-42e4-97aa-409f3002adfe"
            }
        },
        {
            "cell_type": "code",
            "source": [
                "\r\n",
                "\r\n",
                "EXECUTE sys.xp_regread @rootkey = 'HKEY_LOCAL_MACHINE',\r\n",
                "                       @key = 'SOFTWARE\\Microsoft\\Microsoft SQL Server',\r\n",
                "                       @value_name = 'InstalledInstances';"
            ],
            "metadata": {
                "azdata_cell_guid": "f0346d45-7903-44c7-84f3-b6d96a96d386"
            },
            "outputs": [],
            "execution_count": null
        }
    ]
}