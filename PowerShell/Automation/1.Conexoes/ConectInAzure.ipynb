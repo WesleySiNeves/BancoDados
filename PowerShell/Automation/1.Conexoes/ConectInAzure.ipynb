{
    "metadata": {
        "kernelspec": {
            "name": "powershell",
            "display_name": "PowerShell",
            "language": "powershell"
        },
        "language_info": {
            "name": "powershell",
            "codemirror_mode": "shell",
            "mimetype": "text/x-sh",
            "file_extension": ".ps1"
        }
    },
    "nbformat_minor": 2,
    "nbformat": 4,
    "cells": [
        {
            "cell_type": "code",
            "source": [
                "$PSVersionTable.PSVersion"
            ],
            "metadata": {
                "azdata_cell_guid": "d09ed73a-45ff-4a64-babc-48c6cc08df07"
            },
            "outputs": [
                {
                    "name": "stdout",
                    "text": "\nMajor  Minor  Build  Revision\n-----  -----  -----  --------\n5      1      18362  752     \n\n\n",
                    "output_type": "stream"
                }
            ],
            "execution_count": 2
        }
    ]
}