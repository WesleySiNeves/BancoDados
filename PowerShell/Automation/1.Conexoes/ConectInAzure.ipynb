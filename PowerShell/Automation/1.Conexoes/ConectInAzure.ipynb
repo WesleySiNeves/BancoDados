{
    "metadata": {
        "kernelspec": {
            "name": "powershell",
            "display_name": "PowerShell",
            "language": "powershell"
        },
        "language_info": {
            "name": "powershell",
            "codemirror_mode": "shell",
            "mimetype": "text/x-sh",
            "file_extension": ".ps1"
        }
    },
    "nbformat_minor": 2,
    "nbformat": 4,
    "cells": [
        {
            "cell_type": "code",
            "source": [
                "$PSVersionTable.PSVersion"
            ],
            "metadata": {
                "azdata_cell_guid": "d09ed73a-45ff-4a64-babc-48c6cc08df07"
            },
            "outputs": [
                {
                    "output_type": "stream",
                    "name": "stdout",
                    "text": "\nMajor  Minor  Build  Revision\n-----  -----  -----  --------\n5      1      18362  752     \n\n\n"
                }
            ],
            "execution_count": 2
        },
        {
            "cell_type": "markdown",
            "source": [
                "  \n",
                "\n",
                "# Install Azure PowerShell"
            ],
            "metadata": {
                "azdata_cell_guid": "ef68cd71-4c65-4465-9f74-0a5448592fa2"
            }
        },
        {
            "cell_type": "code",
            "source": [
                "if ($PSVersionTable.PSEdition -eq 'Desktop' -and (Get-Module -Name AzureRM -ListAvailable)) {\n",
                "    Write-Warning -Message ('Az module not installed. Having both the AzureRM and ' +\n",
                "      'Az modules installed at the same time is not supported.')\n",
                "} else {\n",
                "    Install-Module -Name Az -AllowClobber -Scope CurrentUser\n",
                "}"
            ],
            "metadata": {
                "azdata_cell_guid": "e90db499-374c-4450-9858-17c8273d48ce"
            },
            "outputs": [
                {
                    "name": "stdout",
                    "text": "AVISO: User declined to install module (Az).\n. {\n>> if ($PSVersionTable.PSEdition -eq 'Desktop' -and (Get-Module -Name AzureRM -ListAvailable)) {\n>>     Write-Warning -Message ('Az module not installed. Having both the AzureRM and ' +\n>>       'Az modules installed at the same time is not supported.')\n>> } else {\n>>     Install-Module -Name Az -AllowClobber -Scope CurrentUser\n>> }\n>> }\n>> \n",
                    "output_type": "stream"
                }
            ],
            "execution_count": 3
        },
        {
            "cell_type": "code",
            "source": [
                "Import-Module -Name Az"
            ],
            "metadata": {
                "azdata_cell_guid": "f3564d8b-1655-49ac-aef3-90296efd49f9"
            },
            "outputs": [
                {
                    "name": "stdout",
                    "text": "",
                    "output_type": "stream"
                }
            ],
            "execution_count": 7
        },
        {
            "cell_type": "code",
            "source": [
                "$tenantId = '5d512ad1-5a13-466d-ac3e-8b4368dbc1b6'\n"
            ],
            "metadata": {
                "azdata_cell_guid": "424242d2-4ddf-4125-8d4d-d6124cf00b72",
                "tags": [
                    "hide_input"
                ]
            },
            "outputs": [
                {
                    "output_type": "error",
                    "ename": "Error",
                    "evalue": "The kernel died. View Jupyter [log](command:jupyter.viewOutput) for further details. \nError: C:\\Users\\wesley.neves\\Anaconda3\\python.exe: No module named powershell_kernel\r\n...",
                    "traceback": [
                        "Error:",
                        "at new t.WrappedError (c:\\Users\\wesley.neves\\.vscode\\extensions\\ms-toolsai.jupyter-2021.3.619093157\\out\\client\\extension.js:1:152610)",
                        "at new i (c:\\Users\\wesley.neves\\.vscode\\extensions\\ms-toolsai.jupyter-2021.3.619093157\\out\\client\\extension.js:1:206850)",
                        "at _.launch (c:\\Users\\wesley.neves\\.vscode\\extensions\\ms-toolsai.jupyter-2021.3.619093157\\out\\client\\extension.js:49:633669)",
                        "at runMicrotasks (<anonymous>)",
                        "at processTicksAndRejections (internal/process/task_queues.js:97:5)",
                        "Error: Kernel process Exited",
                        "at ChildProcess.<anonymous> (c:\\Users\\wesley.neves\\.vscode\\extensions\\ms-toolsai.jupyter-2021.3.619093157\\out\\client\\extension.js:49:632240)",
                        "at ChildProcess.emit (events.js:327:22)",
                        "at ChildProcess.EventEmitter.emit (domain.js:483:12)",
                        "at Process.ChildProcess._handle.onexit (internal/child_process.js:275:12)"
                    ]
                }
            ],
            "execution_count": 25
        },
        {
            "cell_type": "code",
            "source": [],
            "metadata": {
                "azdata_cell_guid": "8885c6ba-a237-4a57-80c5-85c67fe73e8c"
            },
            "outputs": [
                {
                    "output_type": "error",
                    "ename": "Error",
                    "evalue": "The kernel died. View Jupyter [log](command:jupyter.viewOutput) for further details. \nError: C:\\Users\\wesley.neves\\Anaconda3\\python.exe: No module named powershell_kernel\r\n...",
                    "traceback": [
                        "Error:",
                        "at new t.WrappedError (c:\\Users\\wesley.neves\\.vscode\\extensions\\ms-toolsai.jupyter-2021.3.619093157\\out\\client\\extension.js:1:152610)",
                        "at new i (c:\\Users\\wesley.neves\\.vscode\\extensions\\ms-toolsai.jupyter-2021.3.619093157\\out\\client\\extension.js:1:206850)",
                        "at _.launch (c:\\Users\\wesley.neves\\.vscode\\extensions\\ms-toolsai.jupyter-2021.3.619093157\\out\\client\\extension.js:49:633669)",
                        "at runMicrotasks (<anonymous>)",
                        "at processTicksAndRejections (internal/process/task_queues.js:97:5)",
                        "Error: Kernel process Exited",
                        "at ChildProcess.<anonymous> (c:\\Users\\wesley.neves\\.vscode\\extensions\\ms-toolsai.jupyter-2021.3.619093157\\out\\client\\extension.js:49:632240)",
                        "at ChildProcess.emit (events.js:327:22)",
                        "at ChildProcess.EventEmitter.emit (domain.js:483:12)",
                        "at Process.ChildProcess._handle.onexit (internal/child_process.js:275:12)"
                    ]
                }
            ],
            "execution_count": 26
        },
        {
            "cell_type": "code",
            "source": [
                "# Connect to Azure with a browser sign in token\n",
                "Connect-AzAccount -Tenant =$tenantId"
            ],
            "metadata": {
                "azdata_cell_guid": "58c227a3-c6e3-4037-a518-e63ca4336ce3"
            },
            "outputs": [
                {
                    "name": "stdout",
                    "text": "Connect-AzAccount : The default context can no longer be found; please run 'Get-AzContext -ListAvailable' to see all \navailable contexts, 'Select-AzContext' to select a new default context, or 'Connect-AzAccount' to login with a new \naccount.\nNo linha:3 caractere:1\n+ Connect-AzAccount -Tenant =$tenantId\n+ ~~~~~~~~~~~~~~~~~~~~~~~~~~~~~~~~~~~~\n    + CategoryInfo          : CloseError: (:) [Connect-AzAccount], PSInvalidOperationException\n    + FullyQualifiedErrorId : Microsoft.Azure.Commands.Profile.ConnectAzureRmAccountCommand\n \n",
                    "output_type": "stream"
                },
                {
                    "name": "stdout",
                    "text": "",
                    "output_type": "stream"
                }
            ],
            "execution_count": 13
        },
        {
            "cell_type": "code",
            "source": [
                "Disconnect-AzAccount -Scope CurrentUser"
            ],
            "metadata": {
                "azdata_cell_guid": "33226f36-8248-4442-8700-ebdf950f5e6c"
            },
            "outputs": [
                {
                    "name": "stdout",
                    "text": "Disconnect-AzAccount : The default context can no longer be found; please run 'Get-AzContext -ListAvailable' to see \nall available contexts, 'Select-AzContext' to select a new default context, or 'Connect-AzAccount' to login with a new \naccount.\nNo linha:2 caractere:1\n+ Disconnect-AzAccount -Scope CurrentUser\n+ ~~~~~~~~~~~~~~~~~~~~~~~~~~~~~~~~~~~~~~~\n    + CategoryInfo          : InvalidOperation: (:) [Disconnect-AzAccount], PSInvalidOperationException\n    + FullyQualifiedErrorId : InvalidOperation,Microsoft.Azure.Commands.Profile.DisconnectAzureRmAccountCommand\n \n",
                    "output_type": "stream"
                }
            ],
            "execution_count": 11
        },
        {
            "cell_type": "code",
            "source": [
                "Get-AzContext -ListAvailable"
            ],
            "metadata": {
                "azdata_cell_guid": "277c4818-211a-4dcb-b0bc-0b0ea1d3fea5"
            },
            "outputs": [
                {
                    "name": "stdout",
                    "text": "\nName                                     Account             SubscriptionName    Environment         TenantId          \n----                                     -------             ----------------    -----------         --------          \nAssinatura do Visual Studio Enterpris... wesley.neves@imp... Assinatura do Vi... AzureCloud          5d512ad1-5a13-4...\nImplanta Principal (b98b628c-0499-416... Wesley.Neves@imp... Implanta Principal  AzureCloud          5627b2ec-37e2-4...\n\n\n",
                    "output_type": "stream"
                }
            ],
            "execution_count": 9
        }
    ]
}