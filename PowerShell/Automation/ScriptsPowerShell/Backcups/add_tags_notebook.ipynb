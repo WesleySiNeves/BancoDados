{
    "metadata": {
        "kernelspec": {
            "name": "powershell",
            "display_name": "PowerShell",
            "language": "powershell"
        },
        "language_info": {
            "name": "powershell",
            "codemirror_mode": "shell",
            "mimetype": "text/x-sh",
            "file_extension": ".ps1"
        }
    },
    "nbformat_minor": 2,
    "nbformat": 4,
    "cells": [
        {
            "cell_type": "code",
            "source": [
                "Connect-AzAccount"
            ],
            "metadata": {
                "azdata_cell_guid": "26e0d672-f64f-4656-9d86-2c2082c5684e"
            },
            "outputs": [
                {
                    "name": "stdout",
                    "text": "Connect-AzAccount : The default context can no longer be found; please run 'Get-AzContext -ListAvailable' to see all \navailable contexts, 'Select-AzContext' to select a new default context, or 'Connect-AzAccount' to login with a new \naccount.\nNo linha:2 caractere:1\n+ Connect-AzAccount\n+ ~~~~~~~~~~~~~~~~~\n    + CategoryInfo          : CloseError: (:) [Connect-AzAccount], PSInvalidOperationException\n    + FullyQualifiedErrorId : Microsoft.Azure.Commands.Profile.ConnectAzureRmAccountCommand\n \n",
                    "output_type": "stream"
                },
                {
                    "name": "stdout",
                    "text": "",
                    "output_type": "stream"
                }
            ],
            "execution_count": 5
        },
        {
            "cell_type": "code",
            "source": [
                "Select-AzContext -"
            ],
            "metadata": {
                "azdata_cell_guid": "520eee3f-e7a0-45ab-81d9-75c24e4038e5"
            },
            "outputs": [
                {
                    "name": "stdout",
                    "text": "Select-AzContext : N■ ■ poss■vel processar o comando porque um ou mais par■metros obrigat■rios est■ ausentes:  \nInputObject.\nNo linha:2 caractere:1\n+ Select-AzContext\n+ ~~~~~~~~~~~~~~~~\n    + CategoryInfo          : InvalidArgument: (:) [Select-AzContext], ParameterBindingException\n    + FullyQualifiedErrorId : MissingMandatoryParameter,Microsoft.Azure.Commands.Profile.Context.SelectAzureRmContext\n \n",
                    "output_type": "stream"
                }
            ],
            "execution_count": 6
        },
        {
            "cell_type": "code",
            "source": [
                "$tenantId\r\n",
                ""
            ],
            "metadata": {
                "azdata_cell_guid": "9489e9a9-98ae-4601-816b-359e322ce599"
            },
            "outputs": [
                {
                    "name": "stdout",
                    "text": "",
                    "output_type": "stream"
                }
            ],
            "execution_count": 4
        }
    ]
}