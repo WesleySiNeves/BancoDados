{
 "metadata": {
  "language_info": {
   "codemirror_mode": {
    "name": "ipython",
    "version": 3
   },
   "file_extension": ".py",
   "mimetype": "text/x-python",
   "name": "python",
   "nbconvert_exporter": "python",
   "pygments_lexer": "ipython3",
   "version": "3.8.5-final"
  },
  "orig_nbformat": 2,
  "kernelspec": {
   "name": "python3",
   "display_name": "Python 3.8.5 64-bit (conda)",
   "metadata": {
    "interpreter": {
     "hash": "4f5fd65116d98c778731dcaf9e4b589b7136819a97f5eed575b66b67955b7fbe"
    }
   }
  }
 },
 "nbformat": 4,
 "nbformat_minor": 2,
 "cells": [
  {
   "source": [
    "Documentação\n",
    "https://docs.microsoft.com/en-us/python/api/overview/azure/storage-blob-readme?view=azure-python\n",
    "https://docs.microsoft.com/en-us/python/api/azure-storage-blob/azure.storage.blob.blobclient?view=azure-python\n"
   ],
   "cell_type": "markdown",
   "metadata": {}
  },
  {
   "source": [
    "Importação dos pacotes"
   ],
   "cell_type": "markdown",
   "metadata": {}
  },
  {
   "cell_type": "code",
   "execution_count": 176,
   "metadata": {},
   "outputs": [],
   "source": [
    "import pyodbc as PDB  # Drive para conexão com banco de dados\n",
    "import pandas  as pd\n",
    "import sys\n",
    "import os\n",
    "import traceback"
   ]
  },
  {
   "source": [
    "Pacotes do Azure\n"
   ],
   "cell_type": "markdown",
   "metadata": {}
  },
  {
   "cell_type": "code",
   "execution_count": 177,
   "metadata": {},
   "outputs": [
    {
     "output_type": "error",
     "ename": "SyntaxError",
     "evalue": "invalid syntax (<ipython-input-177-d025e5e1d416>, line 2)",
     "traceback": [
      "\u001b[1;36m  File \u001b[1;32m\"<ipython-input-177-d025e5e1d416>\"\u001b[1;36m, line \u001b[1;32m2\u001b[0m\n\u001b[1;33m    import azure-storage-blob\u001b[0m\n\u001b[1;37m                ^\u001b[0m\n\u001b[1;31mSyntaxError\u001b[0m\u001b[1;31m:\u001b[0m invalid syntax\n"
     ]
    }
   ],
   "source": [
    "pip install azure-storage-blob\n"
   ]
  },
  {
   "cell_type": "code",
   "execution_count": 178,
   "metadata": {},
   "outputs": [],
   "source": [
    "from azure.storage.blob import BlobServiceClient, BlobClient, ContainerClient, __version__"
   ]
  },
  {
   "cell_type": "code",
   "execution_count": 179,
   "metadata": {},
   "outputs": [
    {
     "output_type": "stream",
     "name": "stdout",
     "text": [
      "Azure Blob Storage v12.8.0 - Python quickstart sample\n"
     ]
    }
   ],
   "source": [
    "print(\"Azure Blob Storage v\" + __version__ + \" - Python quickstart sample\")"
   ]
  },
  {
   "source": [
    "Conexão com o sql server\n"
   ],
   "cell_type": "markdown",
   "metadata": {}
  },
  {
   "cell_type": "code",
   "execution_count": 180,
   "metadata": {},
   "outputs": [],
   "source": [
    "server = 'rgdev-sqlsrv-dev01.database.windows.net'\n",
    "database = '15-1implanta'\n",
    "username = 'implantadev01'\n",
    "password = 'Dev#Infra*!mpl@nt@112020'\n",
    "driver= '{ODBC Driver 17 for SQL Server}'"
   ]
  },
  {
   "source": [
    "Metodos auxiliares"
   ],
   "cell_type": "markdown",
   "metadata": {}
  },
  {
   "cell_type": "code",
   "execution_count": 181,
   "metadata": {},
   "outputs": [],
   "source": [
    "def get_conection(driver,server,database,username,password):\n",
    "    _conexao = PDB.connect('DRIVER='+driver+';SERVER='+server+';PORT=1433;DATABASE='+database+';UID='+username+';PWD='+ password)\n",
    "    return _conexao"
   ]
  },
  {
   "cell_type": "code",
   "execution_count": 182,
   "metadata": {},
   "outputs": [],
   "source": [
    "conexao =get_conection(driver,server,database,username,password)"
   ]
  },
  {
   "cell_type": "code",
   "execution_count": null,
   "metadata": {},
   "outputs": [],
   "source": [
    "Executa a query para recuperar os dados "
   ]
  },
  {
   "cell_type": "code",
   "execution_count": 183,
   "metadata": {},
   "outputs": [],
   "source": [
    "SQL_Query = pd.read_sql_query(\n",
    "'''SELECT \n",
    "       AA.IdArquivoAnexo,\n",
    "       AA.IdEntidade,\n",
    "       AA.Entidade,\n",
    "       AA.Nome,\n",
    "       AA.ContentType,\n",
    "       AA.UrlStorageExterno,\n",
    "       AA.NomeIdentificadorStorageExterno\n",
    "  FROM Sistema.ArquivosAnexos AS AA\n",
    " WHERE\n",
    "    AA.Entidade = 'Processo.Processos'\n",
    "    AND (\n",
    "            RIGHT(AA.Nome, 5) = '.jpeg'\n",
    "            OR RIGHT(AA.Nome, 4) = '.jpg'\n",
    "        )\n",
    "    AND AA.UrlStorageExterno LIKE '%online.precadastrologicoarquivos%';\n",
    "''', conexao)"
   ]
  },
  {
   "cell_type": "code",
   "execution_count": 184,
   "metadata": {},
   "outputs": [],
   "source": [
    "conexao.close()"
   ]
  },
  {
   "source": [
    "Monta o dataframe"
   ],
   "cell_type": "markdown",
   "metadata": {}
  },
  {
   "cell_type": "code",
   "execution_count": 185,
   "metadata": {},
   "outputs": [],
   "source": [
    "registros = pd.DataFrame(SQL_Query, columns=['IdArquivoAnexo','IdEntidade','Entidade','Nome','ContentType','UrlStorageExterno','NomeIdentificadorStorageExterno'])\n",
    "\n",
    "registros.set_index('IdArquivoAnexo',inplace=True)"
   ]
  },
  {
   "source": [
    "Visualiza uma amostra"
   ],
   "cell_type": "markdown",
   "metadata": {}
  },
  {
   "cell_type": "code",
   "execution_count": 186,
   "metadata": {},
   "outputs": [
    {
     "output_type": "execute_result",
     "data": {
      "text/plain": [
       "                                                                IdEntidade  \\\n",
       "IdArquivoAnexo                                                               \n",
       "2296AECA-AB1F-4E67-9AC5-99ED4908B918  9167EEEB-C1BE-4A76-86F7-9224EAC92577   \n",
       "845B6CD6-6E01-40C4-B467-57ABE327DC73  5EDE6061-1214-4359-ABD3-FCB29F72215E   \n",
       "DFE35E7C-0566-4355-A970-4EC75C628CF3  6BB2E395-9267-4193-991C-A736AF17D863   \n",
       "EB52FBF0-E933-4862-BC75-41D422C53611  730FE31C-3AF7-4A69-84CE-2973CC93E46E   \n",
       "D02954C7-2DEB-41F3-90CA-3733B2CE97D7  ACFE9DE4-FAA2-4008-8AFA-0F8A56392797   \n",
       "\n",
       "                                                Entidade  \\\n",
       "IdArquivoAnexo                                             \n",
       "2296AECA-AB1F-4E67-9AC5-99ED4908B918  Processo.Processos   \n",
       "845B6CD6-6E01-40C4-B467-57ABE327DC73  Processo.Processos   \n",
       "DFE35E7C-0566-4355-A970-4EC75C628CF3  Processo.Processos   \n",
       "EB52FBF0-E933-4862-BC75-41D422C53611  Processo.Processos   \n",
       "D02954C7-2DEB-41F3-90CA-3733B2CE97D7  Processo.Processos   \n",
       "\n",
       "                                                                            Nome  \\\n",
       "IdArquivoAnexo                                                                     \n",
       "2296AECA-AB1F-4E67-9AC5-99ED4908B918                          C. residencia.jpeg   \n",
       "845B6CD6-6E01-40C4-B467-57ABE327DC73                        compr residencia.jpg   \n",
       "DFE35E7C-0566-4355-A970-4EC75C628CF3                              RG frente.jpeg   \n",
       "EB52FBF0-E933-4862-BC75-41D422C53611       comprovante residencia nome mae 3.jpg   \n",
       "D02954C7-2DEB-41F3-90CA-3733B2CE97D7  WhatsApp Image 2021-01-13 at 10.10.07.jpeg   \n",
       "\n",
       "                                     ContentType  \\\n",
       "IdArquivoAnexo                                     \n",
       "2296AECA-AB1F-4E67-9AC5-99ED4908B918  image/jpeg   \n",
       "845B6CD6-6E01-40C4-B467-57ABE327DC73  image/jpeg   \n",
       "DFE35E7C-0566-4355-A970-4EC75C628CF3  image/jpeg   \n",
       "EB52FBF0-E933-4862-BC75-41D422C53611  image/jpeg   \n",
       "D02954C7-2DEB-41F3-90CA-3733B2CE97D7  image/jpeg   \n",
       "\n",
       "                                                                      UrlStorageExterno  \\\n",
       "IdArquivoAnexo                                                                            \n",
       "2296AECA-AB1F-4E67-9AC5-99ED4908B918  https://improblob03.blob.core.windows.net:443/...   \n",
       "845B6CD6-6E01-40C4-B467-57ABE327DC73  https://improblob03.blob.core.windows.net:443/...   \n",
       "DFE35E7C-0566-4355-A970-4EC75C628CF3  https://improblob03.blob.core.windows.net:443/...   \n",
       "EB52FBF0-E933-4862-BC75-41D422C53611  https://improblob03.blob.core.windows.net:443/...   \n",
       "D02954C7-2DEB-41F3-90CA-3733B2CE97D7  https://improblob03.blob.core.windows.net:443/...   \n",
       "\n",
       "                                                        NomeIdentificadorStorageExterno  \n",
       "IdArquivoAnexo                                                                           \n",
       "2296AECA-AB1F-4E67-9AC5-99ED4908B918  online.precadastrologicoarquivos/2296aeca-ab1f...  \n",
       "845B6CD6-6E01-40C4-B467-57ABE327DC73  online.precadastrologicoarquivos/845b6cd6-6e01...  \n",
       "DFE35E7C-0566-4355-A970-4EC75C628CF3  online.precadastrologicoarquivos/dfe35e7c-0566...  \n",
       "EB52FBF0-E933-4862-BC75-41D422C53611  online.precadastrologicoarquivos/eb52fbf0-e933...  \n",
       "D02954C7-2DEB-41F3-90CA-3733B2CE97D7  online.precadastrologicoarquivos/d02954c7-2deb...  "
      ],
      "text/html": "<div>\n<style scoped>\n    .dataframe tbody tr th:only-of-type {\n        vertical-align: middle;\n    }\n\n    .dataframe tbody tr th {\n        vertical-align: top;\n    }\n\n    .dataframe thead th {\n        text-align: right;\n    }\n</style>\n<table border=\"1\" class=\"dataframe\">\n  <thead>\n    <tr style=\"text-align: right;\">\n      <th></th>\n      <th>IdEntidade</th>\n      <th>Entidade</th>\n      <th>Nome</th>\n      <th>ContentType</th>\n      <th>UrlStorageExterno</th>\n      <th>NomeIdentificadorStorageExterno</th>\n    </tr>\n    <tr>\n      <th>IdArquivoAnexo</th>\n      <th></th>\n      <th></th>\n      <th></th>\n      <th></th>\n      <th></th>\n      <th></th>\n    </tr>\n  </thead>\n  <tbody>\n    <tr>\n      <th>2296AECA-AB1F-4E67-9AC5-99ED4908B918</th>\n      <td>9167EEEB-C1BE-4A76-86F7-9224EAC92577</td>\n      <td>Processo.Processos</td>\n      <td>C. residencia.jpeg</td>\n      <td>image/jpeg</td>\n      <td>https://improblob03.blob.core.windows.net:443/...</td>\n      <td>online.precadastrologicoarquivos/2296aeca-ab1f...</td>\n    </tr>\n    <tr>\n      <th>845B6CD6-6E01-40C4-B467-57ABE327DC73</th>\n      <td>5EDE6061-1214-4359-ABD3-FCB29F72215E</td>\n      <td>Processo.Processos</td>\n      <td>compr residencia.jpg</td>\n      <td>image/jpeg</td>\n      <td>https://improblob03.blob.core.windows.net:443/...</td>\n      <td>online.precadastrologicoarquivos/845b6cd6-6e01...</td>\n    </tr>\n    <tr>\n      <th>DFE35E7C-0566-4355-A970-4EC75C628CF3</th>\n      <td>6BB2E395-9267-4193-991C-A736AF17D863</td>\n      <td>Processo.Processos</td>\n      <td>RG frente.jpeg</td>\n      <td>image/jpeg</td>\n      <td>https://improblob03.blob.core.windows.net:443/...</td>\n      <td>online.precadastrologicoarquivos/dfe35e7c-0566...</td>\n    </tr>\n    <tr>\n      <th>EB52FBF0-E933-4862-BC75-41D422C53611</th>\n      <td>730FE31C-3AF7-4A69-84CE-2973CC93E46E</td>\n      <td>Processo.Processos</td>\n      <td>comprovante residencia nome mae 3.jpg</td>\n      <td>image/jpeg</td>\n      <td>https://improblob03.blob.core.windows.net:443/...</td>\n      <td>online.precadastrologicoarquivos/eb52fbf0-e933...</td>\n    </tr>\n    <tr>\n      <th>D02954C7-2DEB-41F3-90CA-3733B2CE97D7</th>\n      <td>ACFE9DE4-FAA2-4008-8AFA-0F8A56392797</td>\n      <td>Processo.Processos</td>\n      <td>WhatsApp Image 2021-01-13 at 10.10.07.jpeg</td>\n      <td>image/jpeg</td>\n      <td>https://improblob03.blob.core.windows.net:443/...</td>\n      <td>online.precadastrologicoarquivos/d02954c7-2deb...</td>\n    </tr>\n  </tbody>\n</table>\n</div>"
     },
     "metadata": {},
     "execution_count": 186
    }
   ],
   "source": [
    "registros.sample(5)"
   ]
  },
  {
   "source": [
    "conecta no azure storage acouunt"
   ],
   "cell_type": "markdown",
   "metadata": {}
  },
  {
   "cell_type": "code",
   "execution_count": 85,
   "metadata": {},
   "outputs": [],
   "source": [
    "connect_str_to_storage ='DefaultEndpointsProtocol=https;AccountName=improblob03;AccountKey=WEA4YzMZHaeDg0TBLXQje+EkZanSNVyPxKvmYKGQeVO/Blo9bsjlI4yjpI7DivAMuK6KPvoRBHq5MRZzqDdJEA==;EndpointSuffix=core.windows.net'\n",
    "\n",
    "local_path =r'D:/Wesley/ArquivosAnexos'"
   ]
  },
  {
   "cell_type": "code",
   "execution_count": 116,
   "metadata": {},
   "outputs": [],
   "source": [
    "blob_service_client = BlobServiceClient.from_connection_string(connect_str_to_storage)\n",
    "\n",
    "container_client = blob_service_client.get_container_client(\"oab-ba\")"
   ]
  },
  {
   "source": [
    "Executa o foreach para recuperar cada arquivo"
   ],
   "cell_type": "markdown",
   "metadata": {}
  },
  {
   "cell_type": "code",
   "execution_count": null,
   "metadata": {},
   "outputs": [],
   "source": [
    "blob_list = container_client.list_blobs()"
   ]
  },
  {
   "cell_type": "code",
   "execution_count": 170,
   "metadata": {},
   "outputs": [],
   "source": [
    "with open(target_diretorio, \"wb\") as my_blob:\n",
    "    download_stream = blob_client.download_blob()\n",
    "    my_blob.write(download_stream.readall())"
   ]
  },
  {
   "cell_type": "code",
   "execution_count": 173,
   "metadata": {},
   "outputs": [],
   "source": [
    "from azure.storage.blob import BlobClient\n",
    "blob_client = BlobClient.from_blob_url(blob_url=nome_arquivo,credential =\"WEA4YzMZHaeDg0TBLXQje+EkZanSNVyPxKvmYKGQeVO/Blo9bsjlI4yjpI7DivAMuK6KPvoRBHq5MRZzqDdJEA==\")"
   ]
  },
  {
   "cell_type": "code",
   "execution_count": 187,
   "metadata": {},
   "outputs": [],
   "source": [
    "for index, row in registros.iterrows():\n",
    "    nome_arquivo = row[\"UrlStorageExterno\"]\n",
    "    \n",
    "    # Instantiate a new BlobClient\n",
    "    # blob_client = container_client.get_blob_client(nome_arquivo)\n",
    "    from azure.storage.blob import BlobClient\n",
    "    blob_client = BlobClient.from_blob_url(blob_url=nome_arquivo,credential =\"WEA4YzMZHaeDg0TBLXQje+EkZanSNVyPxKvmYKGQeVO/Blo9bsjlI4yjpI7DivAMuK6KPvoRBHq5MRZzqDdJEA==\")\n",
    "    \n",
    "    if(blob_client.exists()):\n",
    "        file_name  =blob_client.blob_name\n",
    "\n",
    "        file_name_origin = file_name[(file_name.rfind(\"/\")+1):]\n",
    "    \n",
    "    \n",
    "        target_diretorio = local_path +'/'+(str(index)+'='+file_name_origin)\n",
    "\n",
    "\n",
    "        with open(target_diretorio, \"wb\") as my_blob:\n",
    "            download_stream = blob_client.download_blob()\n",
    "            my_blob.write(download_stream.readall())\n",
    "\n",
    "\n",
    "\n",
    "#\n"
   ]
  }
 ]
}