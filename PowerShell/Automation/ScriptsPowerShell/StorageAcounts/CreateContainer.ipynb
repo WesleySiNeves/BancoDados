{
 "metadata": {
  "language_info": {
   "codemirror_mode": {
    "name": "ipython",
    "version": 3
   },
   "file_extension": ".py",
   "mimetype": "text/x-python",
   "name": "python",
   "nbconvert_exporter": "python",
   "pygments_lexer": "ipython3",
   "version": "3.8.5-final"
  },
  "orig_nbformat": 2,
  "kernelspec": {
   "name": "python3",
   "display_name": "Python 3.8.5 64-bit (conda)",
   "metadata": {
    "interpreter": {
     "hash": "4f5fd65116d98c778731dcaf9e4b589b7136819a97f5eed575b66b67955b7fbe"
    }
   }
  }
 },
 "nbformat": 4,
 "nbformat_minor": 2,
 "cells": [
  {
   "cell_type": "code",
   "execution_count": null,
   "metadata": {},
   "outputs": [],
   "source": [
    "# imports"
   ]
  },
  {
   "cell_type": "code",
   "execution_count": 1,
   "metadata": {},
   "outputs": [],
   "source": [
    "import pyodbc as PDB  # Drive para conexão com banco de dados\n",
    "import pandas  as pd\n",
    "import sys\n",
    "import os\n",
    "import traceback"
   ]
  },
  {
   "cell_type": "code",
   "execution_count": 2,
   "metadata": {},
   "outputs": [],
   "source": [
    "from azure.storage.blob import BlobServiceClient, BlobClient, ContainerClient, __version__"
   ]
  },
  {
   "cell_type": "code",
   "execution_count": 3,
   "metadata": {},
   "outputs": [
    {
     "output_type": "stream",
     "name": "stdout",
     "text": [
      "Azure Blob Storage v12.8.0 - Python quickstart sample\n"
     ]
    }
   ],
   "source": [
    "print(\"Azure Blob Storage v\" + __version__ + \" - Python quickstart sample\")"
   ]
  },
  {
   "source": [
    "## Importa o arquivo com as configurações\n"
   ],
   "cell_type": "markdown",
   "metadata": {}
  },
  {
   "cell_type": "code",
   "execution_count": 4,
   "metadata": {},
   "outputs": [
    {
     "output_type": "error",
     "ename": "SyntaxError",
     "evalue": "(unicode error) 'unicodeescape' codec can't decode bytes in position 2-3: truncated \\UXXXXXXXX escape (<ipython-input-4-8a58a2e0c652>, line 1)",
     "traceback": [
      "\u001b[1;36m  File \u001b[1;32m\"<ipython-input-4-8a58a2e0c652>\"\u001b[1;36m, line \u001b[1;32m1\u001b[0m\n\u001b[1;33m    datasource = pd.read_excel('C:\\Users\\wesley.neves\\Desktop\\Implanta Home office\\DEV-OPS\\GeracaoContainnersStorageAzure.xlsx',sheet_name='result')\u001b[0m\n\u001b[1;37m                               ^\u001b[0m\n\u001b[1;31mSyntaxError\u001b[0m\u001b[1;31m:\u001b[0m (unicode error) 'unicodeescape' codec can't decode bytes in position 2-3: truncated \\UXXXXXXXX escape\n"
     ]
    }
   ],
   "source": [
    "datasource = pd.read_excel('C:\\Users\\wesley.neves\\Desktop\\Implanta Home office\\DEV-OPS\\GeracaoContainnersStorageAzure.xlsx',sheet_name='result',engine=)"
   ]
  },
  {
   "source": [
    "# Chave dos containers\n",
    "improblob01"
   ],
   "cell_type": "markdown",
   "metadata": {}
  },
  {
   "cell_type": "code",
   "execution_count": null,
   "metadata": {},
   "outputs": [],
   "source": []
  },
  {
   "cell_type": "code",
   "execution_count": 6,
   "metadata": {},
   "outputs": [],
   "source": [
    "connect_str_to_storage ='DefaultEndpointsProtocol=https;AccountName=improblob01;AccountKey=PJIhpHc87NOvJgun39MNGH0sk/Rud+RCwigJ77LnQMkAowC3hOe5hKIGa0csKA83AZ3zHh6hkoDn6mqylTH02A==;EndpointSuffix=core.windows.net'"
   ]
  },
  {
   "cell_type": "code",
   "execution_count": 7,
   "metadata": {},
   "outputs": [],
   "source": [
    "blob_service_client = BlobServiceClient.from_connection_string(connect_str_to_storage)"
   ]
  },
  {
   "cell_type": "code",
   "execution_count": 8,
   "metadata": {},
   "outputs": [],
   "source": [
    "containnersList = ['cau-al','cau-am','cau-ap','cau-ba','cau-br','cau-ce','cau-df','cau-es','cau-go', 'cau-ma', 'cau-mg', 'cau-ms', 'cau-mt', 'cau-pa', 'cau-pb', 'cau-pe', 'cau-pi', 'cau-pr', 'cra-ac', 'cra-rr', 'cro-rj', 'cro-rs', 'crq-al', 'crq-ba', 'crq-ce', 'crq-es', 'crq-go', 'crq-ma', 'crq-ms', 'crq-pa', 'crq-pb', 'crq-pe', 'crq-pi', 'crq-pr', 'crq-rj', 'crq-rn', 'crq-rs', 'crq-sc', 'crq-se', 'crq-sp']\n"
   ]
  },
  {
   "cell_type": "code",
   "execution_count": 15,
   "metadata": {},
   "outputs": [
    {
     "output_type": "execute_result",
     "data": {
      "text/plain": [
       "False"
      ]
     },
     "metadata": {},
     "execution_count": 15
    }
   ],
   "source": [
    " blob_service_client.get_container_client('cau-al').exists()\n"
   ]
  },
  {
   "cell_type": "code",
   "execution_count": 16,
   "metadata": {},
   "outputs": [
    {
     "output_type": "stream",
     "name": "stdout",
     "text": [
      "Container Criado cau-al\n",
      "Container Criado cau-am\n",
      "Container Criado cau-ap\n",
      "Container Criado cau-ba\n",
      "Container Criado cau-br\n",
      "Container Criado cau-ce\n",
      "Container Criado cau-df\n",
      "Container Criado cau-es\n",
      "Container Criado cau-go\n",
      "Container Criado cau-ma\n",
      "Container Criado cau-mg\n",
      "Container Criado cau-ms\n",
      "Container Criado cau-mt\n",
      "Container Criado cau-pa\n",
      "Container Criado cau-pb\n",
      "Container Criado cau-pe\n",
      "Container Criado cau-pi\n",
      "Container Criado cau-pr\n",
      "Container Criado cra-ac\n",
      "Container Criado cra-rr\n",
      "Container Criado cro-rj\n",
      "Container Criado cro-rs\n",
      "Container Criado crq-al\n",
      "Container Criado crq-ba\n",
      "Container Criado crq-ce\n",
      "Container Criado crq-es\n",
      "Container Criado crq-go\n",
      "Container Criado crq-ma\n",
      "Container Criado crq-ms\n",
      "Container Criado crq-pa\n",
      "Container Criado crq-pb\n",
      "Container Criado crq-pe\n",
      "Container Criado crq-pi\n",
      "Container Criado crq-pr\n",
      "Container Criado crq-rj\n",
      "Container Criado crq-rn\n",
      "Container Criado crq-rs\n",
      "Container Criado crq-sc\n",
      "Container Criado crq-se\n",
      "Container Criado crq-sp\n"
     ]
    }
   ],
   "source": [
    "for container in  containnersList:\n",
    "    if(blob_service_client.get_container_client(container).exists() ==False):\n",
    "        blob_service_client.create_container(container)\n",
    "        print('Container Criado',container)\n",
    "\n",
    "    "
   ]
  },
  {
   "source": [
    "# improblob02"
   ],
   "cell_type": "markdown",
   "metadata": {}
  },
  {
   "cell_type": "code",
   "execution_count": 19,
   "metadata": {},
   "outputs": [],
   "source": [
    "connect_str_to_storage_improblob02 ='DefaultEndpointsProtocol=https;AccountName=improblob02;AccountKey=4mYKld+m23dwKP82K6kERUpU9/zGnBjKy+kGijtFISmgkXOLVAOJtNDsQZjPTfMrcrRQdG/iIjOj5tIotsGyWQ==;EndpointSuffix=core.windows.net'"
   ]
  },
  {
   "cell_type": "code",
   "execution_count": 20,
   "metadata": {},
   "outputs": [],
   "source": [
    "containnersList_improblob02 =['cress-ba', 'cress-es', 'cress-mt', 'cress-pb', 'cress-se', 'cress-to', 'crtr-02', 'crtr-03', 'crtr-12']"
   ]
  },
  {
   "cell_type": "code",
   "execution_count": 21,
   "metadata": {},
   "outputs": [],
   "source": [
    "blob_service_client_improblob02 = BlobServiceClient.from_connection_string(connect_str_to_storage_improblob02)"
   ]
  },
  {
   "cell_type": "code",
   "execution_count": 30,
   "metadata": {},
   "outputs": [
    {
     "output_type": "execute_result",
     "data": {
      "text/plain": [
       "True"
      ]
     },
     "metadata": {},
     "execution_count": 30
    }
   ],
   "source": [
    " blob_service_client_improblob02.get_container_client('cress-ba').exists()"
   ]
  },
  {
   "cell_type": "code",
   "execution_count": 24,
   "metadata": {},
   "outputs": [
    {
     "output_type": "stream",
     "name": "stdout",
     "text": [
      "Container Criado cress-ba\n",
      "Container Criado cress-es\n",
      "Container Criado cress-mt\n",
      "Container Criado cress-pb\n",
      "Container Criado cress-se\n",
      "Container Criado cress-to\n",
      "Container Criado crtr-02\n",
      "Container Criado crtr-03\n",
      "Container Criado crtr-12\n"
     ]
    }
   ],
   "source": [
    "for container in  containnersList_improblob02:\n",
    "    if(blob_service_client_improblob02.get_container_client(container).exists() ==False):\n",
    "        blob_service_client_improblob02.create_container(container)\n",
    "        print('Container Criado',container)"
   ]
  },
  {
   "source": [
    "# improblob03"
   ],
   "cell_type": "markdown",
   "metadata": {}
  },
  {
   "cell_type": "code",
   "execution_count": 34,
   "metadata": {},
   "outputs": [],
   "source": [
    "connect_str_to_storage_improblob03 ='DefaultEndpointsProtocol=https;AccountName=improblob03;AccountKey=WEA4YzMZHaeDg0TBLXQje+EkZanSNVyPxKvmYKGQeVO/Blo9bsjlI4yjpI7DivAMuK6KPvoRBHq5MRZzqDdJEA==;EndpointSuffix=core.windows.net'"
   ]
  },
  {
   "cell_type": "code",
   "execution_count": 33,
   "metadata": {},
   "outputs": [],
   "source": [
    "containnersList_improblob03 =['cref-sp', 'oab-ac', 'oab-al', 'oab-am', 'oab-ap', 'oab-ce', 'oab-df', 'oab-ms', 'oab-pa', 'oab-pi', 'oab-rn', 'oab-rr', 'oab-rs', 'oab-se']"
   ]
  },
  {
   "source": [
    "## Conexão"
   ],
   "cell_type": "markdown",
   "metadata": {}
  },
  {
   "cell_type": "code",
   "execution_count": 35,
   "metadata": {},
   "outputs": [],
   "source": [
    "blob_service_client_improblob03 = BlobServiceClient.from_connection_string(connect_str_to_storage_improblob03)"
   ]
  },
  {
   "source": [
    "## criação dos containners"
   ],
   "cell_type": "markdown",
   "metadata": {}
  },
  {
   "cell_type": "code",
   "execution_count": 36,
   "metadata": {},
   "outputs": [
    {
     "output_type": "execute_result",
     "data": {
      "text/plain": [
       "False"
      ]
     },
     "metadata": {},
     "execution_count": 36
    }
   ],
   "source": [
    "blob_service_client_improblob03.get_container_client('cref-sp').exists()"
   ]
  },
  {
   "cell_type": "code",
   "execution_count": 37,
   "metadata": {},
   "outputs": [
    {
     "output_type": "stream",
     "name": "stdout",
     "text": [
      "Container Criado cref-sp\n",
      "Container Criado oab-ac\n",
      "Container Criado oab-al\n",
      "Container Criado oab-am\n",
      "Container Criado oab-ap\n",
      "Container Criado oab-ce\n",
      "Container Criado oab-df\n",
      "Container Criado oab-ms\n",
      "Container Criado oab-pa\n",
      "Container Criado oab-pi\n",
      "Container Criado oab-rn\n",
      "Container Criado oab-rr\n",
      "Container Criado oab-rs\n",
      "Container Criado oab-se\n"
     ]
    }
   ],
   "source": [
    "for container in  containnersList_improblob03:\n",
    "    if(blob_service_client_improblob03.get_container_client(container).exists() ==False):\n",
    "        blob_service_client_improblob03.create_container(container)\n",
    "        print('Container Criado',container)"
   ]
  }
 ]
}