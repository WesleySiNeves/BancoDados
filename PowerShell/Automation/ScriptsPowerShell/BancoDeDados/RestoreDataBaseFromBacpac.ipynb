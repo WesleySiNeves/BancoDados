{
    "metadata": {
        "kernelspec": {
            "name": "powershell",
            "display_name": "PowerShell",
            "language": "powershell"
        },
        "language_info": {
            "name": "powershell",
            "codemirror_mode": "shell",
            "mimetype": "text/x-sh",
            "file_extension": ".ps1"
        }
    },
    "nbformat_minor": 2,
    "nbformat": 4,
    "cells": [
        {
            "cell_type": "markdown",
            "source": [
                "\\## Credenciais"
            ],
            "metadata": {
                "azdata_cell_guid": "973beb7b-b2af-4550-be0c-be4895723850"
            }
        },
        {
            "cell_type": "code",
            "source": [
                "Add-AzureAccount\r\n",
                ""
            ],
            "metadata": {
                "azdata_cell_guid": "a6a998db-f2f5-4fd0-85fe-a8ee36fed6f6"
            },
            "outputs": [
                {
                    "name": "stdout",
                    "text": "Add-AzureAccount : O termo 'Add-AzureAccount' n■ ■ reconhecido como nome de cmdlet, fun■■, arquivo de script ou \nprograma oper■vel. Verifique a grafia do nome ou, se um caminho tiver sido inclu■",
                    "output_type": "stream"
                },
                {
                    "name": "stdout",
                    "text": "do, veja se o caminho est■ correto e \ntente novamente.\nNo linha:2 caractere:1\n+ Add-AzureAccount\n+ ~~~~~~~~~~~~~~~~\n    + CategoryInfo          : ObjectNotFound: (Add-AzureAccount:String) [], CommandNotFoundException\n    + FullyQualifiedErrorId : CommandNotFoundException\n \n. {\n>> Add-AzureAccount\n>> \n>> Select-AzureSubscription \n>> }\n>> \n",
                    "output_type": "stream"
                }
            ],
            "execution_count": 2
        }
    ]
}