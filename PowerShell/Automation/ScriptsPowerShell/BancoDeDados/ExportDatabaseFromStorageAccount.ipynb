{
    "metadata": {
        "kernelspec": {
            "name": "powershell",
            "display_name": "PowerShell",
            "language": "powershell"
        },
        "language_info": {
            "name": "powershell",
            "codemirror_mode": "shell",
            "mimetype": "text/x-sh",
            "file_extension": ".ps1"
        }
    },
    "nbformat_minor": 2,
    "nbformat": 4,
    "cells": [
        {
            "cell_type": "markdown",
            "source": [
                "<mark>\\# propriedades</mark>"
            ],
            "metadata": {
                "azdata_cell_guid": "85900252-1acf-48c1-8887-d9a209ebc543"
            }
        },
        {
            "cell_type": "code",
            "source": [
                "$ServerName = \"serverdatabasenexxus\"\r\n",
                "$DatabaseName = \"AdventureWorks_Compress\"\r\n",
                "$date = \"22-01-2021\"\r\n",
                "$BlobName = \"AdventureWorks_Compress_\" +$date \r\n",
                "\r\n",
                "$StorageName = \"clientesantigos\"\r\n",
                "$ContainerName = \"backups\"\r\n",
                "$StorageKey = \"eejU1XJc4EN4mtRUr8Kz9cfL6iLCGvW7oAQrQKafMJ3giZeUsuTC0+aFNJec5SHKF83wKTp7g2xuLH0R/on14Q==\"\r\n",
                ""
            ],
            "metadata": {
                "azdata_cell_guid": "4947c718-f4a9-4fd1-8342-6ce2f25878d9"
            },
            "outputs": [
                {
                    "name": "stdout",
                    "text": "",
                    "output_type": "stream"
                }
            ],
            "execution_count": 1
        },
        {
            "cell_type": "code",
            "source": [
                ""
            ],
            "metadata": {
                "azdata_cell_guid": "fdf991fa-a5c6-447a-8272-ffc7344019aa"
            },
            "outputs": [
                {
                    "name": "stdout",
                    "text": "AVISO: User declined to install module (Az).\n",
                    "output_type": "stream"
                }
            ],
            "execution_count": 6
        },
        {
            "cell_type": "code",
            "source": [
                "Add-AzureAccount"
            ],
            "metadata": {
                "azdata_cell_guid": "812cc7a9-72a0-4ed1-a80b-d6a6a229a9bd"
            },
            "outputs": [
                {
                    "name": "stdout",
                    "text": "Add-AzureAccount : O termo 'Add-AzureAccount' n■ ■ reconhecido como nome de cmdlet, fun■■, arquivo de script ou \nprograma oper■vel. Verifique a grafia do nome ou, se um caminho tiver sido inclu■do, veja se o caminho est■ correto e \ntente novamente.\nNo linha:2 caractere:1\n+ Add-AzureAccount\n+ ~~~~~~~~~~~~~~~~\n    + CategoryInfo          : ObjectNotFound: (Add-AzureAccount:String) [], CommandNotFoundException\n    + FullyQualifiedErrorId : CommandNotFoundException\n \n",
                    "output_type": "stream"
                }
            ],
            "execution_count": 7
        }
    ]
}