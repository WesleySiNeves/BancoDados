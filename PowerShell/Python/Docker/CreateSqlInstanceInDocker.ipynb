{
    "metadata": {
        "kernelspec": {
            "name": "python3",
            "display_name": "Python 3",
            "language": "python"
        },
        "language_info": {
            "name": "python",
            "version": "3.6.6",
            "mimetype": "text/x-python",
            "codemirror_mode": {
                "name": "ipython",
                "version": 3
            },
            "pygments_lexer": "ipython3",
            "nbconvert_exporter": "python",
            "file_extension": ".py"
        }
    },
    "nbformat_minor": 2,
    "nbformat": 4,
    "cells": [
        {
            "cell_type": "code",
            "source": [
                "!pip install docker --user\r\n",
                "\r\n",
                ""
            ],
            "metadata": {
                "azdata_cell_guid": "f906d42e-bb63-464d-932a-bf1a11e078b7"
            },
            "outputs": [
                {
                    "name": "stdout",
                    "text": "Collecting docker\n  Using cached https://files.pythonhosted.org/packages/ef/b7/eb7b7138bb5e6d28cf84fa586fe594619ca097b6207caa5f2ebe0c66a4ed/docker-4.4.0-py2.py3-none-any.whl\nRequirement already satisfied: six>=1.4.0 in c:\\users\\wesley.neves\\azuredatastudio-python\\0.0.1\\lib\\site-packages (from docker) (1.12.0)\nRequirement already satisfied: requests!=2.18.0,>=2.14.2 in c:\\users\\wesley.neves\\azuredatastudio-python\\0.0.1\\lib\\site-packages (from docker) (2.22.0)\nRequirement already satisfied: pywin32==227; sys_platform == \"win32\" in c:\\users\\wesley.neves\\azuredatastudio-python\\0.0.1\\lib\\site-packages (from docker) (227)\nRequirement already satisfied: websocket-client>=0.32.0 in c:\\users\\wesley.neves\\azuredatastudio-python\\0.0.1\\lib\\site-packages (from docker) (0.57.0)\nRequirement already satisfied: certifi>=2017.4.17 in c:\\users\\wesley.neves\\azuredatastudio-python\\0.0.1\\lib\\site-packages (from requests!=2.18.0,>=2.14.2->docker) (2019.9.11)\nRequirement already satisfied: chardet<3.1.0,>=3.0.2 in c:\\users\\wesley.neves\\azuredatastudio-python\\0.0.1\\lib\\site-packages (from requests!=2.18.0,>=2.14.2->docker) (3.0.4)\nRequirement already satisfied: urllib3!=1.25.0,!=1.25.1,<1.26,>=1.21.1 in c:\\users\\wesley.neves\\azuredatastudio-python\\0.0.1\\lib\\site-packages (from requests!=2.18.0,>=2.14.2->docker) (1.25.6)\nRequirement already satisfied: idna<2.9,>=2.5 in c:\\users\\wesley.neves\\azuredatastudio-python\\0.0.1\\lib\\site-packages (from requests!=2.18.0,>=2.14.2->docker) (2.8)\nInstalling collected packages: docker\nSuccessfully installed docker-4.4.0\n",
                    "output_type": "stream"
                },
                {
                    "name": "stderr",
                    "text": "WARNING: You are using pip version 19.3; however, version 20.2.4 is available.\nYou should consider upgrading via the 'python -m pip install --upgrade pip' command.\n",
                    "output_type": "stream"
                }
            ],
            "execution_count": 5
        },
        {
            "cell_type": "code",
            "source": [
                "import docker\r\n",
                "\r\n",
                "\r\n",
                ""
            ],
            "metadata": {
                "azdata_cell_guid": "e7b3c13f-4ab8-41fd-ba13-eb9ccdb97b6a"
            },
            "outputs": [],
            "execution_count": 6
        },
        {
            "cell_type": "code",
            "source": [
                "def start_sql_instance():\r\n",
                "    conection = docker"
            ],
            "metadata": {
                "azdata_cell_guid": "4eab20dc-ff65-4253-b937-52411f27b06b"
            },
            "outputs": [],
            "execution_count": null
        }
    ]
}