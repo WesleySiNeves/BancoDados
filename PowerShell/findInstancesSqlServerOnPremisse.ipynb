{
    "metadata": {
        "kernelspec": {
            "name": "powershell",
            "display_name": "PowerShell",
            "language": "powershell"
        },
        "language_info": {
            "name": "powershell",
            "codemirror_mode": "shell",
            "mimetype": "text/x-sh",
            "file_extension": ".ps1"
        }
    },
    "nbformat_minor": 2,
    "nbformat": 4,
    "cells": [
        {
            "cell_type": "markdown",
            "source": [
                "Scrip em Power Shell para recuperar as instancias do sql server"
            ],
            "metadata": {
                "azdata_cell_guid": "ef8e730e-8b57-411e-9468-ccd91c97fef4"
            }
        },
        {
            "cell_type": "code",
            "source": [
                "Get-ItemProperty 'HKLM:\\Software\\Microsoft\\Microsoft SQL Server\\Instance Names\\SQL'"
            ],
            "metadata": {
                "azdata_cell_guid": "5c1d33d9-d271-40f1-829d-0ec5dd494b72"
            },
            "outputs": [
                {
                    "name": "stdout",
                    "text": "\n\nMSSQLSERVER2017 : MSSQL14.MSSQLSERVER2017\nPSPath          : Microsoft.PowerShell.Core\\Registry::HKEY_LOCAL_MACHINE\\Software\\Microsoft\\Microsoft SQL \n                  Server\\Instance Names\\SQL\nPSParentPath    : Microsoft.PowerShell.Core\\Registry::HKEY_LOCAL_MACHINE\\Software\\Microsoft\\Microsoft SQL \n                  Server\\Instance Names\nPSChildName     : SQL\nPSDrive         : HKLM\nPSProvider      : Microsoft.PowerShell.Core\\Registry\n\n\n\n",
                    "output_type": "stream"
                }
            ],
            "execution_count": 1
        }
    ]
}