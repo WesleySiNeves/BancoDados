{
    "metadata": {
        "kernelspec": {
            "name": "powershell",
            "display_name": "PowerShell",
            "language": "powershell"
        },
        "language_info": {
            "name": "powershell",
            "codemirror_mode": "shell",
            "mimetype": "text/x-sh",
            "file_extension": ".ps1"
        }
    },
    "nbformat_minor": 2,
    "nbformat": 4,
    "cells": [
        {
            "cell_type": "markdown",
            "source": [
                "## Trabalhando com Matriz"
            ],
            "metadata": {
                "azdata_cell_guid": "3c4a5d80-3328-4221-bc70-f30cff79770d"
            }
        },
        {
            "cell_type": "code",
            "source": [
                "$matriz = 1..10\r\n",
                "\r\n",
                "$matriz"
            ],
            "metadata": {
                "azdata_cell_guid": "f5a9c7f8-b446-4d83-ad4b-7ae89ceec328"
            },
            "outputs": [
                {
                    "name": "stdout",
                    "text": "1\n2\n3\n4\n5\n6\n7\n8\n9\n10\n",
                    "output_type": "stream"
                }
            ],
            "execution_count": 2
        },
        {
            "cell_type": "markdown",
            "source": [
                "## Contains"
            ],
            "metadata": {
                "azdata_cell_guid": "ad554fe7-c9f6-4efc-83ef-d7e2f2ba9ab2"
            }
        },
        {
            "cell_type": "code",
            "source": [
                "$matriz -contains 10"
            ],
            "metadata": {
                "azdata_cell_guid": "46573914-25ff-4d5f-937c-a624f8574abc"
            },
            "outputs": [
                {
                    "name": "stdout",
                    "text": "True\n",
                    "output_type": "stream"
                }
            ],
            "execution_count": 4
        },
        {
            "cell_type": "code",
            "source": [
                "$matriz -notcontains 10"
            ],
            "metadata": {
                "azdata_cell_guid": "1b4860b2-6ac7-4bd9-9e2e-d6c10a2bf648"
            },
            "outputs": [
                {
                    "name": "stdout",
                    "text": "False\n",
                    "output_type": "stream"
                }
            ],
            "execution_count": 6
        }
    ]
}