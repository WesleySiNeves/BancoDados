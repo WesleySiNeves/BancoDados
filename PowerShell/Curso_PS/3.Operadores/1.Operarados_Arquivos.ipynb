{
    "metadata": {
        "kernelspec": {
            "name": "powershell",
            "display_name": "PowerShell",
            "language": "powershell"
        },
        "language_info": {
            "name": "powershell",
            "codemirror_mode": "shell",
            "mimetype": "text/x-sh",
            "file_extension": ".ps1"
        }
    },
    "nbformat_minor": 2,
    "nbformat": 4,
    "cells": [
        {
            "cell_type": "markdown",
            "source": [
                "## Abrindo um arquivo"
            ],
            "metadata": {
                "azdata_cell_guid": "95be907a-31a1-43d4-aa45-388914e0ad22"
            }
        },
        {
            "cell_type": "code",
            "source": [
                "Get-Content D:\\Wesley\\VersionCode\\BancoDados\\PowerShell\\teste.txt\r\n",
                "\r\n",
                ""
            ],
            "metadata": {
                "azdata_cell_guid": "d736eda3-af8b-4cbe-9f30-72de8d0e06b8"
            },
            "outputs": [
                {
                    "name": "stdout",
                    "text": "In data science, we often think about how to use data to make predictions on new data points. This is called ■?osupervised learning.■?? Sometimes, however, rather than ■?~making predictions■?T, we instead want to categorize data into buckets. This is termed ■?ounsupervised learning.■??\nTo illustrate the difference, let■?Ts say we■?Tre at a major pizza chain and we■?Tve been tasked with creating a feature in the order management software that will predict delivery times for customers. In order to achieve this, we are given a dataset that has delivery times, distances traveled, day of week, time of day, staff on hand, and volume of sales for several deliveries in the past. From this data, we can make predictions on future delivery times. This is a good example of supervised learning.\nNow, let■?Ts say the pizza chain wants to send out targeted coupons to customers. It wants to segment its customers into 4 groups: large families, small families, singles, and college students. We are given prior ordering data (e.g. size of order, price, frequency, etc) and we■?Tre tasked with putting each customer into one of the four buckets. This would be an example of ■?ounsupervised learning■?? since we■?Tre not making predictions; we■?Tre merely categorizing the customers into groups.\nClustering is one of the most frequently utilized forms of unsupervised learning. In this article, we■?Tll explore two of the most common forms of clustering: k-means and hierarchical.\nUnderstanding the K-Means Clustering Algorithm\nLet■?Ts look at how k-means clustering works. First, let me introduce you to my good friend, blobby; i.e. the make_blobs function in Python■?Ts sci-kit learn library. We■?Tll create four random clusters using make_blobs to aid in our task.\n",
                    "output_type": "stream"
                }
            ],
            "execution_count": 1
        },
        {
            "cell_type": "markdown",
            "source": [
                "## Fazendo replace em um arquivo"
            ],
            "metadata": {
                "azdata_cell_guid": "8648c948-27a4-4627-9529-a869cf603e1b"
            }
        },
        {
            "cell_type": "code",
            "source": [
                "(Get-Content D:\\Wesley\\VersionCode\\BancoDados\\PowerShell\\teste.txt) -replace('K-Means|Python','K-MEANS')"
            ],
            "metadata": {
                "azdata_cell_guid": "b651dc8d-b927-44ba-a562-2851896150b6"
            },
            "outputs": [
                {
                    "name": "stdout",
                    "text": "In data science, we often think about how to use data to make predictions on new data points. This is called ■?osupervised learning.■?? Sometimes, however, rather than ■?~making predictions■?T, we instead want to categorize data into buckets. This is termed ■?ounsupervised learning.■??\nTo illustrate the difference, let■?Ts say we■?Tre at a major pizza chain and we■?Tve been tasked with creating a feature in the order management software that will predict delivery times for customers. In order to achieve this, we are given a dataset that has delivery times, distances traveled, day of week, time of day, staff on hand, and volume of sales for several deliveries in the past. From this data, we can make predictions on future delivery times. This is a good example of supervised learning.\nNow, let■?Ts say the pizza chain wants to send out targeted coupons to customers. It wants to segment its customers into 4 groups: large families, small families, singles, and college students. We are given prior ordering data (e.g. size of order, price, frequency, etc) and we■?Tre tasked with putting each customer into one of the four buckets. This would be an example of ■?ounsupervised learning■?? since we■?Tre not making predictions; we■?Tre merely categorizing the customers into groups.\nClustering is one of the most frequently utilized forms of unsupervised learning. In this article, we■?Tll explore two of the most common forms of clustering: K-MEANS and hierarchical.\nUnderstanding the K-MEANS Clustering Algorithm\nLet■?Ts look at how K-MEANS clustering works. First, let me introduce you to my good friend, blobby; i.e. the make_blobs function in K-MEANS■?Ts sci-kit learn library. We■?Tll create four random clusters using make_blobs to aid in our task.\n",
                    "output_type": "stream"
                }
            ],
            "execution_count": 5
        },
        {
            "cell_type": "markdown",
            "source": [
                "## Criando um novo arquivo alterado"
            ],
            "metadata": {
                "azdata_cell_guid": "c6f0b471-9c23-473e-9c4f-760747d91d04"
            }
        },
        {
            "cell_type": "code",
            "source": [
                "(Get-Content D:\\Wesley\\VersionCode\\BancoDados\\PowerShell\\teste.txt) -replace('K-Means|Python','K-MEANS') > 'D:\\Wesley\\VersionCode\\BancoDados\\PowerShell\\novo.txt'"
            ],
            "metadata": {
                "azdata_cell_guid": "e2eff96d-6f7a-4618-9f4a-06bebf4db0b2"
            },
            "outputs": [
                {
                    "name": "stdout",
                    "text": "",
                    "output_type": "stream"
                }
            ],
            "execution_count": 11
        },
        {
            "cell_type": "markdown",
            "source": [
                "##"
            ],
            "metadata": {
                "azdata_cell_guid": "7c0662bd-461c-4729-906b-fee213b3ba19"
            }
        }
    ]
}