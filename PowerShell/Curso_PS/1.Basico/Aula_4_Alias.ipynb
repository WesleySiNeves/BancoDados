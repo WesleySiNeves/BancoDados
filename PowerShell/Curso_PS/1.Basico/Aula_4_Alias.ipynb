{
    "metadata": {
        "kernelspec": {
            "name": "powershell",
            "display_name": "PowerShell",
            "language": "powershell"
        },
        "language_info": {
            "name": "powershell",
            "codemirror_mode": "shell",
            "mimetype": "text/x-sh",
            "file_extension": ".ps1"
        }
    },
    "nbformat_minor": 2,
    "nbformat": 4,
    "cells": [
        {
            "cell_type": "markdown",
            "source": [
                "## retorna os alias do powerShell"
            ],
            "metadata": {
                "azdata_cell_guid": "74897de2-5b69-4d7d-ac33-65d00b546789"
            }
        },
        {
            "cell_type": "code",
            "source": [
                "Get-Command *-alias"
            ],
            "metadata": {
                "azdata_cell_guid": "1ba6236d-f3ba-4f90-9493-d3787cdab74c"
            },
            "outputs": [
                {
                    "name": "stdout",
                    "text": "\nCommandType     Name                                               Version    Source                                   \n-----------     ----                                               -------    ------                                   \nCmdlet          Export-Alias                                       3.1.0.0    Microsoft.PowerShell.Utility             \nCmdlet          Get-Alias                                          3.1.0.0    Microsoft.PowerShell.Utility             \nCmdlet          Import-Alias                                       3.1.0.0    Microsoft.PowerShell.Utility             \nCmdlet          New-Alias                                          3.1.0.0    Microsoft.PowerShell.Utility             \nCmdlet          Set-Alias                                          3.1.0.0    Microsoft.PowerShell.Utility             \n\n\n",
                    "output_type": "stream"
                }
            ],
            "execution_count": 2
        },
        {
            "cell_type": "code",
            "source": [
                "Get-Alias"
            ],
            "metadata": {
                "azdata_cell_guid": "00644aed-ef2a-4cbb-b581-8f3af9da01bb"
            },
            "outputs": [
                {
                    "name": "stdout",
                    "text": "\nCommandType     Name                                               Version    Source                                   \n-----------     ----                                               -------    ------                                   \nAlias           % -> ForEach-Object                                                                                    \nAlias           ? -> Where-Object                                                                                      \nAlias           ac -> Add-Content                                                                                      \nAlias           asnp -> Add-PSSnapin                                                                                   \nAlias           cat -> Get-Content                                                                                     \nAlias           cd -> Set-Location                                                                                     \nAlias           CFS -> ConvertFrom-String                          3.1.0.0    Microsoft.PowerShell.Utility             \nAlias           chdir -> Set-Location                                                                                  \nAlias           clc -> Clear-Content                                                                                   \nAlias           clear -> Clear-Host                                                                                    \nAlias           clhy -> Clear-History                                                                                  \nAlias           cli -> Clear-Item                                                                                      \nAlias           clp -> Clear-ItemProperty                                                                              \nAlias           cls -> Clear-Host                                                                                      \nAlias           clv -> Clear-Variable                                                                                  \nAlias           cnsn -> Connect-PSSession                                                                              \nAlias           com",
                    "output_type": "stream"
                },
                {
                    "name": "stdout",
                    "text": "pare -> Compare-Object                                                                              \nAlias           copy -> Copy-Item                                                                                      \nAlias           cp -> Copy-Item                                                                                        \nAlias           cpi -> Copy-Item                                                                                       \nAlias           cpp -> Copy-ItemProperty                                                                               \nAlias           curl -> Invoke-WebRequest                                                                              \nAlias           cvpa -> Convert-Path                                                                                   \nAlias           dbp -> Disable-PSBreakpoint                                                                            \nAlias           del -> Remove-Item                                                                                     \nAlias           diff -> Compare-Object                                                                                 \nAlias           dir -> Get-ChildItem                                                                                   \nAlias           dnsn -> Disconnect-PSSession                                                                           \nAlias           ebp -> Enable-PSBreakpoint                                                                             \nAlias           echo -> Write-Output                                                                                   \nAlias           epal -> Export-Alias                                                                                   \nAlias           epcsv -> Export-Csv                                                                                    \nAlias           epsn -> Export-PSSession                                                                               \nAlias           erase -> Remove-Item                                                                                   \nAlias           etsn -> Enter-PSSession                                                                                \nAlias           exsn -> Exit-PSSession                                                                                 \nAlias           fc -> Format-Custom                                                                                    \nAlias           fhx -> Format-Hex                                  3.1.0.0    Microsoft.PowerShell.Utility             \nAlias           fl -> Format-List                                                                                      \nAlias           foreach -> ForEach-Object                                                                              \nAlias           ft -> Format-Table                                                                                     \nAlias           fw -> Format-Wide                                                                                      \nAlias           gal -> Get-Alias                                                                                       \nAlias           gbp -> Get-PSBreakpoint                                                                                \nAlias           gc -> Get-Content                                                                                      \nAlias           gci -> Get-ChildItem                                                                                   \nAlias           gcm -> Get-Command                                                                                     \nAlias           gcs -> Get-PSCallStack                                                                                 \nAlias           gdr -> Get-PSDrive                                                                                     \nAlias           ghy -> Get-History                                                                                     \n",
                    "output_type": "stream"
                },
                {
                    "name": "stdout",
                    "text": "Alias           gi -> Get-Item                                                                                         \nAlias           gjb -> Get-Job                                                                                         \nAlias           gl -> Get-Location                                                                                     \nAlias           gm -> Get-Member                                                                                       \nAlias           gmo -> Get-Module                                                                                      \nAlias           gp -> Get-ItemProperty                                                                                 \nAlias           gps -> Get-Process                                                                                     \nAlias           gpv -> Get-ItemPropertyValue                                                                           \nAlias           group -> Group-Object                                                                                  \nAlias           gsn -> Get-PSSession                                                                                   \nAlias           gsnp -> Get-PSSnapin                                                                                   \nAlias           gsv -> Get-Service                                                                                     \nAlias           gu -> Get-Unique                                                                                       \nAlias           gv -> Get-Variable                                                                                     \nAlias           gwmi -> Get-WmiObject                                                                                  \nAlias           h -> Get-History                                                                                       \nAlias           history -> Get-History                                                                                 \nAlias           icm -> Invoke-Command                                                                                  \nAlias           iex -> Invoke-Expression                                                                               \nAlias           ihy -> Invoke-History                                                                                  \nAlias           ii -> Invoke-Item                                                                                      \nAlias           ipal -> Import-Alias                                                                                   \nAlias           ipcsv -> Import-Csv                                                                                    \nAlias           ipmo -> Import-Module                                                                                  \nAlias           ipsn -> Import-PSSession                                                                               \nAlias           irm -> Invoke-RestMethod                                                                               \nAlias           ise -> powershell_ise.exe                                                                              \nAlias           iwmi -> Invoke-WMIMethod                                                                               \nAlias           iwr -> Invoke-WebRequest                                                                               \nAlias           kill -> Stop-Process                                                                                   \nAlias           lp -> Out-Printer                                                                                      \nAlias           ls -> Get-ChildItem                                                                                    \nAlias           man -> help                                                                                            \nAlias           md -> mkdir                                                                                            \nAlias           measure -> Measure-Object                                                                              \nAlias           mi -> Move-Item                                                                                        \nAlias           mount -> New-PSDrive                                                                                   \nAlias           move -> Move-Item                                                                                      \nAlias           mp -> Move-ItemProperty                                                                                \nAlias           mv -> Move-Item                                                                                        \nAlias           nal -> New-Alias                                                                                       \nAlias           ndr -> New-PSDrive                                                                                     \nAlias           ni -> New-Item                                                                                         \nAlias           nmo -> New-Module                                                                                      \nAlias           npssc -> New-PSSessionConfigurationFile                                                                \nAlias           nsn -> New-PSSession                                                                                   \nAlias           nv -> New-Variable                                                                                     \nAlias           ogv -> Out-GridView                                                                                    \nAlias           oh -> Out-Host                                                                                         \nAlias           popd -> Pop-Location                                                                                   \nAlias           ps -> Get-Process                                                                                      \nAlias           pushd -> Push-Location                                                                                 \nAlias           pwd -> Get-Location                                                                                    \nAlias           r -> Invoke-History                                                                                    \nAlias           rbp -> Remove-PSBreakpoint                                                                             \nAlias           rcjb -> Receive-Job                                                                                    \nAlias           rcsn -> Receive-PSSession                                                                              \nAlias           rd -> Remove-Item                                                                                      \nAlias           rdr -> Remove-PSDrive                                                                                  \nAlias           ren -> Rename-Item                                                                                     \nAlias           ri -> Remove-Item                                                                                      \nAlias           rjb -> Remove-Job                                                                                      \nAlias           rm -> Remove-Item                                                                                      \nAlias           rmdir -> Remove-Item                                                                                   \nAlias           rmo -> Remove-Module                                                                                   \nAlias           rni -> Rename-Item                                                                                     \nAlias           rnp -> Rename-ItemProperty                                                                             \nAlias           rp -> Remove-I",
                    "output_type": "stream"
                },
                {
                    "name": "stdout",
                    "text": "temProperty                                                                              \nAlias           rsn -> Remove-PSSession                                                                                \nAlias           rsnp -> Remove-PSSnapin                                                                                \nAlias           rujb -> Resume-Job                                                                                     \nAlias           rv -> Remove-Variable                                                                                  \nAlias           rvpa -> Resolve-Path                                                                                   \nAlias           rwmi -> Remove-WMIObject                                                                               ",
                    "output_type": "stream"
                },
                {
                    "name": "stdout",
                    "text": "\nAlias           sajb -> Start-Job                                                                                      \nAlias           sal -> Set-Alias                                                                                       \nAlias           saps -> Start-Process                                                                                  \nAlias           sasv -> Start-Service                                                                                  \nAlias           sbp -> Set-PSBreakpoint                                                                                \nAlias           sc -> Set-Content                                                                                      \nAlias           select -> Select-Object                                                                                \nAlias           set -> Set-Variable                                                                                    \nAlias           shcm -> Show-Command                                                                                   \nAlias           si -> Set-Item                                                                                         \nAlias           sl -> Set-Location                                                                                     \nAlias           sleep -> Start-Sleep                                                                                   \nAlias           sls -> Select-String                                                                                   \nAlias           sort -> Sort-Object                                                                                    \nAlias           sp -> Set-ItemProperty                                                                                 \nAlias           spjb -> Stop-Job                                                                                       \nAlias           spps -> Stop-Process                                                                                   \nAlias           spsv -> Stop-Service                                                                                   \nAlias           start -> Start-Process                                                                                 \nAlias           sujb -> Suspend-Job                                                                                    \nAlias           sv -> Set-Variable                                                                                     \nAlias           swmi -> Set-WMIInstance                                                                                \nAlias           tee -> Tee-Object                                                                                      \nAlias           trcm -> Trace-Command                                                                                  \nAlias           type -> Get-Content                                                                                    \nAlias           wget -> Invoke-WebRequest                                                                              \nAlias           where -> Where-Object                                                                                  \nAlias           wjb -> Wait-Job                                                                                        \nAlias           write -> Write-Output                                                                                  \n\n\n",
                    "output_type": "stream"
                }
            ],
            "execution_count": 3
        },
        {
            "cell_type": "markdown",
            "source": [
                "## Criando um Alias\n",
                "\n",
                "<span style=\"color: #795e26;\">New-Alias</span>  : apenas cria"
            ],
            "metadata": {
                "azdata_cell_guid": "79e7a019-9a04-468c-91ca-26f1ba05262e"
            }
        },
        {
            "cell_type": "code",
            "source": [
                "New-Alias -Name limpar -Value Clear-Host"
            ],
            "metadata": {
                "azdata_cell_guid": "781ca733-b4ec-4d3b-94a0-84ef2418064f"
            },
            "outputs": [
                {
                    "name": "stdout",
                    "text": "New-Alias : Alias n■ permitido porque j■ existe um alias com o nome 'limpar'.\nNo linha:2 caractere:1\n+ New-Alias -Name limpar -Value Clear-Host\n+ ~~~~~~~~~~~~~~~~~~~~~~~~~~~~~~~~~~~~~~~~\n    + CategoryInfo          : ResourceExists: (limpar:String) [New-Alias], SessionStateException\n    + FullyQualifiedErrorId : AliasAlreadyExists,Microsoft.PowerShell.Commands.NewAliasCommand\n \n",
                    "output_type": "stream"
                }
            ],
            "execution_count": 6
        },
        {
            "cell_type": "markdown",
            "source": [
                "## Vendo se um alias já existe"
            ],
            "metadata": {
                "azdata_cell_guid": "589a0f96-5d91-43cf-ac50-bb34424cd7ea"
            }
        },
        {
            "cell_type": "code",
            "source": [
                "Get-Alias -Definition Clear-Host"
            ],
            "metadata": {
                "azdata_cell_guid": "fb3d6852-3753-4bb4-a6d6-6c0b15c60a42"
            },
            "outputs": [
                {
                    "name": "stdout",
                    "text": "\nCommandType     Name                                               Version    Source                                   \n-----------     ----                                               -------    ------                                   \nAlias           clear -> Clear-Host                                                                                    \nAlias           cls -> Clear-Host                                                                                      \nAlias           limpar -> Clear-Host                                                                                   \n\n\n",
                    "output_type": "stream"
                }
            ],
            "execution_count": 10
        },
        {
            "cell_type": "markdown",
            "source": [
                "## Cria se não existir , se existir atualiza"
            ],
            "metadata": {
                "azdata_cell_guid": "01253793-667a-4033-9d01-132746dba2f5"
            }
        },
        {
            "cell_type": "code",
            "source": [
                "Set-Alias -Name limpar -Value Get-Host"
            ],
            "metadata": {
                "azdata_cell_guid": "87f972f4-b31b-4985-8020-b40f4fcfbbc2"
            },
            "outputs": [
                {
                    "name": "stdout",
                    "text": "",
                    "output_type": "stream"
                }
            ],
            "execution_count": 11
        },
        {
            "cell_type": "code",
            "source": [
                "limpar"
            ],
            "metadata": {
                "azdata_cell_guid": "c6c78f9c-9f37-4e1d-93e2-b5299aa3446f"
            },
            "outputs": [
                {
                    "name": "stdout",
                    "text": "\n\nName             : ConsoleHost\nVersion          : 5.1.18362.752\nInstanceId       : 0d75d741-8303-48c4-ac50-4aba1a9b5f38\nUI               : System.Management.Automation.Internal.Host.InternalHostUserInterface\nCurrentCulture   : pt-BR\nCurrentUICulture : pt-BR\nPrivateData      : Microsoft.PowerShell.ConsoleHost+ConsoleColorProxy\nDebuggerEnabled  : True\nIsRunspacePushed : False\nRunspace         : System.Management.Automation.Runspaces.LocalRunspace\n\n\n\n",
                    "output_type": "stream"
                }
            ],
            "execution_count": 12
        },
        {
            "cell_type": "markdown",
            "source": [
                "## Exportar um Alias em formato texto"
            ],
            "metadata": {
                "azdata_cell_guid": "a2b869af-0c3f-48c4-adff-a0002e93e397"
            }
        },
        {
            "cell_type": "code",
            "source": [
                "Export-Alias   $home\\Desktop\\AliasPowerShell.txt"
            ],
            "metadata": {
                "azdata_cell_guid": "861b7c95-1d20-4582-825b-13afec8505cc"
            },
            "outputs": [
                {
                    "name": "stdout",
                    "text": "",
                    "output_type": "stream"
                }
            ],
            "execution_count": 13
        },
        {
            "cell_type": "markdown",
            "source": [
                "## Exportar os alias em formato csv"
            ],
            "metadata": {
                "azdata_cell_guid": "52f3b70e-d9e2-4b0a-8230-835c340e7a9b"
            }
        },
        {
            "cell_type": "code",
            "source": [
                "Export-Alias   $home\\Desktop\\AliasPowerShell.csv -as csv"
            ],
            "metadata": {
                "azdata_cell_guid": "4c83778b-d6e5-4e3a-b2d2-9cfd1530852b"
            },
            "outputs": [
                {
                    "name": "stdout",
                    "text": "",
                    "output_type": "stream"
                }
            ],
            "execution_count": 17
        },
        {
            "cell_type": "markdown",
            "source": [
                "## Exportar os alias em formato Script power Shell\n",
                "\n",
                "1\n",
                "\n",
                "Export-Alias···$home\\Desktop\\AliasPowerShell.csv·-as·csv\n",
                "\n",
                "- [[ ]](.\\C:\\Run%20cell%20(F5))\n",
                "\n",
                "1\n",
                "\n",
                "Export-Alias    $home\\Desktop\\AliasPowerShell.ps1  -as  Script\n",
                "\n",
                "- [TERMINAL](.\\C:\\Terminal)\n",
                "- [PROBLEMS](.\\C:\\Problems%20(Ctrl+Shift+M)%20-%20Total%200%20Problems)\n",
                "- [OUTPUT](.\\C:\\Output%20(Ctrl+Shift+U))\n",
                "- [QUERY HISTORY](.\\C:\\Query%20History)\n",
                "- [TASKS](.\\C:\\Tasks%20(Ctrl+T))\n",
                "\n",
                "- 1: PowerShell Integrated Console─────────Select Default Shell"
            ],
            "metadata": {
                "azdata_cell_guid": "70446eef-a280-4bb8-9fd7-cb87d3a4afe1"
            }
        },
        {
            "cell_type": "code",
            "source": [
                "Export-Alias   $home\\Desktop\\AliasPowerShell.ps1 -as Script"
            ],
            "metadata": {
                "azdata_cell_guid": "4f71b54b-0254-4f7e-bddf-414d42bbd493"
            },
            "outputs": [],
            "execution_count": null
        },
        {
            "cell_type": "markdown",
            "source": [
                "## exportar  apenas alguns alias"
            ],
            "metadata": {
                "azdata_cell_guid": "4d95887d-f7eb-4562-a611-f695491bcd0c"
            }
        },
        {
            "cell_type": "code",
            "source": [
                "Export-Alias   $home\\Desktop\\AliasPowerShell.ps1 -Name limpar\r\n",
                ""
            ],
            "metadata": {
                "azdata_cell_guid": "4d264858-f4b2-4470-a585-a12f5a401cc6"
            },
            "outputs": [
                {
                    "name": "stdout",
                    "text": "",
                    "output_type": "stream"
                }
            ],
            "execution_count": 18
        }
    ]
}