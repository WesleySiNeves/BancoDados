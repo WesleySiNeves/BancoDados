{
    "metadata": {
        "kernelspec": {
            "name": "powershell",
            "display_name": "PowerShell",
            "language": "powershell"
        },
        "language_info": {
            "name": "powershell",
            "codemirror_mode": "shell",
            "mimetype": "text/x-sh",
            "file_extension": ".ps1"
        }
    },
    "nbformat_minor": 2,
    "nbformat": 4,
    "cells": [
        {
            "cell_type": "markdown",
            "source": [
                "## Usando o Get Help"
            ],
            "metadata": {
                "azdata_cell_guid": "8b1289f8-e532-407f-b034-b976f80fa53f"
            }
        },
        {
            "cell_type": "code",
            "source": [
                "Get-Help Get-Host"
            ],
            "metadata": {
                "azdata_cell_guid": "633df9e8-3935-43c3-ab69-de716fc518a4"
            },
            "outputs": [
                {
                    "name": "stdout",
                    "text": "\nNOME\n    Get-Host\n    \nSINTAXE\n    Get-Host  [<CommonParameters>]\n    \n\nALIASES\n    Nenhum\n    \n\nCOMENT■RIOS\n    Get-Help n■ consegue localizar os arquivos de Ajuda para o cmdlet neste computador. Apenas a ajuda parcial est■ \n    sendo exibida.\n        -- Para baixar e instalar arquivos de Ajuda para o m■dulo que inclui esse cmdlet, use Update-Help.\n        -- Para visualizar o t■pico de Ajuda desse cmdlet online, digite: \"Get-Help Get-Host -Online\" ou \n           acesse https://go.microsoft.com/fwlink/?LinkID=113318.\n\n\n\n",
                    "output_type": "stream"
                }
            ],
            "execution_count": 1
        },
        {
            "cell_type": "markdown",
            "source": [
                "## Acessando a ajuda detalhada"
            ],
            "metadata": {
                "azdata_cell_guid": "17927e58-85d4-43a1-9c4a-744acaff161c"
            }
        },
        {
            "cell_type": "code",
            "source": [
                "Get-Help Get-Host -Full"
            ],
            "metadata": {
                "azdata_cell_guid": "23bb0141-b10e-4a97-b380-a7b13b683c4c"
            },
            "outputs": [
                {
                    "name": "stdout",
                    "text": "\nNOME\n    Get-Host\n    \nSINTAXE\n    Get-Host  [<CommonParameters>]\n    \n    \nPAR■METROS\n    <CommonParameters>\n        Este cmdlet d■ suporte a par■metros comuns: Verbose, Debug,\n        ErrorAction, ErrorVariable, WarningAction, WarningVariable,\n        OutBuffer, PipelineVariable e OutVariable. Para obter mais informa■■s, consulte \n        about_CommonParameters (https://go.microsoft.com/fwlink/?LinkID=113216). \n    \n    \nENTRADAS\n    Nenhum\n    \n    \nSA■AS\n    System.Management.Automation.Host.PSHost\n    \n    \nALIASES\n    Nenhum\n    \n\nCOMENT■RIOS\n    Get-Help n■ consegue localizar os arquivos de Ajuda para o cmdlet neste computador. Apenas a ajuda parcial est■ \n    sendo exibida.\n        -- Para baixar e instalar arquivos de Ajuda para o m■dulo que inclui esse cmdlet, use Update-Help.\n        -- Para visualizar o t■pico de Ajuda desse cmdlet online, digite: \"Get-Help Get-Host -Online\" ou \n           acesse https://go.microsoft.com/fwlink/?LinkID=113318.\n\n\n\n",
                    "output_type": "stream"
                }
            ],
            "execution_count": 4
        },
        {
            "cell_type": "markdown",
            "source": [
                "## Acessando exemplos ho Help"
            ],
            "metadata": {
                "azdata_cell_guid": "39f66025-3c81-4094-87b8-33cc93dd4a35"
            }
        },
        {
            "cell_type": "code",
            "source": [
                "Get-Help Get-Host -examples"
            ],
            "metadata": {
                "azdata_cell_guid": "5e31ca02-c8e8-48b8-bce4-596365b8d013"
            },
            "outputs": [
                {
                    "name": "stdout",
                    "text": "\nNOME\n    Get-Host\n\nALIASES\n    Nenhum\n    \n\nCOMENT■RIOS\n    Get-Help n■ consegue localizar os arquivos de Ajuda para o cmdlet neste computador. Apenas a ajuda parcial est■ \n    sendo exibida.\n        -- Para baixar e instalar arquivos de Ajuda para o m■dulo que inclui esse cmdlet, use Update-Help.\n        -- Para visualizar o t■pico de Ajuda desse cmdlet online, digite: \"Get-Help Get-Host -Online\" ou \n           acesse https://go.microsoft.com/fwlink/?LinkID=113318.\n\n\n\n",
                    "output_type": "stream"
                }
            ],
            "execution_count": 7
        }
    ]
}