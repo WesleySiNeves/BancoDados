{
    "metadata": {
        "kernelspec": {
            "name": "powershell",
            "display_name": "PowerShell",
            "language": "powershell"
        },
        "language_info": {
            "name": "powershell",
            "codemirror_mode": "shell",
            "mimetype": "text/x-sh",
            "file_extension": ".ps1"
        }
    },
    "nbformat_minor": 2,
    "nbformat": 4,
    "cells": [
        {
            "cell_type": "markdown",
            "source": [
                "## $ofs altera o formato da saida do power shell\n",
                "\n",
                "<br>"
            ],
            "metadata": {
                "azdata_cell_guid": "39c01410-a42b-4978-8218-2ff3bd8b8b4a"
            }
        },
        {
            "cell_type": "code",
            "source": [
                "$OFS =\"\""
            ],
            "metadata": {
                "azdata_cell_guid": "ab0e98fb-a79c-4cdb-94a9-02caa6893346"
            },
            "outputs": [
                {
                    "name": "stdout",
                    "text": "",
                    "output_type": "stream"
                }
            ],
            "execution_count": 13
        },
        {
            "cell_type": "code",
            "source": [
                "[char]\"Hal\""
            ],
            "metadata": {
                "azdata_cell_guid": "ef046d22-747f-43be-8b9e-1dfeb2a8f47f"
            },
            "outputs": [
                {
                    "name": "stdout",
                    "text": "N■ ■ poss■vel converter o valor \"Hal\" para o tipo \"System.Char\". Erro: \"Cadeia de caracteres deve ter exatamente um \n",
                    "output_type": "stream"
                },
                {
                    "name": "stdout",
                    "text": "caractere de comprimento.\"\nNo linha:2 caractere:1\n+ [char]\"Hal\"\n+ ~~~~~~~~~~~\n    + CategoryInfo          : InvalidArgument: (:) [], RuntimeException\n    + FullyQualifiedErrorId : InvalidCastParseTargetInvocation\n \n",
                    "output_type": "stream"
                }
            ],
            "execution_count": 14
        },
        {
            "cell_type": "markdown",
            "source": [
                "## Convertendo para matriz"
            ],
            "metadata": {
                "azdata_cell_guid": "45e9cba3-6d5d-4d33-8119-a25ae0b33017"
            }
        },
        {
            "cell_type": "code",
            "source": [
                "[char[]]\"Hal\""
            ],
            "metadata": {
                "azdata_cell_guid": "6f402c6b-0f85-434a-9939-21bb6e5bb088"
            },
            "outputs": [
                {
                    "name": "stdout",
                    "text": "H\na\nl\n",
                    "output_type": "stream"
                }
            ],
            "execution_count": 15
        },
        {
            "cell_type": "code",
            "source": [
                "[int[]][char[]]\"Hal\""
            ],
            "metadata": {
                "azdata_cell_guid": "c90c69ff-1945-4809-97d3-bc49b29cff03"
            },
            "outputs": [
                {
                    "name": "stdout",
                    "text": "72\n97\n108\n",
                    "output_type": "stream"
                }
            ],
            "execution_count": 19
        },
        {
            "cell_type": "markdown",
            "source": [
                "## a variavel $_ significa o item atual da lista dentro de um foreach"
            ],
            "metadata": {
                "azdata_cell_guid": "6c3ed206-6399-4bd4-bdab-239ab7192ccd"
            }
        },
        {
            "cell_type": "code",
            "source": [
                "[int[]][char[]]\"Hal\" | foreach { $_ + 1 }"
            ],
            "metadata": {
                "azdata_cell_guid": "8c7690f2-985d-4d62-958a-bca369232ddd"
            },
            "outputs": [
                {
                    "name": "stdout",
                    "text": "73\n98\n109\n",
                    "output_type": "stream"
                }
            ],
            "execution_count": 20
        },
        {
            "cell_type": "code",
            "source": [
                "([int[]][char[]]\"Hal\" | foreach { $_ + 1 }).GetType()"
            ],
            "metadata": {
                "azdata_cell_guid": "8610f7bf-c949-4e52-81c0-6f5f4725e3d8"
            },
            "outputs": [
                {
                    "name": "stdout",
                    "text": "\nIsPublic IsSerial Name                                     BaseType                                                    \n-------- -------- ----                                     --------                                                    \nTrue     True     Object[]                                 System.Array                                                \n\n\n",
                    "output_type": "stream"
                }
            ],
            "execution_count": 21
        },
        {
            "cell_type": "code",
            "source": [
                "[string][char[]]([int[]][char[]]\"Hal\" | foreach { $_ + 1 })"
            ],
            "metadata": {
                "azdata_cell_guid": "7a4cd7ca-88cb-448d-abc6-c0c0543e7db0"
            },
            "outputs": [
                {
                    "name": "stdout",
                    "text": "Ibm\n",
                    "output_type": "stream"
                }
            ],
            "execution_count": 23
        },
        {
            "cell_type": "markdown",
            "source": [
                ""
            ],
            "metadata": {
                "azdata_cell_guid": "3054f735-ec94-4a2e-b979-268222a2d6d3"
            }
        }
    ]
}