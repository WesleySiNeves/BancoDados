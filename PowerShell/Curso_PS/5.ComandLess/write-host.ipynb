{
    "metadata": {
        "kernelspec": {
            "name": "powershell",
            "display_name": "PowerShell",
            "language": "powershell"
        },
        "language_info": {
            "name": "powershell",
            "codemirror_mode": "shell",
            "mimetype": "text/x-sh",
            "file_extension": ".ps1"
        }
    },
    "nbformat_minor": 2,
    "nbformat": 4,
    "cells": [
        {
            "cell_type": "markdown",
            "source": [
                "## Configuraçoes do Write Host e caracteres de scape"
            ],
            "metadata": {
                "azdata_cell_guid": "1379d3bf-fc7a-4392-ac33-d24b757336f8"
            }
        },
        {
            "cell_type": "code",
            "source": [
                "write-host \"Wesley Neves\""
            ],
            "metadata": {
                "azdata_cell_guid": "e0029c74-a822-4ffd-92b7-8c374a60ff05"
            },
            "outputs": [
                {
                    "name": "stdout",
                    "text": "",
                    "output_type": "stream"
                }
            ],
            "execution_count": 1
        },
        {
            "cell_type": "code",
            "source": [
                "write-host \"Wesley\""
            ],
            "metadata": {
                "azdata_cell_guid": "9b68c5b3-8b01-4d9c-ab1e-ac0a29511f2e"
            },
            "outputs": [
                {
                    "output_type": "stream",
                    "name": "stdout",
                    "text": "Wesley\n"
                }
            ],
            "execution_count": 6
        },
        {
            "cell_type": "code",
            "source": [
                "write-host \"Wesley\"+\"Neves\""
            ],
            "metadata": {
                "azdata_cell_guid": "50b458ed-690b-49b2-9cd9-5a31abb81d98"
            },
            "outputs": [
                {
                    "name": "stdout",
                    "text": "Wesley +Neves\n",
                    "output_type": "stream"
                }
            ],
            "execution_count": 3
        },
        {
            "cell_type": "code",
            "source": [
                "write-host \"Wesley\"\"Neves\""
            ],
            "metadata": {
                "azdata_cell_guid": "704795d0-874d-4221-9cb6-9037d7b3cc2f"
            },
            "outputs": [
                {
                    "name": "stdout",
                    "text": "Wesley\"Neves\n",
                    "output_type": "stream"
                }
            ],
            "execution_count": 4
        },
        {
            "cell_type": "code",
            "source": [
                "write-host \"Wesley\" \"Neves\""
            ],
            "metadata": {
                "azdata_cell_guid": "ebd2664c-d330-4ef5-a71e-de97f5b5bb34"
            },
            "outputs": [
                {
                    "name": "stdout",
                    "text": "Wesley Neves\n",
                    "output_type": "stream"
                }
            ],
            "execution_count": 5
        },
        {
            "cell_type": "code",
            "source": [
                "write-host \"Wesley\" \"Neves\" -separator \"_\""
            ],
            "metadata": {
                "azdata_cell_guid": "ec800b6c-094f-4b29-8e17-ff7a11aff093"
            },
            "outputs": [
                {
                    "name": "stdout",
                    "text": "Wesley_Neves\n",
                    "output_type": "stream"
                },
                {
                    "name": "stdout",
                    "text": "",
                    "output_type": "stream"
                }
            ],
            "execution_count": 1
        },
        {
            "cell_type": "code",
            "source": [
                "write-host \"Wesley\" \"Neves\" -separator \"`t`t`t\""
            ],
            "metadata": {
                "azdata_cell_guid": "db94956b-be49-4c1f-a017-a35e7edbbd82"
            },
            "outputs": [
                {
                    "name": "stdout",
                    "text": "Wesley\t\t\tNeves\n",
                    "output_type": "stream"
                }
            ],
            "execution_count": 4
        },
        {
            "cell_type": "code",
            "source": [
                "write-host \"Wesley\" \"Neves\" -separator \"`\""
            ],
            "metadata": {
                "azdata_cell_guid": "ee331ed3-ef00-4a8a-bfe2-0aae6b05d0e2"
            },
            "outputs": [],
            "execution_count": null
        }
    ]
}