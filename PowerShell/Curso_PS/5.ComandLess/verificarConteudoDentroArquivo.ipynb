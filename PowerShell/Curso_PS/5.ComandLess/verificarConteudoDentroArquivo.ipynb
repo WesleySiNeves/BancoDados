{
    "metadata": {
        "kernelspec": {
            "name": "powershell",
            "display_name": "PowerShell",
            "language": "powershell"
        },
        "language_info": {
            "name": "powershell",
            "codemirror_mode": "shell",
            "mimetype": "text/x-sh",
            "file_extension": ".ps1"
        }
    },
    "nbformat_minor": 2,
    "nbformat": 4,
    "cells": [
        {
            "cell_type": "markdown",
            "source": [
                "## Verifica se existe  um conteudo 'science' procurado dentro do arquivo"
            ],
            "metadata": {
                "azdata_cell_guid": "7d5183eb-a5d9-4c01-b743-68f99f6aea8d"
            }
        },
        {
            "cell_type": "code",
            "source": [
                "Select-String -Path D:\\Wesley\\VersionCode\\BancoDados\\PowerShell\\novo.txt -Pattern 'science'"
            ],
            "metadata": {
                "azdata_cell_guid": "9f8355ff-704f-40f6-9301-58582ed8cec8"
            },
            "outputs": [
                {
                    "output_type": "stream",
                    "name": "stdout",
                    "text": "\nVersionCode\\BancoDados\\PowerShell\\novo.txt:1:In data science, we often think about how to use data to make predictions \non new data points. This is called ■?osupervised learning.■?? Sometimes, however, rather than ■?~making \npredictions■?T, we instead want to categorize data into buckets. This is termed ■?ounsupervised learning.■??\n\n\n"
                }
            ],
            "execution_count": 5
        },
        {
            "cell_type": "code",
            "source": [
                "if (Get-ChildItem D:\\Wesley\\VersionCode\\BancoDados\\PowerShell\\novo.txt | Select-String -Pattern 'science')\r\n",
                "{\r\n",
                "    Write-Host 'No arquivo contem science'\r\n",
                "}\r\n",
                "else {\r\n",
                "    Write-Host 'No arquivo não contem science'\r\n",
                "}"
            ],
            "metadata": {
                "azdata_cell_guid": "a5b044e6-8df0-4b1d-a875-3d15fd93fae5",
                "tags": []
            },
            "outputs": [
                {
                    "name": "stdout",
                    "text": "No arquivo contem science\n",
                    "output_type": "stream"
                }
            ],
            "execution_count": 3
        }
    ]
}