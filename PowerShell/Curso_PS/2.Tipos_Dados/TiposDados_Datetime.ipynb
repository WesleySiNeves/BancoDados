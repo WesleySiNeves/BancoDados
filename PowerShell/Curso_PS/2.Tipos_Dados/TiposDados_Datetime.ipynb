{
    "metadata": {
        "kernelspec": {
            "name": "powershell",
            "display_name": "PowerShell",
            "language": "powershell"
        },
        "language_info": {
            "name": "powershell",
            "codemirror_mode": "shell",
            "mimetype": "text/x-sh",
            "file_extension": ".ps1"
        }
    },
    "nbformat_minor": 2,
    "nbformat": 4,
    "cells": [
        {
            "cell_type": "code",
            "source": [
                "$OFS =\"\""
            ],
            "metadata": {
                "azdata_cell_guid": "ccc4dc39-9e76-4fd1-bbf9-f148357ea760"
            },
            "outputs": [
                {
                    "name": "stdout",
                    "text": "",
                    "output_type": "stream"
                }
            ],
            "execution_count": 1
        },
        {
            "cell_type": "code",
            "source": [
                "[datetime]\"12/25/2020\""
            ],
            "metadata": {
                "azdata_cell_guid": "f12999e5-aeca-4052-8f61-f2e37ecd11e1"
            },
            "outputs": [
                {
                    "name": "stdout",
                    "text": "\nsexta-feira, 25 de dezembro de 2020 00:00:00\n\n\n",
                    "output_type": "stream"
                }
            ],
            "execution_count": 2
        },
        {
            "cell_type": "code",
            "source": [
                "[datetime]\"12/25/2020\""
            ],
            "metadata": {
                "azdata_cell_guid": "867c1e98-a99d-4d37-a1f2-89be2cc3ddd4"
            },
            "outputs": [
                {
                    "name": "stdout",
                    "text": "\nsexta-feira, 25 de dezembro de 2020 00:00:00\n\n\n",
                    "output_type": "stream"
                }
            ],
            "execution_count": 3
        },
        {
            "cell_type": "code",
            "source": [
                "[datetime]\"12/25/2020\" - [datetime]::Now"
            ],
            "metadata": {
                "azdata_cell_guid": "dce89f61-904c-4f7d-b0fe-47fde932b495"
            },
            "outputs": [
                {
                    "name": "stdout",
                    "text": "\n\nDays              : 21\nHours             : 16\nMinutes           : 4\nSeconds           : 14\nMilliseconds      : 872\nTicks             : 18722548721689\nTotalDays         : 21,6696165760289\nTotalHours        : 520,070797824694\nTotalMinutes      : 31204,2478694817\nTotalSeconds      : 1872254,8721689\nTotalMilliseconds : 1872254872,1689\n\n\n\n",
                    "output_type": "stream"
                }
            ],
            "execution_count": 4
        }
    ]
}