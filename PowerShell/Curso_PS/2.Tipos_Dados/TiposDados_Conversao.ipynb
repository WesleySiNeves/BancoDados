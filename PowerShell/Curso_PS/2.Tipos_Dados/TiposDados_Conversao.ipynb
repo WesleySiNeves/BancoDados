{
    "metadata": {
        "kernelspec": {
            "name": "powershell",
            "display_name": "PowerShell",
            "language": "powershell"
        },
        "language_info": {
            "name": "powershell",
            "codemirror_mode": "shell",
            "mimetype": "text/x-sh",
            "file_extension": ".ps1"
        }
    },
    "nbformat_minor": 2,
    "nbformat": 4,
    "cells": [
        {
            "cell_type": "markdown",
            "source": [
                "## trabalhando com Conversoes de Dados"
            ],
            "metadata": {
                "azdata_cell_guid": "38a5b2cc-0a23-4283-9c43-92f3fdf9d692"
            }
        },
        {
            "cell_type": "code",
            "source": [
                "[int]\"1\""
            ],
            "metadata": {
                "azdata_cell_guid": "5f78947b-7e7c-4d33-a00a-c1099eafd6dc"
            },
            "outputs": [
                {
                    "output_type": "stream",
                    "name": "stdout",
                    "text": "1\n"
                }
            ],
            "execution_count": 1
        },
        {
            "cell_type": "code",
            "source": [
                "([int]\"1\").GetType()"
            ],
            "metadata": {
                "azdata_cell_guid": "6f2e4cee-d38a-47b8-bccc-3c76227edcd5"
            },
            "outputs": [
                {
                    "output_type": "stream",
                    "name": "stdout",
                    "text": "\nIsPublic IsSerial Name                                     BaseType                                                    \n-------- -------- ----                                     --------                                                    \nTrue     True     Int32                                    System.ValueType                                            \n\n\n"
                }
            ],
            "execution_count": 4
        },
        {
            "cell_type": "markdown",
            "source": [
                "## Criando uma matriz"
            ],
            "metadata": {
                "azdata_cell_guid": "01e292c3-be3b-4873-8768-dd06408ce605"
            }
        },
        {
            "cell_type": "code",
            "source": [
                "$nome ="
            ],
            "metadata": {
                "azdata_cell_guid": "b93f9a0d-2ff1-4421-a762-16d97f0016eb"
            },
            "outputs": [],
            "execution_count": null
        }
    ]
}