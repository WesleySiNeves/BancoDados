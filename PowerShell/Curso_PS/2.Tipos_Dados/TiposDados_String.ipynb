{
    "metadata": {
        "kernelspec": {
            "name": "powershell",
            "display_name": "PowerShell",
            "language": "powershell"
        },
        "language_info": {
            "name": "powershell",
            "codemirror_mode": "shell",
            "mimetype": "text/x-sh",
            "file_extension": ".ps1"
        },
        "orig_nbformat": 2
    },
    "nbformat_minor": 2,
    "nbformat": 4,
    "cells": [
        {
            "cell_type": "markdown",
            "source": [
                "## isso aqui é um array de valores\n",
                "\n",
                "<span style=\"font-family: Consolas, &quot;Courier New&quot;, monospace; font-size: 12px; white-space: pre; color: rgb(0, 0, 255);\">@</span><span style=\"color: rgb(33, 33, 33); font-family: Consolas, &quot;Courier New&quot;, monospace; font-size: 12px; white-space: pre;\">(</span><span style=\"font-family: Consolas, &quot;Courier New&quot;, monospace; font-size: 12px; white-space: pre; color: rgb(163, 21, 21);\">'wesley'</span><span style=\"font-family: Consolas, &quot;Courier New&quot;, monospace; font-size: 12px; white-space: pre; color: rgb(0, 0, 0);\">,</span><span style=\"font-family: Consolas, &quot;Courier New&quot;, monospace; font-size: 12px; white-space: pre; color: rgb(163, 21, 21);\">'neves'</span><span style=\"color: rgb(33, 33, 33); font-family: Consolas, &quot;Courier New&quot;, monospace; font-size: 12px; white-space: pre;\">)</span>"
            ],
            "metadata": {
                "azdata_cell_guid": "bff110f1-02d2-4e11-9835-531ec3fc4ff3"
            }
        },
        {
            "cell_type": "markdown",
            "source": [
                "## Metodos staticos globais"
            ],
            "metadata": {
                "azdata_cell_guid": "2064a32a-b82d-4036-939a-4bddcf969ca4"
            }
        },
        {
            "cell_type": "code",
            "source": [
                "[string]::Format(\r\n",
                "[string]::Join("
            ],
            "metadata": {
                "azdata_cell_guid": "d490fffd-1be1-4628-91dd-8cf4bd414f8a",
                "tags": [
                    "hide_input"
                ]
            },
            "outputs": [
                {
                    "output_type": "stream",
                    "name": "stdout",
                    "text": "No linha:2 caractere:11\n+ [string]::\n+           ~\nNome de propriedade ausente ap■s o operador de refer■ncia.\n    + CategoryInfo          : ParserError: (:) [], ParentContainsErrorRecordException\n    + FullyQualifiedErrorId : MissingPropertyName\n \n"
                }
            ],
            "execution_count": 2
        },
        {
            "cell_type": "markdown",
            "source": [
                "## Trabalhando com Stings"
            ],
            "metadata": {
                "azdata_cell_guid": "13d5d2cc-25bc-4a92-a5d4-dad4072b8b48"
            }
        },
        {
            "cell_type": "code",
            "source": [
                "[string]:: join('-',@('Wesley','Neves','dba'))"
            ],
            "metadata": {
                "azdata_cell_guid": "d79da851-3647-48ec-bed2-2110cbd7b9b7"
            },
            "outputs": [
                {
                    "output_type": "stream",
                    "name": "stdout",
                    "text": "Wesley-Neves-dba\n"
                }
            ],
            "execution_count": 1
        },
        {
            "cell_type": "code",
            "source": [
                "[string]:: Format('{0}-{1}','wesley','neves')"
            ],
            "metadata": {
                "azdata_cell_guid": "08bda13c-e320-4bbd-8c0f-3fd3c9e103fd"
            },
            "outputs": [
                {
                    "output_type": "stream",
                    "name": "stdout",
                    "text": "wesley-neves\n"
                }
            ],
            "execution_count": 1
        },
        {
            "cell_type": "code",
            "source": [
                "[string]:: Format('{0}-{1}',@('wesley','neves'))"
            ],
            "metadata": {
                "azdata_cell_guid": "5a5c4a93-fa53-4973-80b0-4f3fd833d6b6"
            },
            "outputs": [
                {
                    "output_type": "stream",
                    "name": "stdout",
                    "text": "wesley-neves\n"
                }
            ],
            "execution_count": 2
        },
        {
            "cell_type": "code",
            "source": [
                "$variavel = \"Wesley Neves Dba\"\r\n",
                ""
            ],
            "metadata": {
                "azdata_cell_guid": "93ed4120-45ab-4ec1-b82e-c27e09f597c8",
                "tags": [
                    "hide_input"
                ]
            },
            "outputs": [
                {
                    "output_type": "stream",
                    "name": "stdout",
                    "text": ". {\n>> $variavel = \"Wesley Neves Dba\"\n>> \n"
                },
                {
                    "output_type": "stream",
                    "name": "stdout",
                    "text": ">> }\n>> \n"
                }
            ],
            "execution_count": 5
        },
        {
            "cell_type": "code",
            "source": [
                "$variavel.toupper()"
            ],
            "metadata": {
                "azdata_cell_guid": "cd8e1b6f-abd8-4bba-a02b-8474b1e30590"
            },
            "outputs": [
                {
                    "output_type": "stream",
                    "name": "stdout",
                    "text": "WESLEY NEVES DBA\n"
                }
            ],
            "execution_count": 7
        },
        {
            "cell_type": "code",
            "source": [
                "$variavel.tolower()"
            ],
            "metadata": {
                "azdata_cell_guid": "1e87d7c3-27ff-48b4-aa09-ab93f32519c5"
            },
            "outputs": [
                {
                    "output_type": "stream",
                    "name": "stdout",
                    "text": "wesley neves dba\n"
                }
            ],
            "execution_count": 8
        },
        {
            "cell_type": "code",
            "source": [
                "$variavel.length"
            ],
            "metadata": {
                "azdata_cell_guid": "737d43eb-5f5f-40f7-9402-82d3129dd6af"
            },
            "outputs": [
                {
                    "output_type": "stream",
                    "name": "stdout",
                    "text": "16\n"
                }
            ],
            "execution_count": 10
        },
        {
            "cell_type": "code",
            "source": [
                "$variavel.replace('s','x')"
            ],
            "metadata": {
                "azdata_cell_guid": "a149e5f1-f1e9-4dab-a85a-864b9d91eef3"
            },
            "outputs": [
                {
                    "output_type": "stream",
                    "name": "stdout",
                    "text": "Wexley Nevex Dba\n"
                }
            ],
            "execution_count": 11
        },
        {
            "cell_type": "code",
            "source": [
                "\"Wesley Neves\".ToUpper()\r\n",
                ""
            ],
            "metadata": {
                "azdata_cell_guid": "b340f0df-08cf-4d0a-a9e8-2ed9a91e4a92"
            },
            "outputs": [
                {
                    "name": "stdout",
                    "text": "WESLEY NEVES\n",
                    "output_type": "stream"
                }
            ],
            "execution_count": 1
        },
        {
            "cell_type": "code",
            "source": [
                "\"Wesley Neves\".Replace('e','x')"
            ],
            "metadata": {
                "azdata_cell_guid": "b8063a2b-a712-4093-a87b-3f1cf6b7dd70"
            },
            "outputs": [
                {
                    "name": "stdout",
                    "text": "Wxslxy Nxvxs\n",
                    "output_type": "stream"
                }
            ],
            "execution_count": 2
        }
    ]
}