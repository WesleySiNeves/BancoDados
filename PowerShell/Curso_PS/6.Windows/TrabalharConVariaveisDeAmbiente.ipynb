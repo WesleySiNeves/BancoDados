{
    "metadata": {
        "kernelspec": {
            "name": "powershell",
            "display_name": "PowerShell",
            "language": "powershell"
        },
        "language_info": {
            "name": "powershell",
            "codemirror_mode": "shell",
            "mimetype": "text/x-sh",
            "file_extension": ".ps1"
        }
    },
    "nbformat_minor": 2,
    "nbformat": 4,
    "cells": [
        {
            "cell_type": "markdown",
            "source": [
                "> \\## Basta consultar o drive env"
            ],
            "metadata": {
                "azdata_cell_guid": "6ef25f1c-775e-4b8b-b119-1cd56484664a"
            }
        },
        {
            "cell_type": "code",
            "source": [
                "dir env:"
            ],
            "metadata": {
                "azdata_cell_guid": "df87eb87-f017-4a96-8029-548a82b5e706"
            },
            "outputs": [
                {
                    "name": "stdout",
                    "text": "\nName                           Value                                                                                   \n----                           -----                                                                                   \nADS_LOGS                       C:\\Users\\wesley.neves\\AppData\\Roaming\\azuredatastudio\\logs\\20210104T160935              \nALLUSERSPROFILE                C:\\ProgramData                                                                          \nAMD_ENTRYPOINT                 vs/workbench/services/extensions/node/extensionHostProcess                              \nAPPDATA                        C:\\Users\\wesley.neves\\AppData\\Roaming                                                   \nAPPLICATION_INSIGHTS_NO_DIA... true                                                                                    \nCHOCOLATEYINSTALL              C:\\ProgramData\\chocolatey                                                               \nCHOCOLATEYLASTPATHUPDATE       132192536511372241                                                                      \nCHROME_CRASHPAD_PIPE_NAME      \\\\.\\pipe\\crashpad_23964_IJCOFBTJQPJHMNVC                                                \nCOMMONPROGRAMFILES             C:\\Program Files\\Common Files                                                           \nCOMMONPROGRAMFILES(X86)        C:\\Program Files (x86)\\Common Files                                                     \nCOMMONPROGRAMW6432             C:\\Program Files\\Common Files                                                           \nCOMPUTERNAME                   DS10                                                                                    \nCOMSPEC                        C:\\Windows\\system32\\cmd.exe                                                             \nDRIVERDATA                     C:\\Windows\\System32\\Drivers\\DriverData                                                  \nELECTRON_RUN_AS_NODE           1                                                                                       \nHOMEDRIVE                      C:                                                                                      \nHOMEPATH                       \\Users\\wesley.neves                                                                     \nIPY_INTERRUPT_EVENT            428                                                                                     \nJPY_INTERRUPT_EVENT            428                                                                                     \nJPY_PARENT_PID                 804                                                                                     \nJUPYTER_CONFIG_DIR             C:\\Users\\wesley.neves\\AppData\\Roaming\\jupyter\\instances\\be7d17e2-e0d6-47ec-a886-7df3f...\nJUPYTER_PATH                   C:\\Users\\wesley.neves\\AppData\\Roaming\\jupyter\\instances\\be7d17e2-e0d6-47ec-a886-7df3f...\nKERNEL_LAUNCH_TIMEOUT          40                                                                                      \nLOCALAPPDATA                   C:\\Users\\wesley.neves\\AppData\\Local                                                     \nLOGONSERVER                    \\\\EMILIANE                                                                              \nMYSQLCONNECTOR_ASSEMBLIESPATH  C:\\Program Files (x86)\\MySQL\\Connector NET 8.0\\Assemblies\\v4.5.2                        \nNUMBER_OF_PROCESSORS           8                                                                                       \nONEDRIVE                       C:\\Users\\wesley.neves\\OneDrive                                                          \nORIGINAL_XDG_CURRENT_DESKTOP   undefined                                                                               \nOS                             Windows_NT                                                                              \nPATH                           C:\\Users\\wesley.neves\\azuredatastudio-python\\0.0.1\\lib\\site-packages\\pywin32_system32...\nPATHEXT                        .COM;.EXE;.BAT;.CMD;.VBS;.VBE;.JS;.JSE;.WSF;.WSH;.MSC;.CPL                              \nPIPE_LOGGING                   true                                                                                    \nPROCESSOR_ARCHITECTURE         AMD64                                                                                   \nPROCESSOR_IDENTIFIER           Intel64 Family 6 Model 60 Stepping 3, GenuineIntel                                      \nPROCESSOR_LEVEL                6                                                                                       \nPROCESSOR_REVISION             3c03                                                                                    \nPROGRAMDATA                    C:\\ProgramData                                                                          \nPROGRAMFILES                   C:\\Program Files                                                                        \nPROGRAMFILES(X86)              C:\\Program Files (x86)                                                                  \nPROGRAMW6432                   C:\\Program Files                                                                        \nPROMPT                         $P$G                                                                                    \nPSMODULEPATH                   C:\\Users\\wesley.neves\\Documents\\WindowsPowerShell\\Modules;C:\\Program Files\\WindowsPow...\nPUBLIC                         C:\\Users\\Public                                                                         \nSYSTEMDRIVE                    C:                                                                                      \nSYSTEMROOT                     C:\\Windows                                                                              \nTEMP                           C:\\Users\\WESLEY~1.NEV\\AppData\\Local\\Temp                                                \nTFSPOWERTOOLDIR                C:\\Program Files (x86)\\Microsoft Team Foundation Server 2015 Power Tools\\               \nTMP                            C:\\Users\\WESLEY~1.NEV\\AppData\\Local\\Temp                                                \nUATDATA                        C:\\Windows\\CCM\\UATData\\D9F8C395-CAB8-491d-B8AC-179A1FE1BE77                             \nUSERDNSDOMAIN                  IMPLANTA.LOCAL                                                                          \nUSERDOMAIN                     IMPLANTA                                                                                \nUSERDOMAIN_ROAMINGPROFILE      IMPLANTA                                                                                \nUSERNAME                       Wesley.Neves                                                                            \nUSERPROFILE                    C:\\Users\\wesley.neves                                                                   \nVBOX_MSI_INSTALL_PATH          C:\\Program Files\\Oracle\\VirtualBox\\                                                     \nVERBOSE_LOGGING                true                                                                                    \nVS160ENTCOMNTOOLS              C:\\Program Files (x86)\\Microsoft Visual Studio\\2019\\Enterprise\\Common7\\Tools\\           \nVSCODE_CWD                     C:\\Users\\wesley.neves\\AppData\\Local\\Programs\\Azure Data Studio                          \nVSCODE_HANDLES_UNCAUGHT_ERRORS true                                                                                    \nVSCODE_IPC_HOOK                \\\\.\\pipe\\876c13c5fd1dfe975d44743d4c1526f5-1.25.1-main-sock                              \nVSCODE_IPC_HOOK_EXTHOST        \\\\.\\pipe\\vscode-ipc-7e8c1772-4e11-40b6-b901-75d3a0693318-sock                           \nVSCODE_LOG_STACK               false                                                                                   \nVSCODE_LOGS                    C:\\Users\\wesley.neves\\AppData\\Roaming\\azuredatastudio\\logs\\20210104T160935              \nVSCODE_NLS_CONFIG              {\"locale\":\"pt-br\",\"availableLanguages\":{},\"_languagePackSupport\":true}                  \nVSCODE_NODE_CACHED_DATA_DIR    C:\\Users\\wesley.neves\\AppData\\Roaming\\azuredatastudio\\CachedData\\e7eacc32c0d20bd4da84...\nVSCODE_PID                     23964                                                                                   \nWINDIR                         C:\\Windows                                                                              \n\n\n",
                    "output_type": "stream"
                }
            ],
            "execution_count": 1
        },
        {
            "cell_type": "code",
            "source": [
                "dir env:PATH"
            ],
            "metadata": {
                "azdata_cell_guid": "bdb67b92-1fd3-4f94-ba5b-35d12da92107"
            },
            "outputs": [
                {
                    "name": "stdout",
                    "text": "\nName                           Value                                                                                   \n----                           -----                                                                                   \nPATH                           C:\\Users\\wesley.neves\\azuredatastudio-python\\0.0.1\\lib\\site-packages\\pywin32_system32...\n\n\n",
                    "output_type": "stream"
                }
            ],
            "execution_count": 2
        },
        {
            "cell_type": "markdown",
            "source": [
                "\\## Criar uma variavel de ambiente"
            ],
            "metadata": {
                "azdata_cell_guid": "b22bb3d6-c8e5-449f-9608-8c6ab6d26b9d"
            }
        },
        {
            "cell_type": "code",
            "source": [
                "$env:Teste = \"Nova variavel de ambiente\""
            ],
            "metadata": {
                "azdata_cell_guid": "9bd2b7e7-fd7f-4113-acbc-af6ea299bccc"
            },
            "outputs": [
                {
                    "name": "stdout",
                    "text": "",
                    "output_type": "stream"
                }
            ],
            "execution_count": 4
        },
        {
            "cell_type": "code",
            "source": [
                "dir env:"
            ],
            "metadata": {
                "azdata_cell_guid": "e76d2352-3b89-4f05-849d-3e6409322afb"
            },
            "outputs": [
                {
                    "name": "stdout",
                    "text": "\nName                           Value                                                                                   \n----                           -----                                                                                   \nADS_LOGS                       C:\\Users\\wesley.neves\\AppData\\Roaming\\azuredatastudio\\logs\\20210104T160935              \nALLUSERSPROFILE                C:\\ProgramData                                                                          \nAMD_ENTRYPOINT                 vs/workbench/services/extensions/node/extensionHostProcess                              \nAPPDATA                        C:\\Users\\wesley.neves\\AppData\\Roaming                                                   \nAPPLICATION_INSIGHTS_NO_DIA... true                                                                                    \nCHOCOLATEYINSTALL              C:\\ProgramData\\chocolatey                                                               \nCHOCOLATEYLASTPATHUPDATE       132192536511372241                                                                      \nCHROME_CRASHPAD_PIPE_NAME      \\\\.\\pipe\\crashpad_23964_IJCOFBTJQPJHMNVC                                                \nCOMMONPROGRAMFILES             C:\\Program Files\\Common Files                                                           \nCOMMONPROGRAMFILES(X86)        C:\\Program Files (x86)\\Common Files                                                     \nCOMMONPROGRAMW6432             C:\\Program Files\\Common Files                                                           \nCOMPUTERNAME                   DS10                                                                                    \nCOMSPEC                        C:\\Windows\\system32\\cmd.exe                                                             \nDRIVERDATA                     C:\\Windows\\System32\\Drivers\\DriverData                                                  \nELECTRON_RUN_AS_NODE           1                                                                                       \nHOMEDRIVE                      C:                                                                                      \nHOMEPATH                       \\Users\\wesley.neves                                                                     \nIPY_INTERRUPT_EVENT            428                                                                                     \nJPY_INTERRUPT_EVENT            428                                                                                     \nJPY_PARENT_PID                 804                                                                                     \nJUPYTER_CONFIG_DIR             C:\\Users\\wesley.neves\\AppData\\Roaming\\jupyter\\instances\\be7d17e2-e0d6-47ec-a886-7df3f...\nJUPYTER_PATH                   C:\\Users\\wesley.neves\\AppData\\Roaming\\jupyter\\instances\\be7d17e2-e0d6-47ec-a886-7df3f...\nKERNEL_LAUNCH_TIMEOUT          40                                                                                      \nLOCALAPPDATA                   C:\\Users\\wesley.neves\\AppData\\Local                                                     \nLOGONSERVER                    \\\\EMILIANE                                                                              \nMYSQLCONNECTOR_ASSEMBLIESPATH  C:\\Program Files (x86)\\MySQL\\Connector NET 8.0\\Assemblies\\v4.5.2                        \nNUMBER_OF_PROCESSORS           8                                                                                       \nONEDRIVE                       C:\\Users\\wesley.neves\\OneDrive                                                          \nORIGINAL_XDG_CURRENT_DESKTOP   undefined                                                                               \nOS                             Windows_NT                                                                              \nPATH                           C:\\Users\\wesley.neves\\azuredatastudio-python\\0.0.1\\lib\\site-packages\\pywin32_system32...\nPATHEXT                        .COM;.EXE;.BAT;.CMD;.VBS;.VBE;.JS;.JSE;.WSF;.WSH;.MSC;.CPL                              \nPIPE_LOGGING                   true                                                                                    \nPROCESSOR_ARCHITECTURE         AMD64                                                                                   \nPROCESSOR_IDENTIFIER           Intel64 Family 6 Model 60 Stepping 3, GenuineIntel                                      \nPROCESSOR_LEVEL                6                                                                                       \nPROCESSOR_REVISION             3c03                                                                                    \nPROGRAMDATA                    C:\\ProgramData                                                                          \nPROGRAMFILES                   C:\\Program Files                                                                        \nPROGRAMFILES(X86)              C:\\Program Files (x86)                                                                  \nPROGRAMW6432                   C:\\Program Files                                                                        \nPROMPT                         $P$G                                                                                    \nPSMODULEPATH                   C:\\Users\\wesley.neves\\Documents\\WindowsPowerShell\\Modules;C:\\Program Files\\WindowsPow...\nPUBLIC                         C:\\Users\\Public                                                                         \nSYSTEMDRIVE                    C:                                                                                      \nSYSTEMROOT                     C:\\Windows                                                                              \nTEMP                           C:\\Users\\WESLEY~1.NEV\\AppData\\Local\\Temp                                                \nTeste                          Nova variavel de ambiente                                                               \nTFSPOWERTOOLDIR                C:\\Program Files (x86)\\Microsoft Team Foundation Server 2015 Power Tools\\               \nTMP                            C:\\Users\\WESLEY~1.NEV\\AppData\\Local\\Temp                                                \nUATDATA                        C:\\Windows\\CCM\\UATData\\D9F8C395-CAB8-491d-B8AC-179A1FE1BE77                             \nUSERDNSDOMAIN                  IMPLANTA.LOCAL                                                                          \nUSERDOMAIN                     IMPLANTA                                                                                \nUSERDOMAIN_ROAMINGPROFILE      IMPLANTA                                                                                \nUSERNAME                       Wesley.Neves                                                                            \nUSERPROFILE                    C:\\Users\\wesley.neves                                                                   \nVBOX_MSI_INSTALL_PATH          C:\\Program Files\\Oracle\\VirtualBox\\                                                     \nVERBOSE_LOGGING                true                                                                                    \nVS160ENTCOMNTOOLS              C:\\Program Files (x86)\\Microsoft Visual Studio\\2019\\Enterprise\\Common7\\Tools\\           \nVSCODE_CWD                     C:\\Users\\wesley.neves\\AppData\\Local\\Programs\\Azure Data Studio                          \nVSCODE_HANDLES_UNCAUGHT_ERRORS true                                                                                    \nVSCODE_IPC_HOOK                \\\\.\\pipe\\876c13c5fd1dfe975d44743d4c1526f5-1.25.1-main-sock                              \nVSCODE_IPC_HOOK_EXTHOST        \\\\.\\pipe\\vscode-ipc-7e8c1772-4e11-40b6-b901-75d3a0693318-sock                           \nVSCODE_LOG_STACK               false                                                                                   \nVSCODE_LOGS                    C:\\Users\\wesley.neves\\AppData\\Roaming\\azuredatastudio\\logs\\20210104T160935              \nVSCODE_NLS_CONFIG              {\"locale\":\"pt-br\",\"availableLanguages\":{},\"_languagePackSupport\":true}                  \nVSCODE_NODE_CACHED_DATA_DIR    C:\\Users\\wesley.neves\\AppData\\Roaming\\azuredatastudio\\CachedData\\e7eacc32c0d20bd4da84...\nVSCODE_PID                     23964                                                                                   \nWINDIR                         C:\\Windows                                                                              \n\n\n",
                    "output_type": "stream"
                }
            ],
            "execution_count": 5
        },
        {
            "cell_type": "markdown",
            "source": [
                "\\## Remover varivavel de ambiente"
            ],
            "metadata": {
                "azdata_cell_guid": "e3a51df1-aa9d-4ee4-8136-673d37f91bda"
            }
        },
        {
            "cell_type": "code",
            "source": [
                "Remove-Item env:\\teste"
            ],
            "metadata": {
                "azdata_cell_guid": "bd15b299-eae0-41b3-bde9-e183311f47c3"
            },
            "outputs": [
                {
                    "name": "stdout",
                    "text": "",
                    "output_type": "stream"
                }
            ],
            "execution_count": 6
        }
    ]
}