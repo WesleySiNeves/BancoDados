{
    "metadata": {
        "kernelspec": {
            "name": "powershell",
            "display_name": "PowerShell",
            "language": "powershell"
        },
        "language_info": {
            "name": "powershell",
            "codemirror_mode": "shell",
            "mimetype": "text/x-sh",
            "file_extension": ".ps1"
        }
    },
    "nbformat_minor": 2,
    "nbformat": 4,
    "cells": [
        {
            "cell_type": "code",
            "source": [
                "$source_path =\"C:\\Users\\wesley.neves\\Downloads\"\r\n",
                "$target_path = \"C:\\Users\\wesley.neves\\\"\r\n",
                "\r\n",
                "\r\n",
                "# Se não existir a pasta cria\r\n",
                "if(!(Test-Path $target_path))\r\n",
                "{\r\n",
                "  New-Item $target_path -ItemType Directory\r\n",
                "\r\n",
                "}\r\n",
                "\r\n",
                "foreach ($item in gci -Path $source_path -Filter *.ps1 -Recurse) { # alias para get-chield-item\r\n",
                "        \r\n",
                "    Copy-Item $item.FullName  $target_path\r\n",
                "}\r\n",
                "\r\n",
                ""
            ],
            "metadata": {
                "azdata_cell_guid": "3355045d-9854-42af-884b-9edf7f68c96e"
            },
            "outputs": [],
            "execution_count": null
        }
    ]
}