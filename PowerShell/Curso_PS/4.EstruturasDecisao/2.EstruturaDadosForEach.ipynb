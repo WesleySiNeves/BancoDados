{
    "metadata": {
        "kernelspec": {
            "name": "powershell",
            "display_name": "PowerShell",
            "language": "powershell"
        },
        "language_info": {
            "name": "powershell",
            "codemirror_mode": "shell",
            "mimetype": "text/x-sh",
            "file_extension": ".ps1"
        }
    },
    "nbformat_minor": 2,
    "nbformat": 4,
    "cells": [
        {
            "cell_type": "code",
            "source": [
                "$processos = (Get-Process -Name chrome)\r\n",
                "\r\n",
                "$processos"
            ],
            "metadata": {
                "azdata_cell_guid": "1944104e-f081-4a51-aced-bfe30df54203"
            },
            "outputs": [
                {
                    "name": "stdout",
                    "text": "\nHandles  NPM(K)    PM(K)      WS(K)     CPU(s)     Id  SI ProcessName                                                  \n-------  ------    -----      -----     ------     --  -- -----------                                                  \n    402      45   193540     265456     323,03   1676   2 chrome                                                       \n   3906      31   149304     132944     473,78   3864   2 chrome                                                       \n    232      16    20940      45364       0,17   4112   2 chrome                                                       \n    358       8     1832       4172       0,52   5280   2 chrome                                                       \n    288      17     7048       9728      10,95   6440   2 chrome                                                       \n    237      16    18428      17324       1,20   8568   2 chrome                                                       \n    246      16    28812      36768      62,94   8684   2 chrome                                                       \n    498      53    58324      64244     534,34   8836   2 chrome                                                       \n    394      23    98224     143612      17,56   9632   2 chrome                                                       \n    426      34   172932     324328     106,27  10396   2 chrome                                                       \n    238      16    20548      13096       1,58  10468   2 chrome                                                       \n    234      15    19084      41632       0,23  10892   2 chrome                                                       \n    290      22    75668     126400      32,56  11048   2 chrome                                                       \n    275      16    27472      54740       1,02  11332   2 chrome                                                       \n    246      19    51920      52788      18,86  12060   2 chrome                                                       \n   2818     117   286004     293376   1.851,19  13240   2 chrome                                                       \n    367      21    46544      68924      36,53  14504   2 chrome                                                       \n    875      68   112936     127936     585,39  14868   2 chrome                                                       \n    313      24    80900     278648      20,91  15592   2 chrome                                                       \n    242      16    25244      51704       0,64  15880   2 chrome                                                       \n    295      22    75784     112112       5,02  16688   2 chrome                                                       \n    306      18    35816      67312       1,34  16816   2 chrome                                                       \n    388      30   168284     246812      97,91  17544   2 chrome                                                       \n    355      22    69864     128780       8,38  18144   2 chrome                                                       \n    238      16    28276      29680      42,77  20016   2 chrome                                                       \n    493      33   163412     222656      30,64  20292   2 chrome                                                       \n    242      18    56888      63032      80,88  20660   2 chrome                                                       \n    317      22    77036     172704       9,92  21908   2 chrome                                                       \n    245      18    46444      52280      66,03  22124   2 chrome                                                       \n    226      13    10412      11532      10,27  22364   2 chrome                                                       \n    351      16    44700      57192      23,48  23320   2 chrome                                                       \n    314      29   124640      58104      27,81  24552   2 chrome                                                       \n    353      28    98356     140452       8,17  26716   2 chrome                                                       \n   3553      54   328424     307320   1.359,89  26856   2 chrome                                                       \n    217      14    11920      21720       0,08  27008   2 chrome                                                       \n    606      38   203848     340436      18,48  27496   2 chrome                                                       \n    295      22    71804     109012       5,58  27964   2 chrome                                                       \n\n\n",
                    "output_type": "stream"
                }
            ],
            "execution_count": 3
        },
        {
            "cell_type": "code",
            "source": [
                "foreach ($cor in [System.Enum]::GetValues([System.ConsoleColor])) {\r\n",
                "    \r\n",
                "    Write-Host \"             \" -BackgroundColor $cor\r\n",
                "}\r\n",
                ""
            ],
            "metadata": {
                "azdata_cell_guid": "d82e92c2-a1bb-48db-b4da-ab2ec9437884"
            },
            "outputs": [],
            "execution_count": null
        },
        {
            "cell_type": "code",
            "source": [
                ""
            ],
            "metadata": {
                "azdata_cell_guid": "c2754dcc-9354-484e-96fe-a408cae29a9b"
            },
            "outputs": [],
            "execution_count": null
        }
    ]
}