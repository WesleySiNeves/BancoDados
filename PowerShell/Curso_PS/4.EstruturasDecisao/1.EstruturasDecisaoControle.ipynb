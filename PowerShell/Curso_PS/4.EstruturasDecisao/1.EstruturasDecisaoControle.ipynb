{
    "metadata": {
        "kernelspec": {
            "name": "powershell",
            "display_name": "PowerShell",
            "language": "powershell"
        },
        "language_info": {
            "name": "powershell",
            "codemirror_mode": "shell",
            "mimetype": "text/x-sh",
            "file_extension": ".ps1"
        }
    },
    "nbformat_minor": 2,
    "nbformat": 4,
    "cells": [
        {
            "cell_type": "markdown",
            "source": [
                "## IF"
            ],
            "metadata": {
                "azdata_cell_guid": "6ab3b9d7-bca0-4499-87b3-fc4d1ad5ffcc"
            }
        },
        {
            "cell_type": "code",
            "source": [
                "if( 5 -lt 4)\r\n",
                "{\r\n",
                "    \r\n",
                "    Write-Host('True')\r\n",
                "}\r\n",
                "else {\r\n",
                "    Write-Host('False')\r\n",
                "}"
            ],
            "metadata": {
                "azdata_cell_guid": "7abf868b-5d76-4c05-ac5a-70877171d817"
            },
            "outputs": [
                {
                    "name": "stdout",
                    "text": "False\n. {\n>> if( 5 -lt 4)\n>> {\n>> \n>>     \n>>     Write-Host('True')\n>> }\n>> else {\n>>     Write-Host('False')\n>> }\n>> ",
                    "output_type": "stream"
                }
            ],
            "execution_count": 2
        },
        {
            "cell_type": "code",
            "source": [
                "if( 5 -lt 4)\r\n",
                "{\r\n",
                "\r\n",
                "    Write-Host('True')\r\n",
                "}\r\n",
                "elseif (30 -gt 29){\r\n",
                "    Write-Host('False')\r\n",
                "}"
            ],
            "metadata": {
                "azdata_cell_guid": "38b88cad-2c4d-49e9-941c-040205249c62"
            },
            "outputs": [
                {
                    "output_type": "stream",
                    "name": "stdout",
                    "text": "False\n"
                }
            ],
            "execution_count": 11
        },
        {
            "cell_type": "code",
            "source": [
                "$valor = read-Host 'Digite um numero:'\r\n",
                "\r\n",
                "if ($valor % 2 -eq 0) {\r\n",
                "    Write-Host 'Numero par'\r\n",
                "}\r\n",
                "else {\r\n",
                "    Write-Host 'Numero impar'\r\n",
                "}"
            ],
            "metadata": {
                "azdata_cell_guid": "744eb6be-b9f5-4d44-a3de-692fb20c3f56"
            },
            "outputs": [
                {
                    "output_type": "stream",
                    "name": "stdout",
                    "text": "read-Host : O Windows PowerShell est■ no modo NonInteractive. A funcionalidade Read e Prompt n■ est■ dispon■vel.\nNo linha:2 caractere:10\n+ $valor = read-Host 'Digite um numero:'\n+          ~~~~~~~~~~~~~~~~~~~~~~~~~~~~~\n    + CategoryInfo          : InvalidOperation: (:) [Read-Host], PSInvalidOperationException\n    + FullyQualifiedErrorId : InvalidOperation,Microsoft.PowerShell.Commands.ReadHostCommand\n \nNumero par\n"
                }
            ],
            "execution_count": 12
        },
        {
            "cell_type": "markdown",
            "source": [
                "## Estrutura Case"
            ],
            "metadata": {
                "azdata_cell_guid": "7f6d41d4-d3de-4712-9cac-f52914850045"
            }
        },
        {
            "cell_type": "code",
            "source": [
                "$valor = read-Host 'Digite uma cor:'\r\n",
                "\r\n",
                "if ($valor -eq 'branco') {\r\n",
                "    Write-Host 'Cor branca'\r\n",
                "}\r\n",
                "elseif ($valor -eq 'preto') {\r\n",
                "    Write-Host 'Cor preto'\r\n",
                "}\r\n",
                "elseif ($valor -eq 'amarelo') {\r\n",
                "    Write-Host 'Cor amarelo'\r\n",
                "}\r\n",
                "else {\r\n",
                "    Write-Host 'Cor não localizado'\r\n",
                "}"
            ],
            "metadata": {
                "azdata_cell_guid": "ceba7995-b3e1-4097-a1f4-7c800315b81d"
            },
            "outputs": [],
            "execution_count": null
        },
        {
            "cell_type": "code",
            "source": [
                "$valor = read-Host 'Digite uma cor:'\r\n",
                "\r\n",
                "switch ($valor) {\r\n",
                "     'branco' {  Write-Host 'Cor branca' }\r\n",
                "     'preto' {  Write-Host 'Cor preto' }\r\n",
                "     'amarelo' {  Write-Host 'Cor amarelo' }\r\n",
                "    Default {  Write-Host 'Cor amarelo'}\r\n",
                "}"
            ],
            "metadata": {
                "azdata_cell_guid": "0d70beb0-9955-4194-941d-50afe391d2ba"
            },
            "outputs": [],
            "execution_count": null
        },
        {
            "cell_type": "code",
            "source": [
                "$valor = (Get-Date).DayOfWeek.value__\r\n",
                "\r\n",
                "Write-Host $valor\r\n",
                "\r\n",
                "switch ($valor) {\r\n",
                "    7 {  Write-Host 'Domingo' ;break}\r\n",
                "    1 {  Write-Host 'Segunda' ;break}\r\n",
                "    2 {  Write-Host 'Terça'  ;break}\r\n",
                "    3 {  Write-Host 'Quarta' ;break }\r\n",
                "    4 {  Write-Host 'Quinta' ;break }\r\n",
                "    5 {  Write-Host 'Sexta'  ;break}\r\n",
                "    6 {  Write-Host 'Sabado' ;break }\r\n",
                "    \r\n",
                "   Default {  Write-Host 'Cor amarelo'}\r\n",
                "}"
            ],
            "metadata": {
                "azdata_cell_guid": "8158fa99-42d0-4134-b986-f83b81c71b3c"
            },
            "outputs": [
                {
                    "output_type": "stream",
                    "name": "stdout",
                    "text": "3\nQuarta\n"
                },
                {
                    "output_type": "stream",
                    "name": "stdout",
                    "text": ""
                }
            ],
            "execution_count": 15
        },
        {
            "cell_type": "markdown",
            "source": [
                "## Estruturas de Controle"
            ],
            "metadata": {
                "azdata_cell_guid": "e4478630-36e1-4714-921c-d6b83f6b7820"
            }
        },
        {
            "cell_type": "code",
            "source": [
                "$numero = 0\r\n",
                "\r\n",
                "while ($numero -le 10) {\r\n",
                "    \r\n",
                "    Write-Host $numero;\r\n",
                "    $numero++\r\n",
                "\r\n",
                "}"
            ],
            "metadata": {
                "azdata_cell_guid": "c2e77619-2787-47ba-8712-8248c1ccdccf"
            },
            "outputs": [
                {
                    "output_type": "stream",
                    "name": "stdout",
                    "text": "0\n1\n2\n3\n4\n5\n6\n7\n8\n9\n10\n"
                }
            ],
            "execution_count": 3
        },
        {
            "cell_type": "code",
            "source": [
                "for($numero = 1 ; $numero  -le 10 ;$numero++){\r\n",
                "\r\n",
                "\r\n",
                "Write-Host $numero\r\n",
                "\r\n",
                "}"
            ],
            "metadata": {
                "azdata_cell_guid": "2c87a377-8ce2-49ed-b409-71c3815ab7c8",
                "tags": []
            },
            "outputs": [
                {
                    "output_type": "stream",
                    "name": "stdout",
                    "text": "1\n2\n3\n4\n5\n6\n7\n8\n9\n10\n"
                }
            ],
            "execution_count": 3
        },
        {
            "cell_type": "markdown",
            "source": [
                "## tabela ASCII"
            ],
            "metadata": {
                "azdata_cell_guid": "b8f4baae-3eb2-4177-91ac-ea744f987fbd"
            }
        },
        {
            "cell_type": "code",
            "source": [
                "for($numero = 30; $numero -le 130; $numero++){\r\n",
                "\r\n",
                "   \"=>\" + ([char]$numero)\r\n",
                "\r\n",
                "}"
            ],
            "metadata": {
                "azdata_cell_guid": "c8e4078f-42b9-47a4-a30a-5d25ee72b083",
                "tags": [
                    "hide_input"
                ]
            },
            "outputs": [
                {
                    "output_type": "stream",
                    "name": "stdout",
                    "text": "=>\u001e\n=>\u001f\n=> \n=>!\n=>\"\n=>#\n=>$\n=>%\n=>&\n=>'\n=>(\n=>)\n=>*\n=>+\n=>,\n=>-\n=>.\n=>/\n=>0\n=>1\n=>2\n=>3\n=>4\n=>5\n=>6\n=>7\n=>8\n=>9\n=>:\n=>;\n=><\n=>=\n=>>\n=>?\n=>@\n=>A\n=>B\n=>C\n=>D\n=>E\n=>F\n=>G\n=>H\n=>I\n=>J\n=>K\n=>L\n=>M\n=>N\n=>O\n=>P\n=>Q\n=>R\n=>S\n=>T\n=>U\n=>V\n=>W\n=>X\n=>Y\n=>Z\n=>[\n=>\\\n=>]\n=>\n=>_\n=>`\n=>a\n=>b\n=>c\n=>d\n=>e\n=>f\n=>g\n=>h\n=>i\n=>j\n=>k\n=>l\n=>m\n=>n\n=>o\n=>p\n=>q\n=>r\n=>s\n=>t\n=>u\n=>v\n=>w\n=>x\n=>y\n=>z\n=>{\n=>|\n=>}\n=>~\n=>\n=>?\n=>?\n=>?\n"
                }
            ],
            "execution_count": 6
        },
        {
            "cell_type": "markdown",
            "source": [
                "\\## Calcular o total de memoria ram utilizada"
            ],
            "metadata": {
                "azdata_cell_guid": "a08ae522-f53a-4ff6-9cb2-0de3f7f3890c"
            }
        },
        {
            "cell_type": "code",
            "source": [
                "$processos = (Get-Process | Select-Object WS)\r\n",
                "$total = 0\r\n",
                "\r\n",
                "for($iterador = 0;$iterador -le $processos.length; $iterador++)\r\n",
                "{\r\n",
                "    $total += [System.Math]::Round($processos[$iterador].ws /1mb,2)\r\n",
                "\r\n",
                "    Write-Host $iterador, $total\r\n",
                "}\r\n",
                "\r\n",
                ""
            ],
            "metadata": {
                "azdata_cell_guid": "c9630689-d275-4fb7-ad95-46d743188f2d",
                "tags": []
            },
            "outputs": [
                {
                    "name": "stdout",
                    "text": ". {\n>> $processos = (Get-Process | Select-Object WS)\n>> $total = 0\n>> \n>> for($iterador = 0;$iterador -le $processos.length; $iterador++)\n>> {\n>>     $total += [System.Math]::Round($processos[$iterador].ws /1mb,2)\n>> \n>>     Write-Host $iterador, $total\n>> }\n>> \n>> ",
                    "output_type": "stream"
                },
                {
                    "name": "stdout",
                    "text": "\n>> }\n>> \n0 28,98\n1 32,28\n2 36,5\n3 42,17\n4 44,86\n5 63,37\n6 79,89\n7 92\n8 156,29\n9 213,76\n10 251,28\n11 295,66\n12 472,72\n13 479,44\n14 487,26\n15 524,6\n16 555,38\n17 593,43\n18 860,23\n19 993,17\n20 997,23\n21 1006,65\n22 1023,6\n23 1061,37\n24 1119,31\n25 1259,57\n26 1577,68\n27 1590,31\n28 1714,26\n29 1735,78\n30 1819,41\n31 2096,13\n32 2159,34\n33 2279,11\n34 2551,24\n35 2601,77\n36 2711,27\n37 2953,66\n38 2980,16\n39 3123,01\n40 3175,29\n41 3360,16\n42 3410,55\n43 3422,7\n44 3478,58\n45 3546,09\n46 3853,63\n47 3960,11\n48 3963,98\n49 3969,19\n50 3983,52\n51 3996,58\n52 4009,95\n53 4014,27\n54 4018,42\n55 4022,74\n56",
                    "output_type": "stream"
                },
                {
                    "name": "stdout",
                    "text": " 4027,02\n57 4031,23\n58 4035,53\n59 4039,79\n60 4044\n61 4048,32\n62 4052,5\n63 4056,89\n64 4067,66\n65 4071,84\n66 4076,27\n67 4378,78\n68 4471,92\n69 4475,13\n70 4478,89\n71 4488,9\n72 4502,67\n73 4509,47\n74 4519,18\n75 4530,91\n76 4538,69\n77 4563,64\n78 4582,03\n79 4619,42\n80 4729,3\n81 4731,96\n82 4734,77\n83 4736,46\n84 4739,94\n85 4740,01\n86 4745,82\n87 4747,19\n88 4748,25\n89 4748,26\n90 4752,92\n91 4756,26\n92 4757,67\n93 4773,9\n94 5653,61\n95 5661,32\n96 5728,42\n97 5783,82\n98 5796,54\n99 5804,57\n100 5810,53\n101 5849,22\n102 5856,97\n103 6178,3\n104 6188,92\n105 6196,02\n106 6200,12\n107 6203,84\n108 6236,05\n109 6252,4\n110 6254,79\n111 6262,9\n112 6361,49\n113 6441,2\n114 6458,9\n115 6507,86\n116 6531,72\n117 6539,06\n118 654",
                    "output_type": "stream"
                },
                {
                    "name": "stdout",
                    "text": "8,12\n119 6555,63\n120 6563,32\n121 6582,92\n122 6630,16\n123 6633,31\n124 6640,01\n125 6663,01\n126 6677,24\n127 6697,84\n128 6713,07\n129 6729,08\n130 6740,84\n131 6757,24\n132 6775,05\n133 6794,49\n134 6837,24\n135 6882,32\n136 6921,7\n137 6935,4\n138 6945,98\n139 6950,91\n140 6961,28\n141 6966,03\n142 6973,46\n143 7015,23\n144 7037,64\n145 7060,57\n146 7061,5\n147 7064,7\n148 7073,97\n149 7084,08\n150 7085,69\n151 7107,82\n152 7134,86\n153 7226,33\n154 7234,3\n155 7236,97\n156 7272,99\n157 7275,05\n158 7306,39\n159 7322,34\n160 7328,41\n161 7349,43\n162 7354,91\n163 7358,38\n164 7362,92\n165 7365,58\n166 7370,75\n167 7374,64\n168 7379,25\n169 7385,54\n170 7387,85\n171 7391,63\n172 7397,13\n173 7402,92\n174 7405,86\n175 7418,59\n176 7428,04\n177 7431,9\n178 7445,09\n179 7448,08\n180 7450,91\n181 7457,68\n182 7464,83\n183 7469,75\n184 7474,25\n185 7477,56\n186 7480,87\n187 7485,16\n188 7514,9\n189 7521,15\n190 7524,82\n191 7530,67\n192 7537,46\n193 7542,99\n194 7547,69\n195 7552,75\n196 7556,2\n197 7563,94\n198 7566,4\n199 7572,55\n200 7582,17\n201 7586,15\n202 7589,31\n203 7605,1\n204 7612,58\n205 7617,51\n206 7622,72\n207 7625,17\n208 7646,98\n209 7650,91\n210 7653,95\n211 7704,01\n212 7719,3\n213 7722,77\n214 7732,48\n215 7734,76\n216 ",
                    "output_type": "stream"
                },
                {
                    "name": "stdout",
                    "text": "7737,14\n217 7741,55\n218 7744,49\n219 7747,53\n220 7752,15\n221 7763,39\n222 7767,81\n223 7772,27\n224 7778,66\n225 7782,16\n226 7784,98\n227 7789,45\n228 7803,54\n229 7815,65\n230 7838,47\n231 7844,62\n232 7851,3\n233 7856,41\n234 7860,2\n235 7867,03\n236 7879,41\n237 7895,27\n238 7901,62\n239 7913,82\n240 7918,96\n241 7923,06\n242 7937,79\n243 7941,46\n244 7949,75\n245 7954,8\n246 7959,5\n247 7983,92\n248 7988,82\n249 7991,81\n250 7991,9\n251 7992,1\n252 7998,23\n253 8048,96\n254 8078,56\n255 8155,76\n256 8166,8\n257 8187,97\n258 8292,02\n259 8356,96\n260 8442,86\n261 8725,24\n262 8730,65\n263 8738,37\n264 8738,37\n265 8761,43\n266 8768,47\n267 8801,33\n268 8812,94\n269 8823,59\n270 8826,68\n271 8832,93\n272 8835,55\n273 8857,84\n274 8867,95\n275 8877,01\n276 8883,32\n277 8893,73\n278 8895,88\n279",
                    "output_type": "stream"
                },
                {
                    "name": "stdout",
                    "text": " 8899,82\n280 8912,10\n281 8912,10\n",
                    "output_type": "stream"
                }
            ],
            "execution_count": 5
        }
    ]
}