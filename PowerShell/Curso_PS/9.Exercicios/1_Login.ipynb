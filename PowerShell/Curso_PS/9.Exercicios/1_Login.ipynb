{
    "metadata": {
        "kernelspec": {
            "name": "powershell",
            "display_name": "PowerShell",
            "language": "powershell"
        },
        "language_info": {
            "name": "powershell",
            "codemirror_mode": "shell",
            "mimetype": "text/x-sh",
            "file_extension": ".ps1"
        }
    },
    "nbformat_minor": 2,
    "nbformat": 4,
    "cells": [
        {
            "cell_type": "markdown",
            "source": [
                "## Receba o nome do Usuario e a senha , e usando uma string mult-linha mostre os dados recebidos"
            ],
            "metadata": {
                "azdata_cell_guid": "c8562aca-95ac-4246-a20c-2884f88c5aa0"
            }
        },
        {
            "cell_type": "code",
            "source": [
                "$usuario = Read-Host 'Digite o nome do Usuario'\r\n",
                "\r\n",
                "$senha = Read-Host  'Digite a senha'\r\n",
                "\r\n",
                "@\"\r\n",
                "Usuario  é $usuario\r\n",
                "Senha é $senha\r\n",
                "\"@\r\n",
                ""
            ],
            "metadata": {
                "azdata_cell_guid": "01de4328-865c-4581-be49-6b7dea25c148",
                "tags": []
            },
            "outputs": [
                {
                    "name": "stdout",
                    "text": "Read-Host : O Windows PowerShell est■ no modo NonInteractive. A funcionalidade Read e Prompt n■ est■ dispon■vel.\nNo linha:2 caractere:12\n+ $usuario = Read-Host 'Digite o nome do Usuario'\n+            ~~~~~~~~~~~~~~~~~~~~~~~~~~~~~~~~~~~~\n    + CategoryInfo          : InvalidOperation: (:) [Read-Host], PSInvalidOperationException\n    + FullyQualifiedErrorId : InvalidOperation,Microsoft.PowerShell.Commands.ReadHostCommand\n \nRead-Host : O Windows PowerShell est■ no modo NonInteractive. A funcionalidade Read e Prompt n■ est■ dispon■vel.\nNo linha:3 caractere:10\n+ $senha = Read-Host  'Digite a senha'\n+          ~~~~~~~~~~~~~~~~~~~~~~~~~~~\n    + CategoryInfo          : InvalidOperation: (:) [Read-Host], PSInvalidOperationException\n    + FullyQualifiedErrorId : InvalidOperation,Microsoft.PowerShell.Commands.ReadHostCommand\n \nUsuario  é \nSenha é \n",
                    "output_type": "stream"
                }
            ],
            "execution_count": 1
        }
    ]
}