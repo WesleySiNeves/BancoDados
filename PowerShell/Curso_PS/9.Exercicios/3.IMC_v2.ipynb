{
    "metadata": {
        "kernelspec": {
            "name": "powershell",
            "display_name": "PowerShell",
            "language": "powershell"
        },
        "language_info": {
            "name": "powershell",
            "codemirror_mode": "shell",
            "mimetype": "text/x-sh",
            "file_extension": ".ps1"
        }
    },
    "nbformat_minor": 2,
    "nbformat": 4,
    "cells": [
        {
            "cell_type": "markdown",
            "source": [
                "## Receba o nome , idade , peso e altura e mostre na tela"
            ],
            "metadata": {
                "azdata_cell_guid": "ed79d6b4-e2ca-4651-a886-bc045bd5cba2"
            }
        },
        {
            "cell_type": "code",
            "source": [
                "$nome=Read-Host 'Digiteseunome:'\r\n",
                "\r\n",
                "$idade = Read-Host  'Digite sua idade:'\r\n",
                "\r\n",
                "$peso = Read-Host  'Digite seu peso:'\r\n",
                "\r\n",
                "$altura = Read-Host  'Digite sua altura:'\r\n",
                "\r\n",
                "Write-Host \"Nome`tIdade`tPeso`tAltura\"\r\n",
                "Write-Host \"$nome`t$idade`t$peso`t$altura\""
            ],
            "metadata": {
                "azdata_cell_guid": "6c219a25-fe26-4d34-be91-5d04b295debe"
            },
            "outputs": [],
            "execution_count": null
        },
        {
            "cell_type": "markdown",
            "source": [
                "<br>\n",
                "\n",
                "<br>"
            ],
            "metadata": {
                "azdata_cell_guid": "c2b159be-122e-4bfd-9514-7adb6081e25d"
            }
        }
    ]
}