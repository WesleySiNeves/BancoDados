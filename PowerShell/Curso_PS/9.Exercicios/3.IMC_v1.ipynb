{
    "metadata": {
        "kernelspec": {
            "name": "powershell",
            "display_name": "PowerShell",
            "language": "powershell"
        },
        "language_info": {
            "name": "powershell",
            "codemirror_mode": "shell",
            "mimetype": "text/x-sh",
            "file_extension": ".ps1"
        }
    },
    "nbformat_minor": 2,
    "nbformat": 4,
    "cells": [
        {
            "cell_type": "markdown",
            "source": [
                "## Receba o nome , idade , peso e altura e mostre na tela"
            ],
            "metadata": {
                "azdata_cell_guid": "61346a06-dc56-4b65-8f32-ab491ad12f99"
            }
        },
        {
            "cell_type": "code",
            "source": [
                "$nome = Read-Host 'Digite seu nome:'\r\n",
                "\r\n",
                "$idade = Read-Host  'Digite sua idade:'\r\n",
                "$peso = Read-Host  'Digite seu peso:'\r\n",
                "$altura = Read-Host  'Digite sua altura:'\r\n",
                "\r\n",
                "$Informacoes = { nome = $nome ,idade = $idade  ,peso =$peso,altura = $altura }\r\n",
                "\r\n",
                "@\"\r\n",
                "Nome :$Informacoes.nome\r\n",
                "\"@\r\n",
                "\r\n",
                "\r\n",
                ""
            ],
            "metadata": {
                "azdata_cell_guid": "0d65f796-1418-4c55-9959-3f652bce3e02"
            },
            "outputs": [],
            "execution_count": null
        }
    ]
}