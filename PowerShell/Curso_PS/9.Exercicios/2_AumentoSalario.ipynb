{
    "metadata": {
        "kernelspec": {
            "name": "powershell",
            "display_name": "PowerShell",
            "language": "powershell"
        },
        "language_info": {
            "name": "powershell",
            "codemirror_mode": "shell",
            "mimetype": "text/x-sh",
            "file_extension": ".ps1"
        }
    },
    "nbformat_minor": 2,
    "nbformat": 4,
    "cells": [
        {
            "cell_type": "markdown",
            "source": [
                ""
            ],
            "metadata": {
                "azdata_cell_guid": "32b22475-e84a-4600-b457-7f175b1b6c4f"
            }
        },
        {
            "cell_type": "code",
            "source": [
                "$salario = [float](Read-Host 'Digite seu salario')\r\n",
                "$salarioComAumento = 0.0\r\n",
                "\r\n",
                "if($salario -le 1000){\r\n",
                "    $salarioComAumento =  $salario + ($salario * 0.10)\r\n",
                "}\r\n",
                "if($salario -gt 1000  -and $salario  -le 2000 ){\r\n",
                "    $salarioComAumento =   $salario + ($salario * 0.20)\r\n",
                "}   \r\n",
                "\r\n",
                "if($salario -gt 1000  -and $salario  -le 2000 ){\r\n",
                "    $salarioComAumento =   $salario + ($salario * 0.20)\r\n",
                "}   \r\n",
                "if($salario -gt 2000  ){\r\n",
                "    $salarioComAumento =  $salario + ($salario * 0.10)\r\n",
                "}\r\n",
                "\r\n",
                "\r\n",
                "Write-Host $salarioComAumento"
            ],
            "metadata": {
                "azdata_cell_guid": "ddd5429e-2cf2-49d0-946c-2883d4ae938f"
            },
            "outputs": [
                {
                    "output_type": "stream",
                    "name": "stdout",
                    "text": "Read-Host : O Windows PowerShell est■ no modo NonInteractive. A funcionalidade Read e Prompt n■ est■ dispon■vel.\nNo linha:2 caractere:12\n+ $salario = Read-Host 'Digite seu salario'\n+            ~~~~~~~~~~~~~~~~~~~~~~~~~~~~~~\n    + CategoryInfo          : InvalidOperation: (:) [Read-Host], PSInvalidOperationException\n    + FullyQualifiedErrorId : InvalidOperation,Microsoft.PowerShell.Commands.ReadHostCommand\n \n\n"
                }
            ],
            "execution_count": 1
        },
        {
            "cell_type": "markdown",
            "source": [
                ""
            ],
            "metadata": {
                "azdata_cell_guid": "c0287ded-7972-4540-a7dd-1f33ce12fac3"
            }
        }
    ]
}