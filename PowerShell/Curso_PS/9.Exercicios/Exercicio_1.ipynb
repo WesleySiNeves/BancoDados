{
    "metadata": {
        "kernelspec": {
            "name": "powershell",
            "display_name": "PowerShell",
            "language": "powershell"
        },
        "language_info": {
            "name": "powershell",
            "codemirror_mode": "shell",
            "mimetype": "text/x-sh",
            "file_extension": ".ps1"
        }
    },
    "nbformat_minor": 2,
    "nbformat": 4,
    "cells": [
        {
            "cell_type": "code",
            "source": [
                "$usuario = Read-Host 'Digite o nome do Usuario'\r\n",
                "\r\n",
                "\r\n",
                "\r\n",
                "$senha = Read-Host  'Digite a senha'\r\n",
                "\r\n",
                "$User = {usuario=$usuario;senha = $senha}\r\n",
                "\r\n",
                "Write-Host 'Usuario:'+$User.usuario"
            ],
            "metadata": {
                "azdata_cell_guid": "01de4328-865c-4581-be49-6b7dea25c148"
            },
            "outputs": [
                {
                    "name": "stdout",
                    "text": "Read-Host : O Windows PowerShell est■ no modo NonInteractive. A funcionalidade Read e Prompt n■ est■ dispon■vel.\nNo linha:2 caractere:12\n+ $usuario = Read-Host 'Digite o nome do Usuario'\n+            ~~~~~~~~~~~~~~~~~~~~~~~~~~~~~~~~~~~~\n    + CategoryInfo          : InvalidOperation: (:) [Read-Host], PSInvalidOperationException\n    + FullyQualifiedErrorId : InvalidOperation,Microsoft.PowerShell.Commands.ReadHostCommand\n \n",
                    "output_type": "stream"
                }
            ],
            "execution_count": 2
        }
    ]
}