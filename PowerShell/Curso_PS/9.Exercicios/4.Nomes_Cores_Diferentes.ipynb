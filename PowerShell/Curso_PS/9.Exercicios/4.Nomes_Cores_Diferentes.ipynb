{
    "metadata": {
        "kernelspec": {
            "name": "powershell",
            "display_name": "PowerShell",
            "language": "powershell"
        },
        "language_info": {
            "name": "powershell",
            "codemirror_mode": "shell",
            "mimetype": "text/x-sh",
            "file_extension": ".ps1"
        }
    },
    "nbformat_minor": 2,
    "nbformat": 4,
    "cells": [
        {
            "cell_type": "markdown",
            "source": [
                "## Imprimir seu nome com cada letra diferente"
            ],
            "metadata": {
                "azdata_cell_guid": "eaef5c07-e3c8-438d-88ae-2a1d521ac643"
            }
        },
        {
            "cell_type": "code",
            "source": [
                "Write-Host \"W\" -ForegroundColor Blue\r\n",
                "Write-Host \"E\" -ForegroundColor Cyan\r\n",
                "Write-Host \"S\" -ForegroundColor DarkBlue\r\n",
                "Write-Host \"L\" -ForegroundColor DarkGreen\r\n",
                "Write-Host \"E\" -ForegroundColor DarkYellow\r\n",
                "Write-Host \"Y\" -ForegroundColor Blue\r\n",
                "\r\n",
                "\r\n",
                "Write-Host \"W\" -ForegroundColor Blue -NoNewline\r\n",
                "Write-Host \"E\" -ForegroundColor Cyan -NoNewline\r\n",
                "Write-Host \"S\" -ForegroundColor DarkBlue -NoNewline\r\n",
                "Write-Host \"L\" -ForegroundColor DarkGreen -NoNewline\r\n",
                "Write-Host \"E\" -ForegroundColor DarkYellow -NoNewline\r\n",
                "Write-Host \"Y\" -ForegroundColor Blue -NoNewline"
            ],
            "metadata": {
                "azdata_cell_guid": "763d323c-3172-4eae-8c24-6e4a9bb09594"
            },
            "outputs": [
                {
                    "name": "stdout",
                    "text": ". {\n>> W",
                    "output_type": "stream"
                },
                {
                    "name": "stdout",
                    "text": "rite-Host \"W\" -ForegroundColor Blue\n>> Write-Host \"E\" -ForegroundColor Cyan\n>> Write-Host \"S\" -ForegroundColor DarkBlue\n>> Write-Host \"L\" -ForegroundColor DarkGreen\n>> Write-Host \"E\" -ForegroundColor DarkYellow\n>> Write-Host \"Y\" -ForegroundColor Blue\n>> \n>> \n>> Write-Host \"W\" -ForegroundColor Blue -NoNewline\n>> Write-Host \"E\" -ForegroundColor Cyan -NoNewline\n>> Write-Host \"S\" -ForegroundColor DarkBlue -NoNewline\n>> Write-Host \"L\" -ForegroundColor DarkGreen -NoNewline\n>> Write-Host \"E\" -ForegroundColor DarkYellow -NoNewline\n>> Write-Host \"Y\" -ForegroundColor Blue -NoNewline\n>> }\n>> \nW\nE\nS\nL\nE\nY\nWESLEY",
                    "output_type": "stream"
                }
            ],
            "execution_count": 2
        },
        {
            "cell_type": "markdown",
            "source": [
                "<br>"
            ],
            "metadata": {
                "azdata_cell_guid": "fe9be858-6d50-42a9-8ff3-b3e2ca0a76a1"
            }
        }
    ]
}