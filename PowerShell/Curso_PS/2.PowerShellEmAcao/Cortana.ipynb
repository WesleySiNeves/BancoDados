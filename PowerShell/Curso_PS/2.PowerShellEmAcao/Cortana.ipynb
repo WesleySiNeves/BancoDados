{
    "metadata": {
        "kernelspec": {
            "name": "powershell",
            "display_name": "PowerShell",
            "language": "powershell"
        },
        "language_info": {
            "name": "powershell",
            "codemirror_mode": "shell",
            "mimetype": "text/x-sh",
            "file_extension": ".ps1"
        }
    },
    "nbformat_minor": 2,
    "nbformat": 4,
    "cells": [
        {
            "cell_type": "markdown",
            "source": [
                "\\## Usar a voz da cortana"
            ],
            "metadata": {
                "azdata_cell_guid": "a07a2a86-8338-4290-ad70-c1dc330c8ad7"
            }
        },
        {
            "cell_type": "code",
            "source": [
                "using assembly System.Speech\r\n",
                "\r\n",
                "$voz = New-Object System.Speech.Synthesis.SpeechSynthesizer\r\n",
                "\r\n",
                "$voz.Rate = 1.3\r\n",
                "\r\n",
                "$voz.Volume = 100\r\n",
                "\r\n",
                "\r\n",
                "$voz.Speak(\"Olá meu amor , eu te amo muito\")"
            ],
            "metadata": {
                "azdata_cell_guid": "6ba9913f-5b84-4498-ad4a-0c9447b98b8c",
                "tags": []
            },
            "outputs": [
                {
                    "name": "stdout",
                    "text": ". {\n>> using assembly System.Speech\n>> \nNo linha:2 caractere:1\n+ using assembly System.Speech\n+ ~~~~~~~~~~~~~~~~~~~~~~~~~~~~\nUma instru■■ 'using' deve aparecer antes de qualquer outra instru■■ em um script.\nNo linha:1 caractere:3\n+ . {\n+   ~\n'}' de fechamento ausente no bloco de instru■■ ou na defini■■ de tipo.\n    + Category",
                    "output_type": "stream"
                },
                {
                    "name": "stdout",
                    "text": "Info          : ParserError: (:) [], ParentContainsErrorRecordException\n    + FullyQualifiedErrorId : UsingMustBeAtStartOfScript\n \n$voz = New-Object System.Speech.Synthesis.SpeechSynthesizer\nNew-Object : N■ ■ poss■ve",
                    "output_type": "stream"
                }
            ],
            "execution_count": 3
        },
        {
            "cell_type": "markdown",
            "source": [
                "\\## verificar as vozes instaladas"
            ],
            "metadata": {
                "azdata_cell_guid": "6f584ad8-acd2-4e9c-98be-9106fdbe2cca"
            }
        },
        {
            "cell_type": "code",
            "source": [
                "$voz.GetInstalledVoices()"
            ],
            "metadata": {
                "azdata_cell_guid": "a11010fd-2298-46eb-a360-9f79df52a490",
                "language": "markdown"
            },
            "outputs": [
                {
                    "name": "stdout",
                    "text": "New-Object : N■ ■ poss■vel localizar o tipo [System.Speech.Synthesis.SpeechSynthesizer]: verifique se o o assembly \ncontendo o tipo est■ carregado.\nNo linha:1 caractere:8\n+ $voz = New-Object System.Speech.Synthesis.SpeechSynthesizer\n+        ~~~~~~~~~~~~~~~~~~~~~~~~~~~~~~~~~~~~~~~~~~~~~~~~~~~~\n    + CategoryInfo          : InvalidType: (:) [New-Object], PSArgumentException\n    + FullyQualifiedErrorId : TypeNotFound,Microsoft.PowerShell.Commands.NewObjectCommand\n \n\n$voz.Rate = 1.3\nA propriedade 'Rate' n■ foi encontrada neste objeto. Verifique se a propriedade existe e pode ser definida.\nNo linha:1 ca",
                    "output_type": "stream"
                }
            ],
            "execution_count": 2
        },
        {
            "cell_type": "markdown",
            "source": [
                "\\## para alterar a voz da cortana"
            ],
            "metadata": {
                "azdata_cell_guid": "a56ffd9a-6d91-4e80-9ba5-207d4dab6d39"
            }
        },
        {
            "cell_type": "code",
            "source": [
                "$voz.GetInstalledVoices().voiceinfo\r\n",
                "\r\n",
                "\r\n",
                "\r\n",
                "$voz.Rate = 1.3\r\n",
                "\r\n",
                "$voz.Volume = 100\r\n",
                "\r\n",
                "$voz.SelectVoice('Microsoft Zira Desktop');\r\n",
                "\r\n",
                "\r\n",
                "$voz.Speak(\"Olá meu amor , eu te amo muito\")\r\n",
                "\r\n",
                ""
            ],
            "metadata": {
                "azdata_cell_guid": "c2670acd-d7a8-4ea0-bd54-e20c5b5abcd3"
            },
            "outputs": [],
            "execution_count": null
        }
    ]
}