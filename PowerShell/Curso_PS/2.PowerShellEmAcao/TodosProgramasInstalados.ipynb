{
    "metadata": {
        "kernelspec": {
            "name": "SQL",
            "display_name": "SQL",
            "language": "sql"
        },
        "language_info": {
            "name": "sql",
            "version": ""
        }
    },
    "nbformat_minor": 2,
    "nbformat": 4,
    "cells": [
        {
            "cell_type": "markdown",
            "source": [
                "\\## Recuperar todos os programas instalados"
            ],
            "metadata": {
                "azdata_cell_guid": "23669224-f470-4e47-b951-b6d3271c3465"
            }
        },
        {
            "cell_type": "code",
            "source": [
                "Get-WmiObject -Class win32_product | Select-Object Name"
            ],
            "metadata": {
                "azdata_cell_guid": "a772924c-03f8-44ab-a85a-30d6bccf0d40"
            },
            "outputs": [],
            "execution_count": null
        },
        {
            "cell_type": "code",
            "source": [
                "Get-WmiObject -Class win32_product -Filter \"name ='SQL Compare 13'\""
            ],
            "metadata": {
                "azdata_cell_guid": "2a3b960b-88ec-4cba-822e-a3401b1fcf0d"
            },
            "outputs": [],
            "execution_count": null
        }
    ]
}