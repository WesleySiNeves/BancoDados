{
    "metadata": {
        "kernelspec": {
            "name": "powershell",
            "display_name": "PowerShell",
            "language": "powershell"
        },
        "language_info": {
            "name": "powershell",
            "codemirror_mode": "shell",
            "mimetype": "text/x-sh",
            "file_extension": ".ps1"
        }
    },
    "nbformat_minor": 2,
    "nbformat": 4,
    "cells": [
        {
            "cell_type": "markdown",
            "source": [
                "\\## Fazendo barras de progresso"
            ],
            "metadata": {
                "azdata_cell_guid": "e1176bac-9d87-4cc9-9bf8-aa2f3d381bce"
            }
        },
        {
            "cell_type": "code",
            "source": [
                "for ($i = 0; $i -lt 100; $i++) {\r\n",
                "    \r\n",
                "        Write-Progress -Activity \"Processando....\" -Status \"Progresso:\" -PercentComplete $i\r\n",
                "}"
            ],
            "metadata": {
                "azdata_cell_guid": "82b59304-7e4c-4d02-a971-a233474b9959"
            },
            "outputs": [
                {
                    "name": "stdout",
                    "text": "",
                    "output_type": "stream"
                }
            ],
            "execution_count": 2
        },
        {
            "cell_type": "code",
            "source": [
                "$arquivo = \"D:\\Wesley\\VersionCode\\BancoDados\\PowerShell\\Arquivo.txt\""
            ],
            "metadata": {
                "azdata_cell_guid": "2a5eb344-e550-4504-8c4e-eaaa2c79676f"
            },
            "outputs": [
                {
                    "name": "stdout",
                    "text": "",
                    "output_type": "stream"
                }
            ],
            "execution_count": 12
        },
        {
            "cell_type": "code",
            "source": [
                " "
            ],
            "metadata": {
                "azdata_cell_guid": "516d9535-fc5f-479f-8ba3-135a7b2bdb32"
            },
            "outputs": [
                {
                    "name": "stdout",
                    "text": "",
                    "output_type": "stream"
                }
            ],
            "execution_count": 13
        },
        {
            "cell_type": "markdown",
            "source": [
                "\\## pega o conteudo de dados e joga dentro de um foreach"
            ],
            "metadata": {
                "azdata_cell_guid": "aa51bf7e-afae-4814-92dc-7bed3fb9d421"
            }
        },
        {
            "cell_type": "code",
            "source": [
                "$lista = New-Object System.Collections.ArrayList\r\n",
                "$count = 0;\r\n",
                "foreach($linha in $Dados)\r\n",
                "{\r\n",
                "    if($linha  -like '*de*')\r\n",
                "    {\r\n",
                "        $lista.Add($linha);\r\n",
                "        Out-Null\r\n",
                "        $count +=1;\r\n",
                "        Write-Progress  -Activity \"Processando \" -Status \"Progresso\"  -PercentComplete  (($count / $Dados.length) /100)\r\n",
                "\r\n",
                "    }\r\n",
                "    \r\n",
                "}\r\n",
                "\r\n",
                ""
            ],
            "metadata": {
                "azdata_cell_guid": "b59cff1d-3241-4301-9ea3-c804c26c1e0a"
            },
            "outputs": [
                {
                    "name": "stdout",
                    "text": "0\n1\n2\n3\n4\n5\n6\n7\n8\n",
                    "output_type": "stream"
                },
                {
                    "name": "stdout",
                    "text": "9\n10\n11\n12\n13\n14\n15\n16\n17\n18\n19\n20\n21\n22\n",
                    "output_type": "stream"
                },
                {
                    "name": "stdout",
                    "text": "23\n24\n25\n26\n27\n28\n29\n30\n31\n32\n33\n34\n35\n",
                    "output_type": "stream"
                },
                {
                    "name": "stdout",
                    "text": "36\n37\n38\n39\n40\n41\n42\n43\n44\n45\n46\n47\n48\n49\n",
                    "output_type": "stream"
                },
                {
                    "name": "stdout",
                    "text": "50\n51\n52\n53\n54\n55\n56\n57\n58\n59\n60\n61\n62\n63\n",
                    "output_type": "stream"
                },
                {
                    "name": "stdout",
                    "text": "64\n65\n66\n67\n68\n69\n70\n71\n72\n73\n74\n75\n76\n77\n",
                    "output_type": "stream"
                },
                {
                    "name": "stdout",
                    "text": "78\n79\n80\n81\n82\n83\n84\n85\n86\n87\n88\n89\n90\n91\n92\n93\n",
                    "output_type": "stream"
                },
                {
                    "name": "stdout",
                    "text": "94\n95\n96\n97\n98\n99\n100\n101\n102\n103\n104\n105\n106\n107\n108\n",
                    "output_type": "stream"
                },
                {
                    "name": "stdout",
                    "text": "109\n110\n111\n112\n113\n114\n115\n116\n117\n118\n119\n120\n121\n122\n",
                    "output_type": "stream"
                },
                {
                    "name": "stdout",
                    "text": "123\n124\n125\n126\n127\n128\n129\n130\n131\n132\n133\n134\n135\n136\n137\n",
                    "output_type": "stream"
                },
                {
                    "name": "stdout",
                    "text": "138\n139\n140\n141\n142\n143\n144\n145\n146\n147\n",
                    "output_type": "stream"
                },
                {
                    "name": "stdout",
                    "text": "Read-Host : O Windows PowerShell est■ no modo NonInteractive. A funcionalidade Read e Prompt n■ est■ dispon■vel.\nNo linha:1 caractere:9\n+ $null = Read-Host 'Pressione Enter para continuar...'\n+         ~~~~~~~~~~~~~~~~~~~~~~~~~~~~~~~~~~~~~~~~~~~~~\n    + CategoryInfo          : InvalidOperation: (:) [Read-Host], PSInvalidOperationException\n    + FullyQualifiedErrorId : InvalidOperation,Microsoft.PowerShell.Commands.ReadHostCommand\n \n",
                    "output_type": "stream"
                }
            ],
            "execution_count": 15
        },
        {
            "cell_type": "code",
            "source": [
                "$Dados |"
            ],
            "metadata": {
                "azdata_cell_guid": "5a56f78e-c40f-4d61-9aea-1c4a7042f43a"
            },
            "outputs": [
                {
                    "name": "stdout",
                    "text": "Ver-se-ǭ que este laborioso investigador e escrevinhador, um pobre coitado\nsub-sub, parece ter percorrido as interminǭveis Vaticanas e bancas da\nterra, colhendo todas as alus■es esparsas sobre as baleias que encontrou\nem todos os tipos de livros, sagrados ou profanos. P",
                    "output_type": "stream"
                },
                {
                    "name": "stdout",
                    "text": "Ver-se-ǭ que este laborioso investigador e escrevinhador, um pobre coitado\nsub-sub, parece ter percorrido as interminǭveis Vaticanas e bancas da\nterra, colhendo todas as alus■es esparsas sobre as baleias que encontrou\nem todos os tipos de livros, sagrados ou profanos. Por essa razǜo, nǜo se\ndeve entender, ou ao menos nem sempre se deve entender que as\nafirma■■es confusas, embora autǦnticas, feitas sobre as baleias nestes\nexcertos sejam um verdadeiro evangelho",
                    "output_type": "stream"
                },
                {
                    "name": "stdout",
                    "text": "Ver-se-ǭ que este laborioso investigador e escrevinhador, um pobre coitado\nsub-sub, parece ter percorrido as interminǭveis Vaticanas e bancas da\nterra, colhendo todas as alus■es esparsas sobre as baleias que encontrou\nem todos os tipos de livros, sagrados ou profanos. Por essa razǜo, nǜo se\ndeve entender, ou ao menos nem sempre se deve entender que as\nafirma■■es confusas, embora autǦnticas, feitas sobre as baleias nestes\nexcertos sejam um verdadeiro evangelho da cetologia. Pelo contrǭrio. No\nque diz respeito aos autores antigos de um modo geral, assim como aos\npoetas que aqui a",
                    "output_type": "stream"
                },
                {
                    "name": "stdout",
                    "text": "parecem, estes excertos sǜo apenas valiosos ou\ndivertidos enquanto oferecem uma visǜo panorǽmica do que foi dito,\npensado, imaginado e cantado, de modo prom■scuo, por muitas na■■es e\ngera■■es, inclusive a nossa, sobre o Leviatǜ.\nPortanto, passai bem, pobre-diabo sub-sub, sobre quem te■o\ncomentǭrios. Pertenceis a essa tribo pǭlida e perdida, que nenhum vinho\nda terra poderǭ esquentar; e ante quem atǸ o branco xerez seria rosado\ndemais; mas junto a quem ■s vezes Ǹ bom se sentar e se sentir coitado\ntambǸm; e ficar alegre com as lǭgrimas e dizer-lhes simplesmente, com os\nolhos cheios e os copos vazios, com uma tristeza nǜo de todo\ndesagradǭvel: Desisti, sub-subs! Pois, quanto mais vos esforceis para\nagradar ao mundo, mais ficareis sem agradecimentos! Se para v■s eu\npudesse abrir o caminho para Hampton Court e para as Tulherias! Mas\nengoli vossas lǭgrimas e correi para o topo do mastro com vossos\ncora■■es; pois para a vossa chegada vossos amigos que jǭ se foram estǜo\nesvaziando os sete cǸus e transformando em fugitivos Gabriel, Miguel e\nRafael, por tanto tempo mimados. Aqui s■ podereis tocar cora■■es\nestilha■ados, mas lǭ, lǭ tocareis os cristais inquebrǭveis!\n■?oE Deus criou as grandes baleias.■?? G■NESIS ■?oAp■s si deixa uma vereda\nluminosa; parece o abismo tornado em brancura de cǜs.■?? J■ ■?oOra, Jeovǭ\nprovidencio",
                    "output_type": "stream"
                },
                {
                    "name": "stdout",
                    "text": "u um grande peixe para engolir Jonas.■?? JONAS ■?oAli andam os\nnavios; e o Leviatǜ que formaste para nele folgar.■?? SALMOS ■?oNaquele dia o\nSenhor castigarǭ com a sua dura espada, grande e forte, o Leviatǜ, a\nserpente fugitiva, e o Leviatǜ, a serpente tortuosa; e matarǭ o dragǜo que\nestǭ no mar.■?? ISA■AS ■?oE qualquer outra coisa que chegar ao caos da boca\ndeste monstro, seja besta, barca ou pedra, irǭ imediatamente abaixo, por\nmeio de seu enorme e asqueroso gole, e morrerǭ no abismo sem fundo de\nsua barriga.■?? HOLLAND, ESCRITOS MORAIS DE PLUTARCO ■?oO oceano ■ndico gera a maior\nparte dos peixes e os mais volumosos que existem: entre eles hǭ as Baleias\ne os Redemoinhos, chamados Balaenae, que chegam a ter uma extensǜo\nde quatro acres ou jeiras de terra.■?? HOLLAND, PL■NIO ■?oMal estǭvamos dois dias\nno mar, quando, ao nascer do sol, apareceram vǭrias Baleias e outros\nmonstros do mar. Entre as primeiras havia uma de tamanho\nmonstruoso■?■Veio em nossa dire■ǜo, com a boca aberta, levantando\nondas de todos os lados e agitando o mar diante de si, formando espuma.■??\nTOOKE, LUCIANO, A VERDADEIRA HIST■RIA ■?oVisitou tambǸm este pa■s para capturar\nbaleias-cavalo, que tinham por dentes ossos valiosos, dos quais levou\nalguns ao rei■?■As melhores baleias eram capturadas em seu pr■prio pa■s,\ndas quais umas mediam quarenta e oito jardas de comprimento, outras\ncinqǬenta. Disse que era um dos seis que haviam matado sessenta em dois\ndias.■?? RELATO ORAL DE OTHER, OU OCTHER, ANOTADO PELO REI ALFREDO, A.D. 890 ■?oE, enquanto\ntodas as outras coisas, besta ou embarca■ǜo, entram naquele abismo\nhorroroso da boca do monstro (da baleia) e sǜo engolidas, perdendo-se na\nmesma hora, o caboz marinho se retira com grande seguran■a e dorme\nali.■?? MONTAIGNE, APOLOGIA DE RAIMOND SEBOND ■?oFujamos, fujamos! Que o diabo me\nleve se nǜo se trata do Leviatǜ descrito pelo nobre profeta MoisǸs na vida\ndo paciente J■.■?? RABELAIS ■?oO f■gado daquela baleia enchia duas carro■as.■??\nSTOWE, ANAIS ■?oO grande Leviatǜ que fazia o mar borbulhar como uma panela\nfervendo.■?? LORD BACON, VERSǟO DOS SALMOS ■?oEm rela■ǜo a esse monstruoso\nvolume da baleia ou orca, nada certo chegou a n■s. Engordam\nexcessivamente, tanto que uma quantidade incr■vel de ■leo pode ser\nextra■da de uma baleia.■?? LORD BACON, HIST■RIA DA VIDA E DA MORTE ■?oO remǸdio\nmais soberano na terra para uma lesǜo interna Ǹ o espermacete.■?? REI\nHENRIQUE ■?oMuito semelhante a uma baleia.■?? HAMLET E como nenhuma\ndestreza poderia ajudǭ-lo na arte da percola■ǜo / Volta-se para o causador\nda ferida, que, com dardo certeiro, / Seu peito escavou, provocando\nimplacǭvel como■ǜo / Como a baleia ferida que atravǸs do oceano foge ■\npraia.■?? A RAINHA DA",
                    "output_type": "stream"
                },
                {
                    "name": "stdout",
                    "text": "S FADAS ■?oImensos como baleias, os movimentos daqueles\ncorpos enormes em perfeita calmaria podem agitar o oceano atǸ que\nborbulhe.■?? SIR WILLIAM DAVENANT, PREF■CIO PARA GONDIBERT ■?oO que Ǹ o espermacete,\nos homens podem nǜo saber, visto que o erudito Hofmannus em sua obra\nde trinta anos diz francamente: Nescio quid sit.■?? SIR T. BROWNE, DO ESPERMACETE E\nDA BALEIA (VIDE SEU V.E.) ■?oComo o Talus de Spencer com seu moderno mangual, /\nAmea■a ru■na com sua cauda magistral. / Traz os dardos fixados na lateral,\n/ E nas costas mostra um matagal.■?? WALLER, A BATALHA DAS ILHAS SUMMER ■?oPor meio\nde um artif■cio Ǹ criado esse grande Leviatǜ, chamado Na■ǜo ou Estado\n(em latim, Civitas), que nǜo Ǹ outra coisa a nǜo ser um homem artificial.■??\nSENTEN■A DE ABERTURA DO LEVIATǟ DE HOBBES ■?oO tolo Mansoul engoliu sem\nmastigar, como se fosse uma sardinha na boca de uma baleia.■?? O CAMINHO DO\nPEREGRINO ■?oAquela fera marinha, / O Leviatǜ, de todas as obras criadas por\nDeus Ǹ a maior das criaturas vivas / Que nada nas correntes do oceano.■??\nPARA■SO PERDIDO ■?oAquele Leviatǜ, a maior das criaturas vivas, nas\nprofundezas, / Estirado como um promont■rio, dorme ou nada, / E parece\na terra em movimento; e com suas guelras / Inala, e sua respira■ǜo exala\num oceano.■?? IBID. ■?oAs poderosas baleias que nadam em um oceano de ǭguas\ne tǦm um oceano de ■leo nadando dentro delas.■?? FULLER, O ESTADO PROFANO E\nSAGRADO ■?oPerto de algum promont■rio jaz / O imenso Leviatǜ cuidando de\nsuas presas, / Sem lhes dar oportunidade as engole, / E elas se perdem nas\nmand■bulas abertas.■?? DRYDEN, ANNUS MIRABILIS ■?oEnquanto a baleia flutua ■ popa\ndo navio, eles cortam sua cabe■a e a rebocam com um bote para tǜo perto\nda praia quanto poss■vel; mas ela fica encalhada em doze ou treze pǸs de\nǭgua.■?? THOMAS EDGE, DEZ VIAGENS A SPITZBERGEN, EM PURCHAS ■?oNo caminho viram\nmuitas baleias divertindo-se no oceano, enquanto pulverizavam a ǭgua\ncom seus respiradouros e ventas que a natureza colocou em seus ombros.■??\nVIAGENS DE SIR T. HERBERT PARA ■SIA E ■FRICA, HARRIS COLL. ■?oAvistaram ali um bando tǜo\nimenso de baleias, que foram for■ados a prosseguir com muita cautela,\npor medo de que o navio fosse abalroado por alguma delas.■?? SCHOUTEN, SEXTA\nCIRCUNAVEGA■ǟO ■?oPartimos do Elba, vento NE, no navio chamado Jonas na\nBaleia. (■?■ Dizem alguns que a baleia nǜo pode abrir a boca, mas isso Ǹ\numa fǭbula. (■?■ Sobem com freqǬǦncia aos mastros para ver se avistam a\nbaleia, pois o primeiro a descobrir recebe um ducado pelo esfor■o. (■?■\nContaram-me de uma baleia aprisionada perto de Hitland, que tinha mais\nde uma barrica de arenques na barriga. (■?■ Um de nossos arpoadores\ncontou-me haver apanhado uma baleia em Spitzbergen que era toda\nbranca.■?? UMA VIAGEM ■ GROENL■NDIA, A.D. 1671, HARRIS COLL. ■?oVǭrias baleias vieram a\nesta costa (Fife). Em 1652, uma baleia medindo oitenta pǸs de\ncomprimento, que (assim me informaram) alǸm de uma grande\nquantidade de ■leo, proporcionou 500 pesos de ossos. As mand■bulas\nservem de portǜo para o jardim de Pitfirren.■?? SIBBALD, FIFE AND KINROSS\n■?oConcordei em tentar dominar e matar este Cachalote, pois jamais soube\nque algum dessa espǸcie tivesse sido morto por algum homem, tal a sua\nferocidade e rapidez.■?? CARTA DAS BERMUDAS DE RICHARD STRAFFORD. PHIL. TRANS. A.D. 1668.\n■?oAs baleias no mar / ■ voz de Deus obedecem.■?? N. E. PRIMER ■?oVimos tambǸm\numa abundǽncia de baleias enormes, havendo em maior quantidade\nnestes Mares do Sul, se assim posso dizer, na propor■ǜo de cem para uma;\ndo que as hǭ ao norte de n■s.■?? A VIAGEM AO REDOR DO MUNDO DO CAPIT■O COWLEY, A.D.\n1729. ■?oe o hǭlito da baleia Ǹ freqǬentemente acompanhado de um cheiro\ntǜo insuportǭvel que causa uma perturba■ǜo no cǸrebro.■?? ULLOA, A AM■RICA DO\nSUL ■?oA cinqǬenta s■lfides de destaque / E de saias, o importante dever foi\nconfiado. / Soubemos ter o muro de sete dobras sucumbido ao ataque, /\nApesar de com aros forrado e em ossos da baleia armado.■?? [POPE,] A MECHA\nROUBADA ■?oSe compararmos a magnitude dos animais da terra com os que\nvivem nas profundezas, veremos que parecerǜo desprez■veis na\ncompara■ǜo. A baleia Ǹ sem dǧvida o maior animal da cria■ǜo.■?? GOLDSMITH,\nHIST■RIA NATURAL ■?oSe escreveres uma fǭbula para os peixinhos, faz com que\nfalem como grandes baleias.■?? GOLDSMITH A JOHNSON ■?o■ tarde vimos o que\nparecia ser um rochedo, mas descobrimos ser uma baleia morta, que\nalguns asiǭticos haviam matado e estavam rebocando para a praia. Eles\npareciam se esfor■ar para se esconder atrǭs da baleia, para nǜo serem\nvistos por n■s.■?? COOK, VIAGENS ■?oAs maiores baleias eles raramente ousam\natacar. Eles tǦm tanto medo de algumas delas, que receiam dizer seus\nnomes e quando vǜo ao mar levam estrume, calcǭrio, jun■pero e outras\ncoisas do mesmo tipo em seus botes para assustǭ-las e impedir que se\naproximem.■?? UNO VON TROIL, CARTAS SOBRE A VIAGEM DE BANKS E SOLANDER ■ ISL■NDIA EM\n1772 ■?oO cachalote encontrado pelos nativos de Nantucket Ǹ um animal\nferoz e agitado, que exige uma enorme coragem e audǭcia dos\npescadores.■?? MEMORIAL SOBRE A BALEIA, DE THOMAS JEFFERSON PARA O MINISTRO FRANC■S EM\n1778 ■?oE pergunto-vos, senhor, que se lhe pode comparar nesse mundo?■??\nEDMUND BURKE, REFER■NCIA NO PARLAMENTO ■ PESCA DE BALEIAS EM NANTUCKET ■?oA Espanha:\numa grande baleia ancorada nas praias da Europa.■?? EDMUND BURKE (EM ALGUMA\nPARTE) ■?oUm dǸcimo dos rendimentos regulares do rei, que se dizem\nbaseados no fato de ele guardar e proteger os mares dos piratas e ladr■es,\nǸ o direito aos peixes reais, que sǜo a baleia e o esturjǜo. Estes, quando\natirados ■ praia ou apanhados perto da costa, sǜo propriedade do rei.■??\nBLACKSTONE ■?oEm breve para o jogo da morte se dirige a tripula■ǜo: /\nRodmond levanta sobre a cabe■a com exatidǜo, / Atento ao seu objetivo, o\narpǜo de a■o.■?? FALCONER, O NAUFR■GIO ■?oLuziam o telhado, o pinǭculo e o\ncampanǭrio / E no cǸu voava um foguete, / Para suspender seu fogo\nefǦmero / Em toda a ab■bada celeste. / / Assim, comparando o fogo com a\nǭgua, / O oceano nas alturas / Levantado pela baleia, / Para expressar sua\nestranha alegria.■?? COWPER, SOBRE A VISITA DA RAINHA A LONDRES ■?oDe quarenta a\nsessenta litros de sangue sǜo lan■ados do cora■ǜo de uma vez, com\nenorme velocidade.■?? RELATO DE JOHN HUNTER SOBRE A DISSECCA■ǟO DE UMA BALEIA\n(PEQUENA) ■?oA aorta da baleia Ǹ de diǽmetro maior do que o cano principal do\nsistema hidrǭulico da Torre de Londres, e a ǭgua que passa por ali tem\nmenos ■mpeto e velocidade do que o sangue que jorra de seu cora■ǜo.■??\nPALEY, TEOLOGIA ■?oA baleia Ǹ um animal mam■fero sem patas traseiras.■?? BARǟO\nCUVIER ■?oA 40 graus de latitude sul avistamos os cachalotes, mas nǜo\npegamos nenhum antes do primeiro de maio, quando o mar estava\ncoberto deles.■?? COLNETT, VIAGEM COM O PROP■SITO DE FOMENTAR A PESCA DOS CACHALOTES\n■?oNo livre elemento sob mim nadavam, / Deslizavam e mergulhavam,\nbrincando, ca■ando, brigando / Peixes de todas as cores, formas e tipos; /\nQue a l■ngua nǜo pode pintar e os marinheiros / Nunca tinham visto;\ndesde o terr■vel Leviatǜ / AtǸ os milh■es de insetos que povoam as ondas: /\nReunidos em imensos cardumes, como ilhas flutuantes, / Levados por\nmisteriosos instintos atravǸs da erma / E isolada regiǜo, embora de todos\nos lados / Os atacassem inimigos vorazes, / Baleias, tubar■es e monstros\narmados na cabe■a ou na boca, / Com espadas, serrotes, chifres em\nespirais ou presas curvas.■?? MONTGOMERY, O MUNDO ANTES DO DIL■VIO ■?oIo! Peǜ! Io!\nCantai. / Ao rei do povo p■sceo. / Cachalote mais poderoso / Nǜo hǭ em\ntodo o vasto Atlǽntico; / Nenhum peixe mais portentoso, / Circula ao redor\ndo mar ■rtico.■?? CHARLES LAMB, O TRIUNFO DA BALEIA ■?oNo ano de 1690, algumas\npessoas estavam numa colina observando baleias a correr e a brincar,\nquando alguǸm, apontando para o mar, disse: ali Ǹ o pasto verde onde os\nnetos de nossos filhos irǜo se alimentar.■?? OBED MACY, HIST■RIA DE NANTUCKET\n■?oConstru■ uma casa para Susan e para mim, e fiz um portǜo com a forma\nde um arco g■tico, usando os ossos da mand■bula da baleia.■?? HAWTHORNE,\nCONTOS NARRADOS DUAS VEZES ■?oEla veio encomendar um monumento para seu\nprimeiro amor, morto por uma baleia, no oceano Pac■fico, hǭ nǜo menos\nde quarenta anos.■?? IBIDEM ■?oNǜo, senhor, Ǹ uma baleia franca, respondeu\nTom. Eu a vi cuspir, lan■ou para o ar um lindo par de arco-■ris, desses que\nqualquer cristǜo gostaria de ver. Uma verdadeira barrica de ■leo era ela!■??\nCOOPER, O PILOTO ■?oTrouxeram os jornais e lemos na Berlin Gazette que as\nbaleias tinham sido encenadas ali.■?? ECKERMANN, CONVERSAS COM GOETHE ■?oMeu\nDeus! Sr. Chace, o que estǭ acontecendo?■?? Respondi, ■?oacabamos de ser\ndestro■ados por uma baleia.■?? NARRATIVA DO NAUFR■GIO DA BALEEIRA ESSEX DE\nNANTUCKET, QUE FOI ATACADA E POR FIM DESTRU■DA POR UM ENORME CACHALOTE NO OCEANO\nPAC■FICO. POR OWEN CHACE DE NANTUCKET, PRIMEIRO PILOTO DO REFERIDO NAVIO. NOVA YORK, 1821\n■?oCerta noite p■s-se na enxǭrcia um marinheiro, / O vento soprava ameno; /\nOra claro, ora apagado, o luar estava pǭlido, / E o f■sforo brilhava na\nesteira da baleia, / Enquanto ela se afastava oceano afora.■?? ELIZABETH OAKES\nSMITH ■?oA quantidade de corda retirada dos botes encarregados de capturar\naquela ǧnica baleia era de 10.440 jardas ou quase seis milhas inglesas. (■?■\n■s vezes a baleia agita sua enorme cauda no ar, que, semelhante a um\na■oite, ressoa a uma distǽncia de trǦs ou quatro milhas.■?? SCORESBY\n■?oEnlouquecido pela agonia sofrida nos renovados ataques, o furioso\ncachalote fica rolando; levanta sua enorme cabe■a e com a mand■bula\nescancarada abocanha tudo ■ sua volta; atira a cabe■a contra os botes, que\nsǜo empurrados para a frente com enorme rapidez e ■s vezes sǜo\ntotalmente destru■dos. (■?■ ■ motivo de grande espanto que as\nconsidera■■es sobre os hǭbitos de um animal tǜo interes",
                    "output_type": "stream"
                },
                {
                    "name": "stdout",
                    "text": "sante e tǜo\nimportante do ponto de vista comercial (como o cachalote) tenham sido\ntǜo negligenciadas, ou que tenham exercido tǜo pouca curiosidade nos\ninǧmeros e, muitos deles, competentes observadores, que nos ǧltimos\nanos tǦm tido as mais abundantes e mais adequadas oportunidades de\ntestemunhar os seus costumes.■?? THOMAS BEALE, HIST■RIA DO CACHALOTE, 1839 ■?oO\nCachalot (cachalote) nǜo s■ estǭ mais bem armado do que a Baleia Franca\n(Baleia da Groenlǽndia ou verdadeira), por ter uma arma formidǭvel em\ncada extremidade do corpo, como tambǸm demonstra freqǬentemente a\ndisposi■ǜo de empregar tais armas de modo ofensivo, a um tempo tǜo\nastuto, arrojado e maldoso, que pode ser julgado o ataque mais perigoso\nde todas as espǸcies conhecidas de baleias.■?? FREDERICK DEBELL BENNETT, VIAGEM DE\nCA■A ■S BALEIAS AO REDOR DO MUNDO, 1840 13 de Outubro. ■?oLǭ ela sopra■??, gritaram\ndo mastro. ■?oOnde?■??, perguntou o capitǜo. ■?oA trǦs pontos da proa, a\nsotavento, senhor.■?? ■?oSegura o leme. Firme!■?? ■?oFirme, senhor.■?? ■?oGajeiro!\nAinda avistas a baleia?■?? ■?oSim, sim, senhor! Um baleal! Lǭ ela sopra! Lǭ ela\ni\nque eram costelas de baleias.■?? CONTOS DE UM VIAJANTE BALEEIRO NO OCEANO ■RTICO\n■?oS■ quando os botes voltaram da ca■a ■s baleias foi que os brancos viram\nseu navio na posse sangrenta dos selvagens que embarcaram com a\ntripula■ǜo.■?? NOT■CIA DE JORNAL SOBRE A TOMADA E A RETOMADA DA BALEEIRA HOBOMACK\n■?oSabe-se que das tripula■■es que comp■em os navios baleeiros (norteamericanos) muito poucos voltam a bordo dos mesmos navios em que\npartiram.■?? CRUZEIRO EM UMA BALEEIRA ■?oDe repente uma massa poderosa\nemergiu das ǭguas e se lan■ou perpendicularmente no ar. Era uma baleia.■??\nMIRIAM COFFIN OU O PESCADOR DE BALEIAS ■?oA Baleia Ǹ arpoada, certo; mas pense em\ncomo vocǦ lidaria com um poderoso potro indomǭvel que estivesse com\napenas uma simples corda amarrada na raiz de seu rabo.■?? UM CAP■TULO SOBRE A\nPESCA DE BALEIAS EM RIBS AND TRUCKS ■?oEm certa ocasiǜo vi dois desses monstros\n(baleias), provavelmente um macho e uma fǦmea, nadando devagar, um\nap■s o outro, a menos de uma pedrada de distǽncia da praia■?? (Terra do\nFogo), ■?osobre a qual uma faia estendia suas ramagens.■?? DARWIN, VIAGEM DE UM\nNATURALISTA ■?o■?~Todos ■ popa!■?T exclamou o piloto, quando, ao virar a cabe■a,\nviu as mand■bulas escancaradas de um enorme cachalote pr■ximo ■ ponta\ndo bote, amea■ando-o de imediata destrui■ǜo: ■?~Todos ■ popa, por suas\nvidas!■?T■?? WHARTON, O MATADOR DE BALEIAS ■?oSempre alegres, rapazes, nǜo percam a\nveia, / Enquanto o bravo arpoador a baleia golpeia!■?? CAN■ǟO DE NANTUCKET\n■?oOh, preciosa baleia, com vento ou temporal, / Sempre no oceano seu lar /\nSerǭ um gigante de for■a descomunal, / E a Soberana do infinito mar.■??\nCAN■ǟO DA BALEIA\n",
                    "output_type": "stream"
                }
            ],
            "execution_count": 6
        }
    ]
}