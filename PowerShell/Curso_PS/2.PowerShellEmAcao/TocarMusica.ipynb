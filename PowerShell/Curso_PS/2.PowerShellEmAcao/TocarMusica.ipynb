{
    "metadata": {
        "kernelspec": {
            "name": "powershell",
            "display_name": "PowerShell",
            "language": "powershell"
        },
        "language_info": {
            "name": "powershell",
            "codemirror_mode": "shell",
            "mimetype": "text/x-sh",
            "file_extension": ".ps1"
        }
    },
    "nbformat_minor": 2,
    "nbformat": 4,
    "cells": [
        {
            "cell_type": "markdown",
            "source": [
                "\\## Como tocar musica em power shell"
            ],
            "metadata": {
                "azdata_cell_guid": "8bf34c27-19ab-4ebe-b862-8345071a0bec"
            }
        },
        {
            "cell_type": "code",
            "source": [
                " Add-Type -AssemblyName PresentationCore\r\n",
                "\r\n",
                "\r\n",
                "$player = New-Object System.Windows.Media.MediaPlayer\r\n",
                "\r\n",
                "\r\n",
                "$player.Open('D:\\Wesley\\VersionCode\\Nexxus.Beatme\\Development\\Source\\Resources\\Kalimba.mp3')\r\n",
                "$player.play()"
            ],
            "metadata": {
                "azdata_cell_guid": "5e1f537f-4a06-43b0-97b0-85dce1d9e196",
                "tags": []
            },
            "outputs": [
                {
                    "name": "stdout",
                    "text": "",
                    "output_type": "stream"
                }
            ],
            "execution_count": 10
        },
        {
            "cell_type": "code",
            "source": [
                "$player.Volume = 0.9  # 1 é o valor maximo"
            ],
            "metadata": {
                "azdata_cell_guid": "0058e157-331b-474b-92ea-a2ac09a7862d"
            },
            "outputs": [
                {
                    "name": "stdout",
                    "text": "",
                    "output_type": "stream"
                }
            ],
            "execution_count": 15
        },
        {
            "cell_type": "code",
            "source": [
                "$player.stop()"
            ],
            "metadata": {
                "azdata_cell_guid": "3e53ebe6-6670-4b0b-8e8c-cc378a919523"
            },
            "outputs": [
                {
                    "name": "stdout",
                    "text": "",
                    "output_type": "stream"
                }
            ],
            "execution_count": 18
        },
        {
            "cell_type": "code",
            "source": [
                "$player.play()\r\n",
                "\r\n",
                "Start-Sleep -Seconds 5\r\n",
                "\r\n",
                "$player.stop()"
            ],
            "metadata": {
                "azdata_cell_guid": "36fb905c-0935-4a72-b35f-f07ca393a1a6"
            },
            "outputs": [
                {
                    "name": "stdout",
                    "text": "",
                    "output_type": "stream"
                }
            ],
            "execution_count": 19
        }
    ]
}