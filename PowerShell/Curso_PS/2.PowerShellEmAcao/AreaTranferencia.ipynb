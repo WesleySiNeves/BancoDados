{
    "metadata": {
        "kernelspec": {
            "name": "powershell",
            "display_name": "PowerShell",
            "language": "powershell"
        },
        "language_info": {
            "name": "powershell",
            "codemirror_mode": "shell",
            "mimetype": "text/x-sh",
            "file_extension": ".ps1"
        }
    },
    "nbformat_minor": 2,
    "nbformat": 4,
    "cells": [
        {
            "cell_type": "markdown",
            "source": [
                "\\## Inserindo dados na Area de transferencia"
            ],
            "metadata": {
                "azdata_cell_guid": "d89db4cf-de76-44e3-8387-b92f4eb958f1"
            }
        },
        {
            "cell_type": "code",
            "source": [
                "\"Wesley Neves \" | Set-Clipboard"
            ],
            "metadata": {
                "azdata_cell_guid": "55b170ba-cd17-41c0-b3df-985c4dd82950"
            },
            "outputs": [
                {
                    "name": "stdout",
                    "text": "",
                    "output_type": "stream"
                }
            ],
            "execution_count": 1
        },
        {
            "cell_type": "code",
            "source": [
                "Set-Clipboard \"Karina de lima oliveira\""
            ],
            "metadata": {
                "azdata_cell_guid": "80a76c27-ed41-4bcb-97a9-e8d15760da27"
            },
            "outputs": [
                {
                    "name": "stdout",
                    "text": "",
                    "output_type": "stream"
                }
            ],
            "execution_count": 2
        },
        {
            "cell_type": "code",
            "source": [
                "$texto_digitado = Read-Host \"Digite um texto:\"\r\n",
                "\r\n",
                "## tranforma o texto digitado nos valores da tabela ascii\r\n",
                "$texto_ascii = [int[]][char[]]$texto_digitado\r\n",
                "\r\n",
                "$texto_ascii"
            ],
            "metadata": {
                "azdata_cell_guid": "2ff041d6-e51b-4fda-a7b1-46963ca0dd58"
            },
            "outputs": [
                {
                    "name": "stdout",
                    "text": "Read-Host : O Windows PowerShell est■ no modo NonInteractive. A funcionalidade Read e Prompt n■ est■ dispon■vel.\nNo linha:2 caractere:19\n+ $texto_digitado = Read-Host \"Digite um texto:\"\n+                   ~~~~~~~~~~~~~~~~~~~~~~~~~~~~\n    + CategoryInfo          : InvalidOperation: (:) [Read-Host], PSInvalidOperationException\n    + FullyQualifiedErrorId : InvalidOperation,Microsoft.PowerShell.Commands.ReadHostCommand\n \n",
                    "output_type": "stream"
                }
            ],
            "execution_count": 3
        },
        {
            "cell_type": "markdown",
            "source": [
                "\\## Passar  o texto para base64"
            ],
            "metadata": {
                "azdata_cell_guid": "f4c74246-abed-4e2b-8ec1-4870dec0adfd"
            }
        },
        {
            "cell_type": "code",
            "source": [
                "$texto_base_64 = [System.Convert]::ToBase64String($texto_ascii)\r\n",
                "\r\n",
                "\r\n",
                "Set-Clipboard $texto_base_64"
            ],
            "metadata": {
                "azdata_cell_guid": "02364f60-7894-4084-a890-a6d8832c00b7"
            },
            "outputs": [],
            "execution_count": null
        }
    ]
}