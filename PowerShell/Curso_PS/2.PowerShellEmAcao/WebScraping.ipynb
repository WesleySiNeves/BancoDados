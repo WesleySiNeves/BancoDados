{
    "metadata": {
        "kernelspec": {
            "name": "powershell",
            "display_name": "PowerShell",
            "language": "powershell"
        },
        "language_info": {
            "name": "powershell",
            "codemirror_mode": "shell",
            "mimetype": "text/x-sh",
            "file_extension": ".ps1"
        }
    },
    "nbformat_minor": 2,
    "nbformat": 4,
    "cells": [
        {
            "cell_type": "code",
            "source": [
                "Invoke-WebRequest  -Uri 'http://www.transparencia.df.gov.br/#/despesas/acao' | $dados"
            ],
            "metadata": {
                "azdata_cell_guid": "d088c95d-896b-4f6d-9978-55e7639f3498"
            },
            "outputs": [
                {
                    "name": "stdout",
                    "text": "\n\nStatusCode        : 200\nStatusDescription : OK\nContent           : <!doctype html>\n                    <html ng-app=\"portal\" ng-class=\"{'ful",
                    "output_type": "stream"
                },
                {
                    "name": "stdout",
                    "text": "l-page-map': isFullPageMap}\">\n                      <head>\n                        <meta charset=\"utf-8\">\n                        <meta name=\"google-site-verification\" content=\"AEXQgW_5Ra_dxoE7n4sMKX42Ti-BVa...\nRawContent        : HTTP/1.1 200 OK\n                    Accept-Ranges: bytes\n                    Content-Length: 3530\n                    Content-Type: text/html\n                    Date: Thu, 07 Jan 2021 00:45:33 GMT\n                    ETag: \"307c662c69e4d61:0\"\n                    Last-Modified: Wed, 06 Jan 2021 20:19:02 GMT\n                    Serv...\nForms             : {}\nHeaders           : {[Accept-Ranges, bytes], [Content-Length, 3",
                    "output_type": "stream"
                },
                {
                    "name": "stdout",
                    "text": "530], [Content-Type, text/html], [Date, Thu, 07 Jan \n                    2021 00:45:33 GMT]...}\nImages            : {}\nInputFields       : {}\nLinks             : {@{innerHTML=atualize-o; innerText=atualize-o; outerHTML=<A \n                    href=\"http://browsehappy.com/\">atualize-o</A>; outerText=atualize-o; tagName=A; \n                    href=http://browsehappy.com/}}\nParsedHtml        : mshtml.HTMLDocumentClass\nRawContentLength  : 3530\n\n\n\n. {\n>> Invoke-WebRequest  -Uri 'http://www.transparencia.df.gov.br/#/despesas/acao' | $dados\n>> }\n>> \nNo linha:2 caractere:80\n+ ... t  -Uri 'http://www.transparencia.df.gov.br/#/despesas/acao' | $dados\n+                                                                    ~~~~~~\nExpress■s s■ permitidas apenas como o primeiro elemento de um pipeline.\n    + CategoryInfo          : ParserError: (:) [], ParentContainsErrorRecordException\n    + FullyQualifiedErrorId : ExpressionsMustBeFirstInPipeline\n \n",
                    "output_type": "stream"
                }
            ],
            "execution_count": 2
        },
        {
            "cell_type": "markdown",
            "source": [
                "\\## BAIXAR TODAS AS IMAGENS DE UM SITE"
            ],
            "metadata": {
                "azdata_cell_guid": "e9652330-142a-42f7-b7b8-b40d3a4f00e9"
            }
        },
        {
            "cell_type": "code",
            "source": [
                "$dados = Invoke-WebRequest -Uri 'https://br.depositphotos.com/stock-photos/planetas.html'  -UseBasicParsing\r\n",
                "\r\n",
                "$locais_url = $dados.Images.src\r\n",
                "\r\n",
                "\r\n",
                "\r\n",
                "$count = 0;\r\n",
                "\r\n",
                "foreach($url in  $locais_url ){\r\n",
                "\r\n",
                "    if($url -like '*jpg*')\r\n",
                "    {\r\n",
                "        Invoke-WebRequest  -Uri $url -OutFile C:\\Users\\wesley.neves\\Desktop\\Imagens\\imagem$count.jpg\r\n",
                "        $count +=1;  \r\n",
                "    }\r\n",
                "}"
            ],
            "metadata": {
                "azdata_cell_guid": "3af0597b-ded8-47b5-b68f-5824ad7b5a4c"
            },
            "outputs": [
                {
                    "name": "stdout",
                    "text": "Invoke-WebRequest : O servidor remoto retornou um erro: (403) Proibido.\nNo linha:2 caractere:10\n+ $dados = Invoke-WebRequest -Uri 'https://www.pexels.com/pt-br/'  -Use ...\n+          ~~~~~~~~~~~~~~~~~~~~~~~~~~~~~~~~~~~~~~~~~~~~~~~~~~~~~~~~~~~~\n    + CategoryInfo          : InvalidOperation: (System.Net.HttpWebRequest:HttpWebRequest) [Invoke-WebRequest], WebExc \n   eption\n    + FullyQualifiedErrorId : WebCmdletWebResponseException,Microsoft.PowerShell.Commands.InvokeWebRequestCommand\n \n",
                    "output_type": "stream"
                }
            ],
            "execution_count": 4
        }
    ]
}